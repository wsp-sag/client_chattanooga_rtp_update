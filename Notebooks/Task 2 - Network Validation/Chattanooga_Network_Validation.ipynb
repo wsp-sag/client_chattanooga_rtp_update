{
 "cells": [
  {
   "cell_type": "markdown",
   "metadata": {},
   "source": [
    "## Network Link-to-Link attribute Validation Checks\n",
    "\n",
    "Functions used to identify Link-to-Link pairs and compare values. This ncludes:\n",
    "- Single Attribute In-Link / Out-Link checks\n",
    "- Multiple Attribute In-Link / Out-Link checks"
   ]
  },
  {
   "cell_type": "markdown",
   "metadata": {},
   "source": [
    "#### Import Libraries "
   ]
  },
  {
   "cell_type": "code",
   "execution_count": null,
   "metadata": {},
   "outputs": [],
   "source": [
    "import os\n",
    "import geopandas as gpd\n",
    "import matplotlib.pyplot as plt\n",
    "import networkx as nx\n",
    "import numpy as np\n",
    "import pandas as pd\n",
    "# from nxviz import CircosPlot\n",
    "from shapely.geometry import LineString"
   ]
  },
  {
   "cell_type": "markdown",
   "metadata": {},
   "source": [
    "### Load Network data"
   ]
  },
  {
   "cell_type": "markdown",
   "metadata": {},
   "source": [
    "#### Load Network using 'IN_HIGHWAY': \n",
    "Only load links that are identified as part of the Highway Model Network"
   ]
  },
  {
   "cell_type": "code",
   "execution_count": null,
   "metadata": {},
   "outputs": [],
   "source": [
    "use_in_hwy = True"
   ]
  },
  {
   "cell_type": "markdown",
   "metadata": {},
   "source": [
    "#### Create Function: *segment_heading*: \n",
    "Calculate Heading for both Initial segment and Final segment of Link"
   ]
  },
  {
   "cell_type": "code",
   "execution_count": null,
   "metadata": {},
   "outputs": [],
   "source": [
    "def segment_heading(line, first_segment=True, flip=False):\n",
    "    if flip:\n",
    "        line = LineString(line.coords[::-1])\n",
    "    \n",
    "    segment = line.coords[:2] if first_segment else line.coords[-2:]\n",
    "    \n",
    "    from_pt = segment[0]\n",
    "    to_pt = segment[1]\n",
    "    \n",
    "    y_delta = to_pt[1] - from_pt[1]\n",
    "    x_delta = to_pt[0] - from_pt[0]\n",
    "\n",
    "    angle_radians = np.arctan2(y_delta, x_delta)\n",
    "    if angle_radians < 0:\n",
    "        angle_radians = 2 * np.pi + angle_radians;\n",
    "\n",
    "    # Deal with the angles being from East Counterclockwise to Northerly bearings\n",
    "    degrees = 90 - angle_radians * 180 / np.pi\n",
    "    if degrees < 0:\n",
    "        degrees = degrees + 360\n",
    "\n",
    "    return degrees"
   ]
  },
  {
   "cell_type": "markdown",
   "metadata": {},
   "source": [
    "#### Load Node and Line Network data from Shapefiles\n",
    "Use GeoPandas to load Geospatial data  \n",
    "Call function 'segment_heading' to calculate Heading"
   ]
  },
  {
   "cell_type": "code",
   "execution_count": null,
   "metadata": {},
   "outputs": [],
   "source": [
    "line_shp = gpd.read_file(os.path.join('..', '..', 'data', 'networks', 'client_provided', 'roadway', 'base_2014', 'Chatt_Master.shp')).to_crs(epsg=2274)\n",
    "node_shp = gpd.read_file(os.path.join('..', '..', 'data', 'networks', 'client_provided', 'roadway', 'base_2014', 'Chatt_Master_Node.shp')).to_crs(epsg=2274)\n",
    "\n",
    "if use_in_hwy: line_shp = line_shp[line_shp['IN_HIGHWAY']==1].copy()\n",
    "\n",
    "# Heading AB\n",
    "line_shp['AB_START_HEADING'] = line_shp['geometry'].apply(segment_heading, first_segment=True)\n",
    "line_shp['AB_END_HEADING'] = line_shp['geometry'].apply(segment_heading, first_segment=False)\n",
    "# Heading BA\n",
    "line_shp['BA_START_HEADING'] = line_shp['geometry'].apply(segment_heading, first_segment=True, flip=True)\n",
    "line_shp['BA_END_HEADING'] = line_shp['geometry'].apply(segment_heading, first_segment=False, flip=True)"
   ]
  },
  {
   "cell_type": "markdown",
   "metadata": {},
   "source": [
    "#### Define groupings"
   ]
  },
  {
   "cell_type": "code",
   "execution_count": null,
   "metadata": {},
   "outputs": [],
   "source": [
    "# FUNCCLASS FHWA Functional Classification Code\n",
    "funcclass_dict = {\n",
    "    1:'Rural Interstate',\n",
    "    2:'Rural Principal Arterial',\n",
    "    6:'Rural Minor Arterial',\n",
    "    7:'Rural Major Collector',\n",
    "    8:'Rural Minor Collector',\n",
    "    9:'Rural Local',\n",
    "    11:'Urban Interstate',\n",
    "    12:'Urban Freeway',\n",
    "    14:'Other Principal Arterial',\n",
    "    16:'Urban Minor Arterial',\n",
    "    17:'Urban Collector',\n",
    "    19:'Urban Local',\n",
    "    91:'1-Lane Roundabout',\n",
    "    92:'2-Lane Roundabout',\n",
    "    98:'Centroid Connector',\n",
    "    99:'Unmodeled'\n",
    "}\n",
    "interstate_fc_k = [1, 11, 12]\n",
    "interstate_fc_v = [funcclass_dict[c] for c in interstate_fc_k]\n",
    "interstate_df = pd.DataFrame(funcclass_dict.items(), columns=['CLASS_ID', 'CLASS_NAME'], dtype=str)\n",
    "\n",
    "\n",
    "# DOT_FC FHWA Revised Functional Classification Code\n",
    "dotfc_dict = {\n",
    "    1: 'Interstate',\n",
    "    2: 'Other Freeway / Expressway',\n",
    "    3: 'Other Principal Arterial',\n",
    "    4: 'Minor Arterial',\n",
    "    5: 'Major Collector',\n",
    "    6: 'Minor Collector',\n",
    "    7: 'Local',\n",
    "    20: 'Walk',\n",
    "    98: 'Centroid Connector',\n",
    "    99: 'Unmodeled'\n",
    "}\n",
    "dotfc_df = pd.DataFrame(dotfc_dict.items(), columns=['DOTCLASS_ID', 'DOTCLASS_NAME'], dtype=str)\n",
    "    \n",
    "\n",
    "# FC_AREA DOT functional area\n",
    "dotfcarea_dict = {\n",
    "    1: 'Rural',\n",
    "    2: 'Urban',\n",
    "}\n",
    "dotfcarea_df = pd.DataFrame(dotfcarea_dict.items(), columns=['AREA_ID', 'AREA_NAME'], dtype=str)"
   ]
  },
  {
   "cell_type": "markdown",
   "metadata": {},
   "source": [
    "### Build Network Graph"
   ]
  },
  {
   "cell_type": "markdown",
   "metadata": {},
   "source": [
    "#### Turn Two-Way Links into 2 One-Way Links for Directional Flow.\n",
    "#### Create Function: *directional_links*\n",
    "Keep AB Links and produce BA Links, carrying over link attributes based on the direction of flow."
   ]
  },
  {
   "cell_type": "code",
   "execution_count": null,
   "metadata": {},
   "outputs": [],
   "source": [
    "def directional_links(atts, line_shp):\n",
    "    dirs = {'keep':'AB', 'invert':'BA'}\n",
    "    dfs = {}\n",
    "    \n",
    "    for flow,d in dirs.items():\n",
    "        links = line_shp[line_shp['{}_LANES'.format(d)] > 0].copy()\n",
    "        rename_dict = {'{}{}'.format(d, a):a for a in atts}\n",
    "        links = links.rename(columns=rename_dict)\n",
    "        \n",
    "        if flow == 'invert':\n",
    "            links['A'] = links['TO_ID']\n",
    "            links['B'] = links['FROM_ID']\n",
    "            links = links.drop(columns=['FROM_ID', 'TO_ID']).rename(columns={'A': 'FROM_ID', 'B': 'TO_ID'})\n",
    "        \n",
    "        dfs['{}_links'.format(d)] = links\n",
    "    \n",
    "    links = pd.concat(dfs.values(), ignore_index=True)\n",
    "    \n",
    "    drop_dict = ['{}{}'.format(d, a) for a in atts for d in dirs.values()]\n",
    "    links = links.drop(columns=drop_dict)\n",
    "    \n",
    "    return links"
   ]
  },
  {
   "cell_type": "markdown",
   "metadata": {},
   "source": [
    "#### Generate Directional links with Attributes\n",
    "####  Call Function: *directional_links*\n",
    "Use list of Directional Attributes to carry over, e.g. 'AB_LANES' and 'BA_LANES', to '_LANES' "
   ]
  },
  {
   "cell_type": "code",
   "execution_count": null,
   "metadata": {},
   "outputs": [],
   "source": [
    "# List of Directional Attributes\n",
    "atts = [\n",
    "    '_LINKDIR',\n",
    "    '_LINKDTR',\n",
    "    '_LANES',\n",
    "    '_PARKING',\n",
    "    '_TRIMS',\n",
    "    '_AADT',\n",
    "    '_CAR_ADT',\n",
    "    '_SUT_ADT',\n",
    "    '_MUT_ADT',\n",
    "    '_BASEVOL',\n",
    "    '_AFFTIME',\n",
    "    '_AFFSPD',\n",
    "    '_UCDELAY',\n",
    "    '_DLYCAP',\n",
    "    '_AMCAP',\n",
    "    '_PMCAP',\n",
    "    '_BPRA',\n",
    "    '_BPRB',\n",
    "    '_START_HEADING',\n",
    "    '_END_HEADING'\n",
    "]\n",
    "# Generate Directional Links\n",
    "line_shp = directional_links(atts, line_shp)"
   ]
  },
  {
   "cell_type": "markdown",
   "metadata": {},
   "source": [
    "####  Build the Directional Graph: *g*\n",
    "#### Call Method: *nx.from_pandas_edgelist*"
   ]
  },
  {
   "cell_type": "code",
   "execution_count": null,
   "metadata": {},
   "outputs": [],
   "source": [
    "g = nx.from_pandas_edgelist(\n",
    "    line_shp,\n",
    "    source='FROM_ID',\n",
    "    target='TO_ID',\n",
    "    edge_attr=True,\n",
    "    create_using=nx.DiGraph()\n",
    ")\n",
    "\n",
    "assert nx.is_directed(g)"
   ]
  },
  {
   "cell_type": "markdown",
   "metadata": {},
   "source": [
    "### Link to Link validation Functions"
   ]
  },
  {
   "cell_type": "markdown",
   "metadata": {},
   "source": [
    "#### Create Function: *link_matcher_atts*: \n",
    "For each node in Network, match all combinations of In/ Out Links and return both In and Out values"
   ]
  },
  {
   "cell_type": "code",
   "execution_count": null,
   "metadata": {
    "scrolled": true
   },
   "outputs": [],
   "source": [
    "def link_matcher_atts(attributes, graph, edge_id='ID'):\n",
    "    heading = True if '_HEADING' in attributes else False\n",
    "    atts = []\n",
    "    atts.extend([a for a in attributes if a!='_HEADING'])\n",
    "\n",
    "    node_feed = []\n",
    "    node_not_in_network = 0\n",
    "\n",
    "    for node in node_shp['ID']:\n",
    "        if node not in g:\n",
    "#             print('Node not in network: {}'.format(node))\n",
    "            node_not_in_network += 1\n",
    "            continue\n",
    "\n",
    "        for i_o, i_d, i_data  in g.in_edges(node, data=True):\n",
    "            for o_o, o_d, o_data in g.out_edges(node, data=True):\n",
    "                if i_o == o_d and i_d == o_o:\n",
    "                    # This is just a U-Turn on the \"same\" link\n",
    "                    continue\n",
    "                    \n",
    "                data = [i_data, o_data]\n",
    "                values = [node, *[d[edge_id] for d in data], *[d[a] for a in atts for d in data]]\n",
    "                if heading: values.extend([i_data['_END_HEADING'], o_data['_START_HEADING']])\n",
    "                node_feed.append(values)\n",
    "                \n",
    "    # Generate Column names\n",
    "    dirs = ['in', 'out']\n",
    "    cols = ['node', *[ d+'_'+edge_id for d in dirs], *[ d+'_'+a for a in atts for d in dirs]]\n",
    "    if heading: cols.extend([ d+'__HEADING' for d in dirs])\n",
    "    \n",
    "#     print('Nodes Not in Network: {:,}'.format(node_not_in_network))\n",
    "    return pd.DataFrame(node_feed, columns=cols)"
   ]
  },
  {
   "cell_type": "markdown",
   "metadata": {},
   "source": [
    "#### Create Function: *attribute_change*: \n",
    "Calculate change in Attribute"
   ]
  },
  {
   "cell_type": "code",
   "execution_count": null,
   "metadata": {
    "scrolled": true
   },
   "outputs": [],
   "source": [
    "def attribute_change(network, attributes):\n",
    "    for att in attributes:\n",
    "        in_fld = 'in_{}'.format(att)\n",
    "        out_fld = 'out_{}'.format(att)\n",
    "        fld_diff = 'diff_{}'.format(att)\n",
    "#         abs_fld_diff = 'abs_diff_{}'.format(filter_name)\n",
    "    \n",
    "        if isinstance(network[in_fld][0], (int, float)):\n",
    "            network[fld_diff] = network[out_fld] - network[in_fld]\n",
    "        elif isinstance(network[in_fld][0], str):\n",
    "            network[fld_diff] = 'SAME' if network[out_fld].str == network[in_fld].str else 'CHANGES'\n",
    "\n",
    "    return network#.groupby([in_fld, out_fld]).count().reset_index()"
   ]
  },
  {
   "cell_type": "markdown",
   "metadata": {},
   "source": [
    "#### Create Function: *attribute_filtering*: \n",
    "Apply Attributes and Values difference to use as filters"
   ]
  },
  {
   "cell_type": "code",
   "execution_count": null,
   "metadata": {
    "scrolled": true
   },
   "outputs": [],
   "source": [
    "def attribute_filtering(network, att_filters):\n",
    "    for filter_name, filter_val in att_filters.items():\n",
    "        in_fld = 'in_{}'.format(filter_name)\n",
    "        out_fld = 'out_{}'.format(filter_name)\n",
    "        fld_diff = 'diff_{}'.format(filter_name)\n",
    "#         abs_fld_diff = 'abs_diff_{}'.format(filter_name)\n",
    "    \n",
    "        if isinstance(filter_val, (int, float)):\n",
    "            network = network[abs(network[fld_diff]) >= filter_val]\n",
    "        elif isinstance(filter_val, str):\n",
    "            network = network[(network[in_fld] == filter_val) | (network[out_fld] == filter_val)]\n",
    "\n",
    "    return network#.groupby([in_fld, out_fld]).count().reset_index()"
   ]
  },
  {
   "cell_type": "markdown",
   "metadata": {},
   "source": [
    "#### Create Function: *export_geo*: \n",
    "Export Geometry to Shapefile"
   ]
  },
  {
   "cell_type": "code",
   "execution_count": null,
   "metadata": {},
   "outputs": [],
   "source": [
    "# In/Out Long Table\n",
    "def export_geo(network, export_name, att_name):\n",
    "    fld_diff = 'diff_{}'.format(att_name)\n",
    "    \n",
    "    network = network.rename(columns={'out_ID':'ID'})\n",
    "\n",
    "    # geometries\n",
    "    geo_cols = ['ID', 'FROM_ID', 'geometry']\n",
    "    network = pd.merge(line_shp[geo_cols], network, left_on=['ID', 'FROM_ID'], right_on=['ID', 'node'])\n",
    "    network.drop(columns=['FROM_ID'], inplace=True)\n",
    "    \n",
    "    shp_export = os.path.join('..', '..', 'data', '{}_{}.shp'.format(export_name, '_'.join([n for n in att_name])))\n",
    "    network.to_file(shp_export)\n",
    "#     return network#.sort_values(by=fld_diff, ascending=False), shp_export\n",
    "    return network, shp_export"
   ]
  },
  {
   "cell_type": "markdown",
   "metadata": {},
   "source": [
    "#### Create Function: *summary_in_out*: \n",
    "Create function to aggregate In-link and Out-Link by Attribute and summarize by count"
   ]
  },
  {
   "cell_type": "code",
   "execution_count": null,
   "metadata": {},
   "outputs": [],
   "source": [
    "def summary_in_out(network, att, csv_name, filter_in=None, filter_out=None, return_summary = True, include_same_att=False):\n",
    "    in_att = 'in_{}'.format(*att)\n",
    "    out_att = 'out_{}'.format(*att)\n",
    "    \n",
    "    if include_same_att == False:\n",
    "        network = network[network[in_att]!=network[out_att]]\n",
    "        \n",
    "    if filter_in is not None: network = network[network[in_att].isin(filter_in)]\n",
    "    if filter_out is not None: network = network[network[out_att].isin(filter_out)]\n",
    "        \n",
    "    if return_summary == True:\n",
    "        network = network.groupby([in_att, out_att])[in_att].count().reset_index(name='count')\n",
    "    \n",
    "    csv_export = os.path.join('..', '..', 'data', '{}_{}_SUMMARY.csv'.format(csv_name, *attribute_name))\n",
    "    network.to_csv(csv_export, index=False)\n",
    "    print('Table exported to {}'.format(csv_export))\n",
    "\n",
    "    return network"
   ]
  },
  {
   "cell_type": "markdown",
   "metadata": {},
   "source": [
    "#### Create Function: *compare_attributes*: \n",
    "Create function to call Link-to-Link attribute comparison"
   ]
  },
  {
   "cell_type": "code",
   "execution_count": null,
   "metadata": {},
   "outputs": [],
   "source": [
    "def compare_attributes(attribute_names, attribute_filters, export_geometry, export_name, heading_filter=None):\n",
    "    network = link_matcher_atts(attribute_names, graph=g)\n",
    "    network = attribute_change(network, attribute_names)\n",
    "    network = attribute_filtering(network,\n",
    "                                attribute_filters,\n",
    "                                )\n",
    "    try:\n",
    "        if isinstance(heading_filter, (int, float)): network = network[abs(network['diff__HEADING'])<=heading_filter]\n",
    "    except KeyError:\n",
    "        print('Warning: HEADING values not found, heading_filter not applied')\n",
    "\n",
    "    csv_export = os.path.join('..', '..', 'data', '{}_{}.csv'.format(export_name, '_'.join([n for n in attribute_names])))\n",
    "    network.to_csv(csv_export, index=False)\n",
    "    \n",
    "    # Print\n",
    "    print_txt = 'Total network links with change in {}: {:,}'\n",
    "    print(print_txt.format(', '.join([n for n in attribute_names]),\n",
    "                           len(network)\n",
    "                           ))\n",
    "    print('Table exported to {}'.format(csv_export))\n",
    "    if export_geometry:\n",
    "        network, shp_export = export_geo(network, export_name, attribute_filters)\n",
    "        print('Shapefile exported to {}'.format(shp_export))\n",
    "\n",
    "    return network.drop(columns=['geometry'])"
   ]
  },
  {
   "cell_type": "markdown",
   "metadata": {},
   "source": [
    "#### Create Function: *compare_attribute_single*: \n",
    "Create function to call Link-to-Link for single attribute comparison"
   ]
  },
  {
   "cell_type": "code",
   "execution_count": null,
   "metadata": {},
   "outputs": [],
   "source": [
    "### RUN FUNCTIONS\n",
    "def compare_attribute_single(att_name, export_name, in_att_filters, out_att_filters, return_summary, include_same_att):\n",
    "    network = link_matcher_atts(att_name, graph=g)\n",
    "\n",
    "    network = summary_in_out(network,\n",
    "                             att_name,\n",
    "                             export_name,\n",
    "                             in_att_filters,\n",
    "                             out_att_filters,\n",
    "                             return_summary,\n",
    "                             include_same_att\n",
    "                             )\n",
    "    \n",
    "    print_txt = 'Total records for {}: {:,}'\n",
    "    print(print_txt.format(*att_name, len(network)))\n",
    "    \n",
    "    if return_summary == False:\n",
    "        network, shp_export = export_geo(network, export_name, att_name)\n",
    "        print('Shapefile exported to {}'.format(shp_export))\n",
    "        \n",
    "    return network#.astype(int)"
   ]
  },
  {
   "cell_type": "markdown",
   "metadata": {},
   "source": [
    "## Run Network VALIDATION TESTS\n",
    "Use Heading ('_HEADING') to calculate deviation of In-Link(Final Segment) and Out-Link (Initial Segment)\n"
   ]
  },
  {
   "cell_type": "markdown",
   "metadata": {},
   "source": [
    "### Link Length\n",
    "Compare Length Coded value and Length Calculated value (from Geometry)\n",
    "\n",
    "Projected CRS: EPSG:2274  \n",
    "Name: NAD83 / Tennessee (ftUS)  \n",
    "Area of Use: USA - Tennessee\n",
    "Coordinate Operation:  \n",
    " -name: SPCS83 Tennessee zone (US Survey feet)  \n",
    " -method: Lambert Conic Conformal (2SP)  "
   ]
  },
  {
   "cell_type": "code",
   "execution_count": null,
   "metadata": {},
   "outputs": [],
   "source": [
    "line_shp_len = line_shp[['ID', 'LENGTH', 'geometry']].copy()\n",
    "\n",
    "line_shp_len['LENGTH_GEO'] = line_shp_len['geometry'].length / 5280\n",
    "line_shp_len['LENGTH_DIFF'] = (line_shp_len['LENGTH_GEO'] - line_shp_len['LENGTH'])  / line_shp_len['LENGTH']\n",
    "line_shp_len[['LENGTH', 'LENGTH_GEO', 'LENGTH_DIFF']].describe()"
   ]
  },
  {
   "cell_type": "markdown",
   "metadata": {},
   "source": [
    "### Functional Class Coding\n",
    "Functional Class Code and Functional Class Name comparison validation: FUNCCLASS and FUNC_CLASS\n",
    "Join FUNCCLASS to FHWA Functional Classification Code"
   ]
  },
  {
   "cell_type": "code",
   "execution_count": null,
   "metadata": {
    "scrolled": false
   },
   "outputs": [],
   "source": [
    "check_columns = ['FUNCCLASS', 'FUNC_CLASS']\n",
    "export_name = 'FunctionalClass_coding'\n",
    "\n",
    "### RUN CHECK\n",
    "report = line_shp[check_columns].copy()\n",
    "report['FUNCCLASS'] =  pd.to_numeric(report['FUNCCLASS'], errors='coerce').astype('Int64').astype(str)\n",
    "\n",
    "report = report.fillna('EMPTY')\n",
    "report = report.groupby(check_columns)['FUNCCLASS'].count().reset_index(name='count')\n",
    "\n",
    "\n",
    "\n",
    "report = pd.merge(report, interstate_df, left_on='FUNCCLASS', right_on='CLASS_ID', how='left')\n",
    "\n",
    "csv_export = os.path.join('..', '..', 'data', '{}_{}.csv'.format(export_name, '_'.join([n for n in check_columns])))\n",
    "report.to_csv(csv_export, index=False)\n",
    "print('Table exported to {}'.format(csv_export))\n",
    "\n",
    "report"
   ]
  },
  {
   "cell_type": "markdown",
   "metadata": {},
   "source": [
    "### DOT Functional Class Coding\n",
    "Functional Class Code and Functional Class Name comparison validation: DOT_FC and DOT_FCAREA  \n",
    "Join DOT_FC to DOT_FC FHWA Revised Functional Classification Code  \n",
    "Join DOT_FCAREA to Functional Area Name (Rural, urban)"
   ]
  },
  {
   "cell_type": "code",
   "execution_count": null,
   "metadata": {},
   "outputs": [],
   "source": [
    "check_columns = ['DOT_FC', 'DOT_FCAREA']\n",
    "export_name = 'FunctionalClass_coding'\n",
    "\n",
    "### RUN CHECK\n",
    "report = line_shp[check_columns].copy()\n",
    "\n",
    "### JOIN TO CLASS DICTIONARIES\n",
    "report['DOT_FC'] =  pd.to_numeric(report['DOT_FC'], errors='coerce').astype('Int64').astype(str)\n",
    "report = report.fillna('EMPTY')\n",
    "report = report.groupby(check_columns)['DOT_FC'].count().reset_index(name='count')\n",
    "report = pd.merge(report, dotfc_df, left_on='DOT_FC', right_on='DOTCLASS_ID', how='left')\n",
    "\n",
    "report['DOT_FCAREA'] =  pd.to_numeric(report['DOT_FCAREA'], errors='coerce').astype('Int64').astype(str)\n",
    "report = pd.merge(report, dotfcarea_df, left_on='DOT_FCAREA', right_on='AREA_ID', how='left')\n",
    "\n",
    "### PIVOT TABLE\n",
    "report = report.pivot_table(index=['DOT_FC', 'DOTCLASS_NAME'], \n",
    "                            columns='AREA_NAME', \n",
    "                            values='count').reset_index().rename_axis('', axis=1)\n",
    "\n",
    "### EXPORT\n",
    "csv_export = os.path.join('..', '..', 'data', '{}_{}.csv'.format(export_name, '_'.join([n for n in check_columns])))\n",
    "report.to_csv(csv_export, index=False)\n",
    "print('Table exported to {}'.format(csv_export))\n",
    "\n",
    "report"
   ]
  },
  {
   "cell_type": "markdown",
   "metadata": {},
   "source": [
    "### Functional Class to DOT Functional Class Coding\n",
    "Functional Class Code and DOT Functional Class Code comparison validation: FUNCCLASS and DOT_FC  "
   ]
  },
  {
   "cell_type": "code",
   "execution_count": null,
   "metadata": {},
   "outputs": [],
   "source": [
    "check_columns = ['FUNCCLASS', 'DOT_FC']\n",
    "export_name = 'FunctionalClass_coding'\n",
    "\n",
    "### RUN CHECK\n",
    "report = line_shp[check_columns].copy()\n",
    "\n",
    "### JOIN TO CLASS DICTIONARIES\n",
    "\n",
    "report['FUNCCLASS'] =  pd.to_numeric(report['FUNCCLASS'], errors='coerce').astype('Int64').astype(str)\n",
    "report['DOT_FC'] =  pd.to_numeric(report['DOT_FC'], errors='coerce').astype('Int64').astype(str)\n",
    "report = report.fillna('EMPTY')\n",
    "report = report.groupby(check_columns)['FUNCCLASS'].count().reset_index(name='count')\n",
    "\n",
    "report = pd.merge(report, interstate_df, left_on='FUNCCLASS', right_on='CLASS_ID', how='left')\n",
    "report = pd.merge(report, dotfc_df, left_on='DOT_FC', right_on='DOTCLASS_ID', how='left')\n",
    "\n",
    "# ### PIVOT TABLE\n",
    "# report = report.pivot_table(index=['FUNCCLASS', 'CLASS_NAME'], \n",
    "#                             columns=['DOT_FC', 'DOTCLASS_NAME'], \n",
    "#                             values='count').fillna('')\n",
    "\n",
    "### EXPORT\n",
    "csv_export = os.path.join('..', '..', 'data', '{}_{}.csv'.format(export_name, '_'.join([n for n in check_columns])))\n",
    "report.to_csv(csv_export, index=False)\n",
    "print('Table exported to {}'.format(csv_export))\n",
    "\n",
    "report"
   ]
  },
  {
   "cell_type": "markdown",
   "metadata": {},
   "source": [
    "### Functional Class Linkage\n",
    "Functional Class IN to Functional Class OUT comparison validation: FUNCCLASS"
   ]
  },
  {
   "cell_type": "code",
   "execution_count": null,
   "metadata": {
    "scrolled": false
   },
   "outputs": [],
   "source": [
    "### SPECIFY PARAMETERS\n",
    "# IN Attribute:\n",
    "attribute_name = ['FUNCCLASS']\n",
    "# Filter by OUT attribute value (Equal to):\n",
    "in_attribute_filters = None\n",
    "out_attribute_filters = None\n",
    "# Return Summary table or Link level table\n",
    "return_summary = True\n",
    "# Include Links where Attribute remains the same In/Out\n",
    "include_same_att = True\n",
    "#Export name:\n",
    "export_name = 'FunctionalClass_linkage'\n",
    "\n",
    "\n",
    "### RUN FUNCTIONS\n",
    "network = compare_attribute_single(attribute_name,\n",
    "                              export_name,\n",
    "                              in_attribute_filters,\n",
    "                              out_attribute_filters,\n",
    "                              return_summary,\n",
    "                              include_same_att\n",
    "                              )\n",
    "\n",
    "### GENERATE MATRIX\n",
    "network = network.dropna().pivot(index='in_FUNCCLASS', columns='out_FUNCCLASS', values='count')\n",
    "csv_export = os.path.join('..', '..', 'data', '{}_{}_MATRIX.csv'.format(export_name, *attribute_name))\n",
    "network.to_csv(csv_export, index=False)\n",
    "print('Matrix exported to {}'.format(csv_export))\n",
    "    \n",
    "network.fillna('')"
   ]
  },
  {
   "cell_type": "markdown",
   "metadata": {},
   "source": [
    "### DOT Functional Class Linkage\n",
    "Functional Class IN to Functional Class OUT comparison validation: DOT_FC"
   ]
  },
  {
   "cell_type": "code",
   "execution_count": null,
   "metadata": {},
   "outputs": [],
   "source": [
    "### SPECIFY PARAMETERS\n",
    "# IN Attribute:\n",
    "attribute_name = ['DOT_FC']\n",
    "# Filter by OUT attribute value (Equal to):\n",
    "in_attribute_filters = None\n",
    "out_attribute_filters = None\n",
    "# Return Summary table or Link level table\n",
    "return_summary = True\n",
    "# Include Links where Attribute remains the same In/Out\n",
    "include_same_att = True\n",
    "#Export name:\n",
    "export_name = 'DOT_FunctionalClass_linkage'\n",
    "\n",
    "\n",
    "### RUN FUNCTIONS\n",
    "network = compare_attribute_single(attribute_name,\n",
    "                              export_name,\n",
    "                              in_attribute_filters,\n",
    "                              out_attribute_filters,\n",
    "                              return_summary,\n",
    "                              include_same_att\n",
    "                              )\n",
    "\n",
    "### GENERATE MATRIX\n",
    "network = network.dropna().pivot(index='in_DOT_FC', columns='out_DOT_FC', values='count')\n",
    "csv_export = os.path.join('..', '..', 'data', '{}_{}_MATRIX.csv'.format(export_name, *attribute_name))\n",
    "network.to_csv(csv_export, index=False)\n",
    "print('Matrix exported to {}'.format(csv_export))\n",
    "    \n",
    "network.fillna('')"
   ]
  },
  {
   "cell_type": "markdown",
   "metadata": {},
   "source": [
    "### Zone Connectors to Interstate\n",
    "Node Link-IN  Link-OUT Summary validation: FUNCTIONAL CLASS"
   ]
  },
  {
   "cell_type": "code",
   "execution_count": null,
   "metadata": {},
   "outputs": [],
   "source": [
    "### SPECIFY PARAMETERS\n",
    "# IN Attribute:\n",
    "attribute_name = ['FUNCCLASS']\n",
    "# Filter by OUT attribute value (Equal to):\n",
    "in_attribute_filters = [1,11,12]\n",
    "out_attribute_filters = [98]\n",
    "# Return Summary table or Link level table\n",
    "return_summary = False\n",
    "# Include Links where Attribute remains the same In/Out\n",
    "include_same_att = False\n",
    "#Export name:\n",
    "export_name = 'Network_attribute_change_OUT'\n",
    "\n",
    "\n",
    "### RUN FUNCTIONS\n",
    "network = compare_attribute_single(attribute_name,\n",
    "                              export_name,\n",
    "                              in_attribute_filters,\n",
    "                              out_attribute_filters,\n",
    "                              return_summary,\n",
    "                              include_same_att\n",
    "                              )\n",
    "\n",
    "network"
   ]
  },
  {
   "cell_type": "markdown",
   "metadata": {},
   "source": [
    "### Right Shoulder Width Summary\n",
    "Node Link-IN  Link-OUT Summary validation: RIGHT SHOULDER WIDTH"
   ]
  },
  {
   "cell_type": "code",
   "execution_count": null,
   "metadata": {
    "scrolled": false
   },
   "outputs": [],
   "source": [
    "### SPECIFY PARAMETERS\n",
    "# IN Attribute:\n",
    "attribute_name = ['RS_WIDTH']\n",
    "# Filter by IN / OUT attribute value (Equal to):\n",
    "in_attribute_filters = None\n",
    "out_attribute_filters = [12]\n",
    "# Return Summary table or Link level table\n",
    "return_summary = True\n",
    "# Include Links where Attribute remains the same In/Out\n",
    "include_same_att = False\n",
    "#Export name:\n",
    "export_name = 'Right_Shoulder_Width_Summary'\n",
    "\n",
    "\n",
    "### RUN FUNCTIONS\n",
    "network = compare_attribute_single(attribute_name,\n",
    "                              export_name,\n",
    "                              in_attribute_filters,\n",
    "                              out_attribute_filters,\n",
    "                              return_summary,\n",
    "                              include_same_att\n",
    "                              )\n",
    "\n",
    "network"
   ]
  },
  {
   "cell_type": "markdown",
   "metadata": {},
   "source": [
    "### Right Shoulder Width change\n",
    "Node Link-IN  Link-OUT validation: SPEED LIMIT, and NUMBER OF LANES"
   ]
  },
  {
   "cell_type": "code",
   "execution_count": null,
   "metadata": {
    "scrolled": false
   },
   "outputs": [],
   "source": [
    "### SPECIFY PARAMETERS\n",
    "# Attribute to validate:\n",
    "attribute_names = ['RS_WIDTH']\n",
    "# Filter by CHANGE in attribute value (Equal to or Greater than) and Export long table:\n",
    "attribute_filters = {\n",
    "    'RS_WIDTH':12,\n",
    "}\n",
    "# Summarize by Node Maximum value and Export Geo:\n",
    "export_geometry = True\n",
    "#Export name:\n",
    "export_name = 'Right_Shoulder_Width'\n",
    "\n",
    "\n",
    "### RUN FUNCTIONS\n",
    "network = compare_attributes(attribute_names, attribute_filters, export_geometry, export_name)\n",
    "network.head()"
   ]
  },
  {
   "cell_type": "markdown",
   "metadata": {},
   "source": [
    "### Change in Speed and minor change in Heading\n",
    "Node Link-IN Link-OUT validation: SPEED LIMIT and HEADING"
   ]
  },
  {
   "cell_type": "code",
   "execution_count": null,
   "metadata": {
    "scrolled": false
   },
   "outputs": [],
   "source": [
    "### SPECIFY PARAMETERS\n",
    "# Attribute to validate:\n",
    "attribute_names = ['SPD_LMT', '_HEADING']\n",
    "# Filter by CHANGE in attribute value (Equal to or Greater than) and Export long table:\n",
    "attribute_filters = {\n",
    "    'SPD_LMT':25,\n",
    "}\n",
    "# Filter by CHANGE in HEADING (Equal to or lesser than)\n",
    "# Slight change in heading indicates low probability of Turn:\n",
    "heading_filter = 30\n",
    "# Summarize by Node Maximum value and Export Geo:\n",
    "export_geometry = True\n",
    "#Export name:\n",
    "export_name = 'Speed_Limit_minorHeading'\n",
    "\n",
    "\n",
    "### RUN FUNCTIONS\n",
    "network = compare_attributes(attribute_names, attribute_filters, export_geometry, export_name, heading_filter)\n",
    "network.head()"
   ]
  },
  {
   "cell_type": "markdown",
   "metadata": {},
   "source": [
    "### Change in Number of Lanes and minor change in Heading\n",
    "Node Link-IN Link-OUT validation: NUMBER OF LANES and HEADING"
   ]
  },
  {
   "cell_type": "code",
   "execution_count": null,
   "metadata": {
    "scrolled": true
   },
   "outputs": [],
   "source": [
    "### SPECIFY PARAMETERS\n",
    "# Attribute to validate:\n",
    "attribute_names = ['_LANES', '_HEADING']\n",
    "# Filter by CHANGE in attribute value (Equal to or Greater than) and Export long table:\n",
    "attribute_filters = {\n",
    "    '_LANES':3,\n",
    "}\n",
    "# Filter by CHANGE in HEADING (Equal to or lesser than)\n",
    "# Slight change in heading indicates low probability of Turn:\n",
    "heading_filter = 30\n",
    "# Summarize by Node Maximum value and Export Geo:\n",
    "export_geometry = True\n",
    "#Export name:\n",
    "export_name = 'NumberLanes_minorHeading'\n",
    "\n",
    "\n",
    "### RUN FUNCTIONS\n",
    "network = compare_attributes(attribute_names, attribute_filters, export_geometry, export_name, heading_filter)\n",
    "network.head()"
   ]
  },
  {
   "cell_type": "code",
   "execution_count": null,
   "metadata": {},
   "outputs": [],
   "source": []
  },
  {
   "cell_type": "markdown",
   "metadata": {},
   "source": [
    "### EXPORT NODES IN _HIGHWAY"
   ]
  },
  {
   "cell_type": "code",
   "execution_count": null,
   "metadata": {},
   "outputs": [],
   "source": [
    "nodes_in = []\n",
    "for node in node_shp['ID']:\n",
    "        if node in g:\n",
    "#             print('Node not in network: {}'.format(node))\n",
    "            nodes_in.append(node)\n",
    "\n",
    "\n",
    "nodes_in = node_shp[node_shp['ID'].isin(nodes_in)]\n",
    "\n",
    "shp_export = os.path.join('..', '..', 'data', 'Chatt_Master_Node-IN_HIGHWAY.shp')\n",
    "nodes_in.to_file(shp_export)\n",
    "\n",
    "print(len(node_shp['ID']))\n",
    "print(len(nodes_in))"
   ]
  },
  {
   "cell_type": "code",
   "execution_count": null,
   "metadata": {},
   "outputs": [],
   "source": []
  }
 ],
 "metadata": {
  "kernelspec": {
   "display_name": "Chattanooga",
   "language": "python",
   "name": "chattanooga"
  },
  "language_info": {
   "codemirror_mode": {
    "name": "ipython",
    "version": 3
   },
   "file_extension": ".py",
   "mimetype": "text/x-python",
   "name": "python",
   "nbconvert_exporter": "python",
   "pygments_lexer": "ipython3",
   "version": "3.6.6"
  }
 },
 "nbformat": 4,
 "nbformat_minor": 2
}
