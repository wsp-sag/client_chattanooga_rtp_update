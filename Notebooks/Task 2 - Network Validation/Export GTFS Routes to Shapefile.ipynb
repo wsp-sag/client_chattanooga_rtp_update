{
 "cells": [
  {
   "cell_type": "markdown",
   "metadata": {},
   "source": [
    "### Imports"
   ]
  },
  {
   "cell_type": "code",
   "execution_count": null,
   "metadata": {},
   "outputs": [],
   "source": [
    "import datetime\n",
    "import os\n",
    "\n",
    "import geopandas as gpd\n",
    "import pandas as pd\n",
    "import partridge as ptg"
   ]
  },
  {
   "cell_type": "markdown",
   "metadata": {},
   "source": [
    "### Read in the GTFS Files\n",
    "Specify the path to the GTFS folder.\n",
    "\n",
    "In this case, the script is selecting the busiest day of the GTFS to use as it's guide."
   ]
  },
  {
   "cell_type": "code",
   "execution_count": null,
   "metadata": {},
   "outputs": [],
   "source": [
    "gtfs_feed = 'carta_2019_08_15'\n",
    "gtfs_path = os.path.join('..', '..', 'data', 'gtfs', gtfs_feed)\n",
    "\n",
    "service_date = datetime.date(2019, 10, 16)\n",
    "service_ids = ptg.read_service_ids_by_date(gtfs_path)[service_date]\n",
    "\n",
    "### The busiest day for the two 2019 CARTA feeds are holidays (Memorial Day 2019 and MLK 2020)\n",
    "#service_date, service_ids = ptg.read_busiest_date(gtfs_path)\n",
    "\n",
    "print('Selected Date: {}'.format(service_date))\n",
    "\n",
    "view = {\n",
    "    'trips.txt': {'service_id': service_ids},\n",
    "    'routes.txt': {'route_id': '28'}\n",
    "}\n",
    "\n",
    "feed = ptg.load_geo_feed(gtfs_path, view)"
   ]
  },
  {
   "cell_type": "markdown",
   "metadata": {},
   "source": [
    "### Tag each trip from the GTFS with a departure time from it's first stop\n",
    "This will be used to determine which model time period it is related."
   ]
  },
  {
   "cell_type": "code",
   "execution_count": null,
   "metadata": {},
   "outputs": [],
   "source": [
    "first_departure = feed.stop_times.iloc[feed.stop_times.groupby('trip_id')['departure_time'].idxmin()]\n",
    "trips = pd.merge(feed.trips, first_departure[['trip_id', 'departure_time']], on='trip_id', how='left')"
   ]
  },
  {
   "cell_type": "markdown",
   "metadata": {},
   "source": [
    "### Merge and Export\n",
    "- Merge (Spatial Attribute Join) GTFS Shapes and Trips  \n",
    "- Specify the DBF Schema and Export to Shapefile "
   ]
  },
  {
   "cell_type": "code",
   "execution_count": null,
   "metadata": {},
   "outputs": [],
   "source": [
    "for tod in ['AM', 'OP', 'MD']:\n",
    "\n",
    "    # DEFAULT TO AM\n",
    "    departure_window = [6 * 3600, 9 * 3600 - 1]\n",
    "\n",
    "    ## Departure windows are in seconds from midnight (Partridge does this when times are loaded.)\n",
    "    if tod == 'OP':\n",
    "        departure_window = [9 * 3600, 15 * 3600 - 1]\n",
    "    if tod == 'PM':\n",
    "        departure_window = [15 * 3600, 18 * 3600 - 1]\n",
    "\n",
    "    trips_tod = trips[trips['departure_time'].between(*departure_window)].copy()\n",
    "\n",
    "    trip_fields = ['route_id', 'trip_headsign', 'direction_id', 'shape_id']\n",
    "    route_shapes = feed.shapes.merge(trips_tod.drop_duplicates(trip_fields)[trip_fields],\n",
    "                                     on='shape_id', how='inner')\n",
    "\n",
    "\n",
    "    schema = {'geometry': 'LineString',\n",
    "              'properties':\n",
    "                  {'shape_id': 'str:15', \n",
    "                   'route_id': 'str:25',\n",
    "                   'trip_headsign': 'str:25',\n",
    "                   'direction_id': 'int'\n",
    "                  }\n",
    "             }\n",
    "\n",
    "    route_shapes.to_file(os.path.join('..', '..', 'data', 'gtfs', 'route_shapes_{}_{}.shp'.format(gtfs_feed, tod)),\n",
    "                         schema=schema)"
   ]
  }
 ],
 "metadata": {
  "kernelspec": {
   "display_name": "chattanooga",
   "language": "python",
   "name": "chattanooga"
  },
  "language_info": {
   "codemirror_mode": {
    "name": "ipython",
    "version": 3
   },
   "file_extension": ".py",
   "mimetype": "text/x-python",
   "name": "python",
   "nbconvert_exporter": "python",
   "pygments_lexer": "ipython3",
   "version": "3.6.11"
  }
 },
 "nbformat": 4,
 "nbformat_minor": 2
}
