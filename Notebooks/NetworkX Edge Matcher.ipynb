{
 "cells": [
  {
   "cell_type": "markdown",
   "metadata": {},
   "source": [
    "## Network Link-to-Link attribute Validation Checks\n",
    "\n",
    "Functions used to identify Link-to-Link pairs and compare values. This ncludes:\n",
    "- Single Attribute In-Link checks\n",
    "- Single Attribute In-Link / Out-Link checks\n",
    "- Multiple Attribute In-Link / Out-Link checks"
   ]
  },
  {
   "cell_type": "markdown",
   "metadata": {},
   "source": [
    "#### Import Libraries "
   ]
  },
  {
   "cell_type": "code",
   "execution_count": null,
   "metadata": {},
   "outputs": [],
   "source": [
    "import os\n",
    "import geopandas as gpd\n",
    "import matplotlib.pyplot as plt\n",
    "import networkx as nx\n",
    "import numpy as np\n",
    "import pandas as pd\n",
    "# from nxviz import CircosPlot\n",
    "from shapely.geometry import LineString"
   ]
  },
  {
   "cell_type": "markdown",
   "metadata": {},
   "source": [
    "#### Load Network data from Shapefiles"
   ]
  },
  {
   "cell_type": "code",
   "execution_count": null,
   "metadata": {},
   "outputs": [],
   "source": [
    "def segment_heading(line, first_segment=True, flip=False):\n",
    "    if flip:\n",
    "        line = LineString(line.coords[::-1])\n",
    "    \n",
    "    segment = line.coords[:2] if first_segment else line.coords[-2:]\n",
    "    \n",
    "    from_pt = segment[0]\n",
    "    to_pt = segment[1]\n",
    "    \n",
    "    y_delta = to_pt[1] - from_pt[1]\n",
    "    x_delta = to_pt[0] - from_pt[0]\n",
    "\n",
    "    angle_radians = np.arctan2(y_delta, x_delta)\n",
    "    if angle_radians < 0:\n",
    "        angle_radians = 2 * np.pi + angle_radians;\n",
    "\n",
    "    # Deal with the angles being from East Counterclockwise to Northerly bearings\n",
    "    degrees = 90 - angle_radians * 180 / np.pi\n",
    "    if degrees < 0:\n",
    "        degrees = degrees + 360\n",
    "\n",
    "    return degrees"
   ]
  },
  {
   "cell_type": "code",
   "execution_count": null,
   "metadata": {},
   "outputs": [],
   "source": [
    "line_shp = gpd.read_file(os.path.join('..', 'data', 'Chatt_Master.shp')).to_crs(epsg=2274)\n",
    "node_shp = gpd.read_file(os.path.join('..', 'data', 'Chatt_Master_Node.shp')).to_crs(epsg=2274)\n",
    "\n",
    "# Heading AB\n",
    "line_shp['AB_START_HEADING'] = line_shp['geometry'].apply(segment_heading, first_segment=True)\n",
    "line_shp['AB_END_HEADING'] = line_shp['geometry'].apply(segment_heading, first_segment=False)\n",
    "# Heading BA\n",
    "line_shp['BA_START_HEADING'] = line_shp['geometry'].apply(segment_heading, first_segment=True, flip=True)\n",
    "line_shp['BA_END_HEADING'] = line_shp['geometry'].apply(segment_heading, first_segment=False, flip=True)"
   ]
  },
  {
   "cell_type": "markdown",
   "metadata": {},
   "source": [
    "### Build Network Graph"
   ]
  },
  {
   "cell_type": "markdown",
   "metadata": {},
   "source": [
    "#### Turn Two-Way Links into 2 One-Way Links for Directional Flow.\n",
    "#### Create Function: *directional_links*\n",
    "Keep AB Links and produce BA Links, carrying over link attributes based on the direction of flow."
   ]
  },
  {
   "cell_type": "code",
   "execution_count": null,
   "metadata": {},
   "outputs": [],
   "source": [
    "def directional_links(atts, line_shp):\n",
    "    dirs = {'keep':'AB', 'invert':'BA'}\n",
    "    dfs = {}\n",
    "    \n",
    "    for flow,d in dirs.items():\n",
    "        links = line_shp[line_shp['{}_LANES'.format(d)] > 0].copy()\n",
    "        rename_dict = {'{}{}'.format(d, a):a for a in atts}\n",
    "        links = links.rename(columns=rename_dict)\n",
    "        \n",
    "        if flow == 'invert':\n",
    "            links['A'] = links['TO_ID']\n",
    "            links['B'] = links['FROM_ID']\n",
    "            links = links.drop(columns=['FROM_ID', 'TO_ID']).rename(columns={'A': 'FROM_ID', 'B': 'TO_ID'})\n",
    "        \n",
    "        dfs['{}_links'.format(d)] = links\n",
    "    \n",
    "    links = pd.concat(dfs.values(), ignore_index=True)\n",
    "    \n",
    "    drop_dict = ['{}{}'.format(d, a) for a in atts for d in dirs.values()]\n",
    "    links = links.drop(columns=drop_dict)\n",
    "    \n",
    "    return links"
   ]
  },
  {
   "cell_type": "markdown",
   "metadata": {},
   "source": [
    "#### Generate Directional links with Attributes\n",
    "####  Call Function: *directional_links*\n",
    "Use list of Directional Attributes to carry over, e.g. 'AB_LANES' and 'BA_LANES', to '_LANES' "
   ]
  },
  {
   "cell_type": "code",
   "execution_count": null,
   "metadata": {},
   "outputs": [],
   "source": [
    "# List of Directional Attributes\n",
    "atts = [\n",
    "    '_LINKDIR',\n",
    "    '_LINKDTR',\n",
    "    '_LANES',\n",
    "    '_PARKING',\n",
    "    '_TRIMS',\n",
    "    '_AADT',\n",
    "    '_CAR_ADT',\n",
    "    '_SUT_ADT',\n",
    "    '_MUT_ADT',\n",
    "    '_BASEVOL',\n",
    "    '_AFFTIME',\n",
    "    '_AFFSPD',\n",
    "    '_UCDELAY',\n",
    "    '_DLYCAP',\n",
    "    '_AMCAP',\n",
    "    '_PMCAP',\n",
    "    '_BPRA',\n",
    "    '_BPRB',\n",
    "    '_START_HEADING',\n",
    "    '_END_HEADING'\n",
    "]\n",
    "# Generate Directional Links\n",
    "line_shp = directional_links(atts, line_shp)"
   ]
  },
  {
   "cell_type": "markdown",
   "metadata": {},
   "source": [
    "####  Build the Directional Graph: *g*\n",
    "#### Call Method: *nx.from_pandas_edgelist*"
   ]
  },
  {
   "cell_type": "code",
   "execution_count": null,
   "metadata": {},
   "outputs": [],
   "source": [
    "g = nx.from_pandas_edgelist(\n",
    "    line_shp,\n",
    "    source='FROM_ID',\n",
    "    target='TO_ID',\n",
    "    edge_attr=True,\n",
    "    create_using=nx.DiGraph()\n",
    ")\n",
    "\n",
    "assert nx.is_directed(g)"
   ]
  },
  {
   "cell_type": "markdown",
   "metadata": {},
   "source": [
    "### Link to Link validation Functions"
   ]
  },
  {
   "cell_type": "markdown",
   "metadata": {},
   "source": [
    "#### Create Function: *link_matcher_atts*: \n",
    "For each node in Network, match all combinations of In/ Out Links and return both In and Out values"
   ]
  },
  {
   "cell_type": "code",
   "execution_count": null,
   "metadata": {
    "scrolled": true
   },
   "outputs": [],
   "source": [
    "def link_matcher_atts(attributes, graph, edge_id='ID'):\n",
    "    heading = True if '_HEADING' in attributes else False\n",
    "    atts = []\n",
    "    atts.extend([a for a in attributes if a!='_HEADING'])\n",
    "    \n",
    "#     if heading: atts.remove('_HEADING')\n",
    "\n",
    "    node_feed = []\n",
    "\n",
    "    for node in node_shp['ID']:\n",
    "        if node not in g:\n",
    "            print('Node not in network: {}'.format(node))\n",
    "            continue\n",
    "\n",
    "        for i_o, i_d, i_data  in g.in_edges(node, data=True):\n",
    "            for o_o, o_d, o_data in g.out_edges(node, data=True):\n",
    "                if i_o == o_d and i_d == o_o:\n",
    "                    # This is just a U-Turn on the \"same\" link\n",
    "                    continue\n",
    "                    \n",
    "                data = [i_data, o_data]\n",
    "                values = [node, *[d[edge_id] for d in data], *[d[a] for a in atts for d in data]]\n",
    "                if heading: values.extend([i_data['_END_HEADING'], o_data['_START_HEADING']])\n",
    "                node_feed.append(values)\n",
    "                \n",
    "    # Generate Column names\n",
    "    dirs = ['in', 'out']\n",
    "    cols = ['node', *[ d+'_'+edge_id for d in dirs], *[ d+'_'+a for a in atts for d in dirs]]\n",
    "    if heading: cols.extend([ d+'__HEADING' for d in dirs])\n",
    "\n",
    "    return pd.DataFrame(node_feed, columns=cols)"
   ]
  },
  {
   "cell_type": "markdown",
   "metadata": {},
   "source": [
    "#### Create Function: *attribute_change*: \n",
    "Calculate change in Attribute"
   ]
  },
  {
   "cell_type": "code",
   "execution_count": null,
   "metadata": {
    "scrolled": true
   },
   "outputs": [],
   "source": [
    "def attribute_change(network, attributes):\n",
    "    for att in attributes:\n",
    "        in_fld = 'in_{}'.format(att)\n",
    "        out_fld = 'out_{}'.format(att)\n",
    "        fld_diff = 'diff_{}'.format(att)\n",
    "#         abs_fld_diff = 'abs_diff_{}'.format(filter_name)\n",
    "    \n",
    "        if isinstance(network[in_fld][0], (int, float)):\n",
    "            network[fld_diff] = network[out_fld] - network[in_fld]\n",
    "        elif isinstance(network[in_fld][0], str):\n",
    "            network[fld_diff] = 'SAME' if network[out_fld].str == network[in_fld].str else 'CHANGES'\n",
    "\n",
    "    return network#.groupby([in_fld, out_fld]).count().reset_index()"
   ]
  },
  {
   "cell_type": "markdown",
   "metadata": {},
   "source": [
    "#### Create Function: *attribute_filtering*: \n",
    "Apply Attributes and Values difference to use as filters"
   ]
  },
  {
   "cell_type": "code",
   "execution_count": null,
   "metadata": {
    "scrolled": true
   },
   "outputs": [],
   "source": [
    "def attribute_filtering(network, att_filters):\n",
    "    for filter_name, filter_val in att_filters.items():\n",
    "        in_fld = 'in_{}'.format(filter_name)\n",
    "        out_fld = 'out_{}'.format(filter_name)\n",
    "        fld_diff = 'diff_{}'.format(filter_name)\n",
    "#         abs_fld_diff = 'abs_diff_{}'.format(filter_name)\n",
    "    \n",
    "        if isinstance(filter_val, (int, float)):\n",
    "            network = network[abs(network[fld_diff]) >= filter_val]\n",
    "        elif isinstance(filter_val, str):\n",
    "            network = network[(network[in_fld] == filter_val) | (network[out_fld] == filter_val)]\n",
    "\n",
    "    return network#.groupby([in_fld, out_fld]).count().reset_index()"
   ]
  },
  {
   "cell_type": "markdown",
   "metadata": {},
   "source": [
    "#### Create Function: *export_geo*: \n",
    "Export Geometry to Shapefile"
   ]
  },
  {
   "cell_type": "code",
   "execution_count": null,
   "metadata": {},
   "outputs": [],
   "source": [
    "# In/Out Long Table\n",
    "def export_geo(network, att_name, att_name_add=None):\n",
    "    fld_diff = 'diff_{}'.format(att_name)\n",
    "    \n",
    "    network = network.rename(columns={'out_ID':'ID'})\n",
    "\n",
    "    # geometries\n",
    "    geo_cols = ['ID', 'FROM_ID', 'geometry']\n",
    "    network = pd.merge(line_shp[geo_cols], network, left_on=['ID', 'FROM_ID'], right_on=['ID', 'node'])\n",
    "    network.drop(columns=['FROM_ID'], inplace=True)\n",
    "    \n",
    "    shp_export = os.path.join('..', 'data', 'Network_attribute_change_{}.shp'.format('_'.join([n for n in att_name])))\n",
    "    network.to_file(shp_export)\n",
    "#     return network#.sort_values(by=fld_diff, ascending=False), shp_export\n",
    "    return network, shp_export"
   ]
  },
  {
   "cell_type": "markdown",
   "metadata": {},
   "source": [
    "#### Create Function: *link_compare*: \n",
    "Create function for Link-to-Link attribute comparison"
   ]
  },
  {
   "cell_type": "code",
   "execution_count": null,
   "metadata": {},
   "outputs": [],
   "source": [
    "def link_compare(attribute_names, attribute_filters, export_geometry):\n",
    "    network = link_matcher_atts(attribute_names, graph=g)\n",
    "    network = attribute_change(network, attribute_names)\n",
    "    network = attribute_filtering(network,\n",
    "                                attribute_filters,\n",
    "                                )\n",
    "    csv_export = os.path.join('..', 'data', 'Network_attribute_change_table_{}.csv'.format('_'.join([n for n in attribute_names])))\n",
    "    network.to_csv(csv_export, index=False)\n",
    "    \n",
    "    # Print\n",
    "    print_txt = 'Total network links with change in {}: {:,}'\n",
    "    print(print_txt.format(', '.join([n for n in attribute_names]),\n",
    "                           len(network)\n",
    "                           ))\n",
    "    print('Table exported to {}'.format(csv_export))\n",
    "    if export_geometry:\n",
    "        network, shp_export = export_geo(network, attribute_filters)\n",
    "        print('Shapefile exported to {}'.format(shp_export))\n",
    "\n",
    "    return network"
   ]
  },
  {
   "cell_type": "markdown",
   "metadata": {},
   "source": [
    "#### Create Function: *summary_in*: \n",
    "Create function to aggregate In-link by Attribute and summarize by count"
   ]
  },
  {
   "cell_type": "code",
   "execution_count": null,
   "metadata": {},
   "outputs": [],
   "source": [
    "def summary_in(network, att, csv_name, filter_vals=''):\n",
    "    in_att = 'in_{}'.format(att)\n",
    "    out_att = 'out_{}'.format(att)\n",
    "    \n",
    "    if filter_vals is not '':\n",
    "        network = network[network[out_att].isin(filter_vals)]\n",
    "        \n",
    "    csv_export = os.path.join('..', 'data', '{}_{}.csv'.format(csv_name, att))\n",
    "    network.to_csv(csv_export, index=False)\n",
    "    \n",
    "    return network.groupby([in_att])[in_att].count().reset_index(name='out{}'.format(filter_vals))"
   ]
  },
  {
   "cell_type": "markdown",
   "metadata": {},
   "source": [
    "#### Create Function: *summary_in_out*: \n",
    "Create function to aggregate In-link and Out-Link by Attribute and summarize by count"
   ]
  },
  {
   "cell_type": "code",
   "execution_count": null,
   "metadata": {},
   "outputs": [],
   "source": [
    "def summary_in_out(network, att, csv_name, filter_in='', filter_out='', return_summary = True, include_same_att=False):\n",
    "    in_att = 'in_{}'.format(att)\n",
    "    out_att = 'out_{}'.format(att)\n",
    "    \n",
    "    if include_same_att == False:\n",
    "        network = network[network[in_att]!=network[out_att]]\n",
    "        \n",
    "    if filter_in is not '':\n",
    "        network = network[network[in_att].isin(filter_in)]\n",
    "        \n",
    "    if filter_out is not '':\n",
    "        network = network[network[out_att].isin(filter_out)]\n",
    "        \n",
    "    if return_summary == True:\n",
    "        network = network.groupby([in_att, out_att])[in_att].count().reset_index(name='count')\n",
    "    \n",
    "    csv_export = os.path.join('..', 'data', '{}_{}_SUMMARY.csv'.format(csv_name, *attribute_name))\n",
    "    network.to_csv(csv_export, index=False)\n",
    "\n",
    "    return network"
   ]
  },
  {
   "cell_type": "markdown",
   "metadata": {},
   "source": [
    "## Run Network VALIDATION TESTS\n",
    "Use Heading ('_HEADING') to calculate deviation of In-Link(Final Segment) and Out-Link (Initial Segment)\n"
   ]
  },
  {
   "cell_type": "markdown",
   "metadata": {},
   "source": [
    "## Single Attribute"
   ]
  },
  {
   "cell_type": "markdown",
   "metadata": {},
   "source": [
    "###  Node Link-IN validation: FUNCTIONAL CLASS"
   ]
  },
  {
   "cell_type": "code",
   "execution_count": null,
   "metadata": {
    "scrolled": false
   },
   "outputs": [],
   "source": [
    "### SPECIFY PARAMETERS\n",
    "# IN Attribute:\n",
    "attribute_name = ['FUNCCLASS']\n",
    "# Filter by OUT attribute value (Equal to):\n",
    "out_attribute_filters = [1,11,12]\n",
    "#Export to csv name:\n",
    "csv_name = 'Network_attribute_change_table'\n",
    "\n",
    "\n",
    "### RUN FUNCTIONS\n",
    "network = link_matcher_atts(attribute_name, graph=g)\n",
    "\n",
    "# network[(network['in_FUNCCLASS']==98) & (network['out_FUNCCLASS'].isin([1,11,12]))]\n",
    "network = summary_in(network, *attribute_name, csv_name, out_attribute_filters)\n",
    "network.astype(int)"
   ]
  },
  {
   "cell_type": "markdown",
   "metadata": {},
   "source": [
    "###  Node Link-IN validation: NUMBER OF LANES"
   ]
  },
  {
   "cell_type": "code",
   "execution_count": null,
   "metadata": {
    "scrolled": false
   },
   "outputs": [],
   "source": [
    "### SPECIFY PARAMETERS\n",
    "# IN Attribute:\n",
    "attribute_name = ['_LANES']\n",
    "# Filter by OUT attribute value (Equal to):\n",
    "out_attribute_filters = [5]\n",
    "#Export to csv name:\n",
    "csv_name = 'Network_attribute_change_table'\n",
    "\n",
    "\n",
    "### RUN FUNCTIONS\n",
    "network = link_matcher_atts(attribute_name, graph=g)\n",
    "\n",
    "# network[(network['in_{}'.format(*attribute_name)]==1) & (network['out_{}'.format(*attribute_name)].isin([5]))].astype(int)\n",
    "network = summary_in(network, *attribute_name, csv_name, out_attribute_filters)\n",
    "network.astype(int)"
   ]
  },
  {
   "cell_type": "markdown",
   "metadata": {},
   "source": [
    "###  Node Link-IN  Link-OUT Summary validation: SPEED LIMIT"
   ]
  },
  {
   "cell_type": "code",
   "execution_count": null,
   "metadata": {
    "scrolled": false
   },
   "outputs": [],
   "source": [
    "### SPECIFY PARAMETERS\n",
    "# IN Attribute:\n",
    "attribute_name = ['SPD_LMT']\n",
    "# Filter by OUT attribute value (Equal to):\n",
    "in_attribute_filters = ''\n",
    "out_attribute_filters = [70]\n",
    "# Return Summary table or Link level table\n",
    "return_summary = True\n",
    "# Include Links where Attribute remains the same In/Out\n",
    "include_same_att = False\n",
    "#Export to csv name:\n",
    "csv_name = 'Network_attribute_change_table'\n",
    "\n",
    "\n",
    "### RUN FUNCTIONS\n",
    "network = link_matcher_atts(attribute_name, graph=g)\n",
    "\n",
    "# network[(network['in_{}'.format(*attribute_name)]==45) & (network['out_{}'.format(*attribute_name)].isin([70]))].astype(int)\n",
    "network = summary_in_out(network, \n",
    "                         *attribute_name,\n",
    "                         csv_name,\n",
    "                         in_attribute_filters, \n",
    "                         out_attribute_filters, \n",
    "                         return_summary, \n",
    "                         include_same_att,\n",
    "                        )\n",
    "network.astype(int)"
   ]
  },
  {
   "cell_type": "markdown",
   "metadata": {},
   "source": [
    "###  Node Link-IN  Link-OUT Summary validation: FUNCTIONAL CLASS"
   ]
  },
  {
   "cell_type": "code",
   "execution_count": null,
   "metadata": {
    "scrolled": false
   },
   "outputs": [],
   "source": [
    "### SPECIFY PARAMETERS\n",
    "# IN Attribute:\n",
    "attribute_name = ['FUNCCLASS']\n",
    "# Filter by IN / OUT attribute value (Equal to):\n",
    "in_attribute_filters = ''\n",
    "out_attribute_filters = [11]\n",
    "# Return Summary table or Link level table\n",
    "return_summary = True\n",
    "# Include Links where Attribute remains the same In/Out\n",
    "include_same_att = False\n",
    "#Export to csv name:\n",
    "csv_name = 'Network_attribute_change_table'\n",
    "\n",
    "\n",
    "\n",
    "### RUN FUNCTIONS\n",
    "network = link_matcher_atts(attribute_name, graph=g)\n",
    "\n",
    "#SUMMARY\n",
    "network = summary_in_out(network, \n",
    "                         *attribute_name,\n",
    "                         csv_name,\n",
    "                         in_attribute_filters, \n",
    "                         out_attribute_filters, \n",
    "                         return_summary, \n",
    "                         include_same_att,\n",
    "                        )\n",
    "network.astype(int)"
   ]
  },
  {
   "cell_type": "markdown",
   "metadata": {},
   "source": [
    "###  Node Link-IN  Link-OUT Summary validation: RIGHT SHOULDER WIDTH"
   ]
  },
  {
   "cell_type": "code",
   "execution_count": null,
   "metadata": {
    "scrolled": false
   },
   "outputs": [],
   "source": [
    "### SPECIFY PARAMETERS\n",
    "# IN Attribute:\n",
    "attribute_name = ['RS_WIDTH']\n",
    "# Filter by IN / OUT attribute value (Equal to):\n",
    "in_attribute_filters = ''\n",
    "out_attribute_filters = [24, 30]\n",
    "# Return Summary table or Link level table\n",
    "return_summary = True\n",
    "# Include Links where Attribute remains the same In/Out\n",
    "include_same_att = False\n",
    "#Export to csv name:\n",
    "csv_name = 'Network_attribute_change_table'\n",
    "\n",
    "\n",
    "### RUN FUNCTIONS\n",
    "network = link_matcher_atts(attribute_name, graph=g)\n",
    "\n",
    "# SUMMARY\n",
    "network = summary_in_out(network, \n",
    "                         *attribute_name,\n",
    "                         csv_name,\n",
    "                         in_attribute_filters, \n",
    "                         out_attribute_filters, \n",
    "                         return_summary, \n",
    "                         include_same_att,\n",
    "                        )\n",
    "network"
   ]
  },
  {
   "cell_type": "markdown",
   "metadata": {},
   "source": [
    "###  Node Link-IN  Link-OUT Summary validation: (EXCESSIVE) SPEED LIMITS"
   ]
  },
  {
   "cell_type": "code",
   "execution_count": null,
   "metadata": {
    "scrolled": false
   },
   "outputs": [],
   "source": [
    "### SPECIFY PARAMETERS\n",
    "# IN Attribute:\n",
    "attribute_name = ['SPD_LMT']\n",
    "# Filter by IN / OUT attribute value (Equal to):\n",
    "in_attribute_filters = ''\n",
    "out_attribute_filters = [65, 70]\n",
    "# Return Summary table or Link level table\n",
    "return_summary = True\n",
    "# Include Links where Attribute remains the same In/Out\n",
    "include_same_att = False\n",
    "#Export to csv name:\n",
    "csv_name = 'Network_attribute_change_table'\n",
    "\n",
    "\n",
    "### RUN FUNCTIONS\n",
    "network = link_matcher_atts(attribute_name, graph=g)\n",
    "\n",
    "# SUMMARY\n",
    "network = summary_in_out(network, \n",
    "                         *attribute_name,\n",
    "                         csv_name,\n",
    "                         in_attribute_filters, \n",
    "                         out_attribute_filters, \n",
    "                         return_summary, \n",
    "                         include_same_att,\n",
    "                        )\n",
    "network"
   ]
  },
  {
   "cell_type": "markdown",
   "metadata": {},
   "source": [
    "## Multiple Attribute"
   ]
  },
  {
   "cell_type": "markdown",
   "metadata": {},
   "source": [
    "### Node Link-IN  Link-OUT validation: SPEED LIMIT, and NUMBER OF LANES"
   ]
  },
  {
   "cell_type": "code",
   "execution_count": null,
   "metadata": {
    "scrolled": false
   },
   "outputs": [],
   "source": [
    "### SPECIFY PARAMETERS\n",
    "# Attribute to validate:\n",
    "attribute_names = ['SPD_LMT', '_LANES']\n",
    "# Filter by CHANGE in attribute value (Equal to or Greater than) and Export long table:\n",
    "attribute_filters = {\n",
    "    'SPD_LMT':30,\n",
    "#     '_LANES':1\n",
    "}\n",
    "# Summarize by Node Maximum value and Export Geo:\n",
    "export_geometry = True\n",
    "\n",
    "\n",
    "### RUN FUNCTIONS\n",
    "network = link_compare(attribute_names, attribute_filters, export_geometry)\n",
    "\n",
    "### ADDITIONAL FILTERING\n",
    "network[network['node'].isin([2137, 2663])].drop(columns=['geometry'])"
   ]
  },
  {
   "cell_type": "markdown",
   "metadata": {},
   "source": [
    "### Node Link-IN  Link-OUT validation: SPEED LIMIT, NUMBER OF LANES and HEADING"
   ]
  },
  {
   "cell_type": "code",
   "execution_count": null,
   "metadata": {
    "scrolled": false
   },
   "outputs": [],
   "source": [
    "### SPECIFY PARAMETERS\n",
    "# Attribute to validate:\n",
    "attribute_names = ['SPD_LMT', '_LANES', '_HEADING']\n",
    "# Filter by CHANGE in attribute value (Equal to or Greater than) and Export long table:\n",
    "attribute_filters = {\n",
    "    'SPD_LMT':25,\n",
    "#     '_LANES':1,\n",
    "#     '_HEADING':30\n",
    "}\n",
    "# Summarize by Node Maximum value and Export Geo:\n",
    "export_geometry = True\n",
    "\n",
    "\n",
    "### RUN FUNCTIONS\n",
    "network = link_compare(attribute_names, attribute_filters, export_geometry)\n",
    "network.drop(columns=['geometry'])\n",
    "\n",
    "# ### ADDITIONAL FILTERING\n",
    "network[abs(network['diff__HEADING'])<=30].drop(columns=['geometry'])"
   ]
  },
  {
   "cell_type": "markdown",
   "metadata": {},
   "source": [
    "### Network Link-to-Link attribute side-by-side validation: NUMBER OF LANES and FUNCTION CLASS"
   ]
  },
  {
   "cell_type": "code",
   "execution_count": null,
   "metadata": {
    "scrolled": false
   },
   "outputs": [],
   "source": [
    "### SPECIFY PARAMETERS\n",
    "# Attribute to validate:\n",
    "attribute_names = ['_LANES', 'FUNCCLASS', 'FUNC_CLASS']\n",
    "# Filter by CHANGE in attribute value (Equal to or Greater than) and Export long table:\n",
    "attribute_filters = {\n",
    "    '_LANES':3,\n",
    "}\n",
    "# Summarize by Node Maximum value and Export Geo:\n",
    "export_geometry = True\n",
    "\n",
    "\n",
    "### RUN FUNCTIONS\n",
    "network = link_compare(attribute_names, attribute_filters, export_geometry)\n",
    "network.head()\n",
    "\n",
    "\n",
    "### ADDITIONAL FILTERING\n",
    "# network[network['node'].isin([15248])].drop(columns=['geometry', 'diff_FUNCCLASS'])\n",
    "\n",
    "### ADDITIONAL FILTERING: None is IN/OUT FREEWAY\n",
    "network[(~network['in_FUNCCLASS'].isin([1,11,12])) & (~network['out_FUNCCLASS'].isin([1,11,12]))]\\\n",
    "       .drop(columns=['geometry', 'diff_FUNCCLASS'])"
   ]
  },
  {
   "cell_type": "markdown",
   "metadata": {},
   "source": [
    "### Network Link-to-Link attribute side-by-side validation: SPEED LIMIT and ROUTE NAME\n",
    "Filter by Speed Limit"
   ]
  },
  {
   "cell_type": "code",
   "execution_count": null,
   "metadata": {
    "scrolled": false
   },
   "outputs": [],
   "source": [
    "### SPECIFY PARAMETERS\n",
    "# Attribute to validate:\n",
    "attribute_names = ['SPD_LMT', 'RTE_NME']\n",
    "# Filter by CHANGE in attribute value (Equal to or Greater than) and Export long table:\n",
    "attribute_filters = {\n",
    "    'SPD_LMT':10,\n",
    "}\n",
    "# Summarize by Node Maximum value and Export Geo:\n",
    "export_geometry = False\n",
    "\n",
    "\n",
    "### RUN FUNCTIONS\n",
    "network = link_compare(attribute_names, attribute_filters, export_geometry)\n",
    "network.head()"
   ]
  },
  {
   "cell_type": "markdown",
   "metadata": {},
   "source": [
    "### Network Link-to-Link attribute side-by-side validation: SPEED LIMIT and ROUTE NAME\n",
    "Filter by Route Name"
   ]
  },
  {
   "cell_type": "code",
   "execution_count": null,
   "metadata": {
    "scrolled": false
   },
   "outputs": [],
   "source": [
    "### SPECIFY PARAMETERS\n",
    "# Attribute to validate:\n",
    "attribute_names = ['SPD_LMT', 'RTE_NME']\n",
    "# Filter by CHANGE in attribute value (Equal to or Greater than) and Export long table:\n",
    "attribute_filters = {\n",
    "    'SPD_LMT':10,\n",
    "    'RTE_NME':'CENTROID CONNECTOR',\n",
    "}\n",
    "# Summarize by Node Maximum value and Export Geo:\n",
    "export_geometry = False\n",
    "\n",
    "\n",
    "### RUN FUNCTIONS\n",
    "network = link_compare(attribute_names, attribute_filters, export_geometry)\n",
    "network.head()"
   ]
  },
  {
   "cell_type": "markdown",
   "metadata": {},
   "source": [
    "### Network Link-to-Link attribute side-by-side validation: NUMBER OF LANES and FUNCTIONAL CLASS\n",
    "Filter by Number of Lanes"
   ]
  },
  {
   "cell_type": "code",
   "execution_count": null,
   "metadata": {
    "scrolled": false
   },
   "outputs": [],
   "source": [
    "### SPECIFY PARAMETERS\n",
    "# Attribute to validate:\n",
    "attribute_names = ['_LANES', 'FUNCCLASS']\n",
    "# Filter by CHANGE in attribute value (Equal to or Greater than) and Export long table:\n",
    "attribute_filters = {\n",
    "    '_LANES':2,\n",
    "}\n",
    "# Summarize by Node Maximum value and Export Geo:\n",
    "export_geometry = True\n",
    "\n",
    "\n",
    "### RUN FUNCTIONS\n",
    "network = link_compare(attribute_names, attribute_filters, export_geometry)\n",
    "network.head()"
   ]
  },
  {
   "cell_type": "code",
   "execution_count": null,
   "metadata": {},
   "outputs": [],
   "source": []
  }
 ],
 "metadata": {
  "kernelspec": {
   "display_name": "Python 3",
   "language": "python",
   "name": "python3"
  },
  "language_info": {
   "codemirror_mode": {
    "name": "ipython",
    "version": 3
   },
   "file_extension": ".py",
   "mimetype": "text/x-python",
   "name": "python",
   "nbconvert_exporter": "python",
   "pygments_lexer": "ipython3",
   "version": "3.6.11"
  }
 },
 "nbformat": 4,
 "nbformat_minor": 2
}
