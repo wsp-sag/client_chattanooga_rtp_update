{
 "cells": [
  {
   "cell_type": "markdown",
   "metadata": {},
   "source": [
    "## Network Validation Checks"
   ]
  },
  {
   "cell_type": "markdown",
   "metadata": {},
   "source": [
    "#### Import Libraries "
   ]
  },
  {
   "cell_type": "code",
   "execution_count": null,
   "metadata": {},
   "outputs": [],
   "source": [
    "import os\n",
    "import geopandas as gpd\n",
    "import matplotlib.pyplot as plt\n",
    "import networkx as nx\n",
    "import numpy as np\n",
    "import pandas as pd\n",
    "# from nxviz import CircosPlot"
   ]
  },
  {
   "cell_type": "markdown",
   "metadata": {},
   "source": [
    "#### Load Network data from Shapefiles"
   ]
  },
  {
   "cell_type": "code",
   "execution_count": null,
   "metadata": {},
   "outputs": [],
   "source": [
    "line_shp_load = gpd.read_file(os.path.join('..', 'data', 'Chatt_Master.shp')).to_crs(epsg=2274)\n",
    "node_shp_load = gpd.read_file(os.path.join('..', 'data', 'Chatt_Master_Node.shp')).to_crs(epsg=2274)"
   ]
  },
  {
   "cell_type": "markdown",
   "metadata": {},
   "source": [
    "### Build Network Graph"
   ]
  },
  {
   "cell_type": "markdown",
   "metadata": {},
   "source": [
    "#### Turn Two-Way Links into 2 One-Way Links for Directional Flow.\n",
    "#### Create Function: *directional_links*\n",
    "Keep AB Links and produce BA Links, carrying over link attributes based on the direction of flow."
   ]
  },
  {
   "cell_type": "code",
   "execution_count": null,
   "metadata": {},
   "outputs": [],
   "source": [
    "def directional_links(atts, line_shp):\n",
    "    dirs = {'keep':'AB', 'invert':'BA'}\n",
    "    dfs = {}\n",
    "    \n",
    "    for flow,d in dirs.items():\n",
    "        links = line_shp[line_shp['{}_LANES'.format(d)] > 0].copy()\n",
    "        rename_dict = {'{}{}'.format(d, a):a for a in atts}\n",
    "        links = links.rename(columns=rename_dict)\n",
    "        \n",
    "        if flow == 'invert':\n",
    "            links['A'] = links['TO_ID']\n",
    "            links['B'] = links['FROM_ID']\n",
    "            links = links.drop(columns=['FROM_ID', 'TO_ID']).rename(columns={'A': 'FROM_ID', 'B': 'TO_ID'})\n",
    "        \n",
    "        dfs['{}_links'.format(d)] = links\n",
    "    \n",
    "    links = pd.concat(dfs.values(), ignore_index=True)\n",
    "    \n",
    "    drop_dict = ['{}{}'.format(d, a) for a in atts for d in dirs.values()]\n",
    "    links = links.drop(columns=drop_dict)\n",
    "    \n",
    "    return links"
   ]
  },
  {
   "cell_type": "markdown",
   "metadata": {},
   "source": [
    "#### Generate Directional links with Attributes\n",
    "####  Call Function: *directional_links*\n",
    "Use list of Directional Attributes to carry over, e.g. 'AB_LANES' and 'BA_LANES', to '_LANES' "
   ]
  },
  {
   "cell_type": "code",
   "execution_count": null,
   "metadata": {},
   "outputs": [],
   "source": [
    "atts = [\n",
    "    '_LINKDIR',\n",
    "    '_LINKDTR',\n",
    "    '_LANES',\n",
    "    '_PARKING',\n",
    "    '_TRIMS',\n",
    "    '_AADT',\n",
    "    '_CAR_ADT',\n",
    "    '_SUT_ADT',\n",
    "    '_MUT_ADT',\n",
    "    '_BASEVOL',\n",
    "    '_AFFTIME',\n",
    "    '_AFFSPD',\n",
    "    '_UCDELAY',\n",
    "    '_DLYCAP',\n",
    "    '_AMCAP',\n",
    "    '_PMCAP',\n",
    "    '_BPRA',\n",
    "    '_BPRB'\n",
    "]\n",
    "\n",
    "line_shp = directional_links(atts, line_shp_load)"
   ]
  },
  {
   "cell_type": "markdown",
   "metadata": {},
   "source": [
    "####  Build the Directional Graph: *g*\n",
    "#### Call Method: *nx.from_pandas_edgelist*"
   ]
  },
  {
   "cell_type": "code",
   "execution_count": null,
   "metadata": {},
   "outputs": [],
   "source": [
    "g = nx.from_pandas_edgelist(\n",
    "    line_shp,\n",
    "    source='FROM_ID',\n",
    "    target='TO_ID',\n",
    "    edge_attr=True,\n",
    "    create_using=nx.DiGraph()\n",
    ")\n",
    "\n",
    "assert nx.is_directed(g)"
   ]
  },
  {
   "cell_type": "markdown",
   "metadata": {},
   "source": [
    "### Link to Link validation"
   ]
  },
  {
   "cell_type": "markdown",
   "metadata": {},
   "source": [
    "#### Create Function: *link_matcher*: \n",
    "For each node in Network, match all combinations of In/ Out Links and return difference (Substraction)"
   ]
  },
  {
   "cell_type": "code",
   "execution_count": null,
   "metadata": {
    "scrolled": true
   },
   "outputs": [],
   "source": [
    "def link_matcher(*atts, graph, edge_id='ID'):\n",
    "    node_feed = []\n",
    "\n",
    "    for node in node_shp_load['ID']:\n",
    "        if node not in g:\n",
    "            print('Node not in network: {}'.format(node))\n",
    "            continue\n",
    "\n",
    "        for i_o, i_d, i_data  in g.in_edges(node, data=True):\n",
    "            for o_o, o_d, o_data in g.out_edges(node, data=True):\n",
    "                if i_o == o_d and i_d == o_o:\n",
    "                    # This is just a U-Turn on the \"same\" link\n",
    "                    continue\n",
    "                    \n",
    "                data = [i_data, o_data]                \n",
    "                node_feed.append([node, *[d[edge_id] for d in data], *[o_data[a] - i_data[a] for a in atts]])\n",
    "\n",
    "    # Generate Column names\n",
    "    dirs = ['in', 'out']\n",
    "    cols = ['node', *[ d+'_'+edge_id for d in dirs], *['diff_'+a for a in atts]]\n",
    "\n",
    "    return pd.DataFrame(node_feed, columns=cols)"
   ]
  },
  {
   "cell_type": "markdown",
   "metadata": {},
   "source": [
    "#### Create Function: *attribute_filter*: \n",
    "Apply Attribute value to filter "
   ]
  },
  {
   "cell_type": "code",
   "execution_count": null,
   "metadata": {
    "scrolled": true
   },
   "outputs": [],
   "source": [
    "def attribute_filter(network_att_chg, att_name, att_filter_val, get_node_max):\n",
    "    fld_diff = 'diff_{}'.format(att_name)\n",
    "    abs_fld_diff = 'abs_diff_{}'.format(att_name)\n",
    "\n",
    "    network_att_chg = network_att_chg[abs(network_att_chg[fld_diff])>=att_filter_val].reset_index(drop=True)\n",
    "    network_att_chg[abs_fld_diff] = abs(network_att_chg[fld_diff])\n",
    "\n",
    "    if get_node_max:\n",
    "        network_att_chg['sorted'] = network_att_chg.sort_values([abs_fld_diff]).groupby('node').cumcount()+1\n",
    "        network_att_chg = network_att_chg[network_att_chg['sorted']==1][['node', 'in_ID', 'out_ID', fld_diff]]\n",
    "\n",
    "    return network_att_chg.sort_values(by=fld_diff, ascending=False)"
   ]
  },
  {
   "cell_type": "markdown",
   "metadata": {},
   "source": [
    "#### Create Function: *export_geo*: \n",
    "Export Link To/From values, from Node Maximum"
   ]
  },
  {
   "cell_type": "code",
   "execution_count": null,
   "metadata": {},
   "outputs": [],
   "source": [
    "# In/Out Long Table\n",
    "def export_geo(network_speed_chg, att_name):\n",
    "    fld_diff = 'diff_{}'.format(att_name)\n",
    "    \n",
    "    in_df = network_speed_chg[['node', 'in_ID']].copy()\n",
    "    in_df.columns = ['node', 'line_ID']\n",
    "\n",
    "    network_speed_chg = network_speed_chg[['node', 'out_ID', fld_diff]].copy()\n",
    "    network_speed_chg.columns = ['node', 'line_ID', fld_diff]\n",
    "\n",
    "    network_speed_chg = network_speed_chg.append(in_df)\n",
    "\n",
    "    # geometries\n",
    "    network_speed_chg = pd.merge(line_shp_load[['ID', 'geometry']], network_speed_chg, left_on='ID', right_on='line_ID')\n",
    "    \n",
    "    network_speed_chg.to_file(os.path.join('..', 'data', 'network_speed_change_{}.shp'.format(fld_diff)))\n",
    "    return network_speed_chg"
   ]
  },
  {
   "cell_type": "markdown",
   "metadata": {},
   "source": [
    "### Network Link-to-Link attribute validation"
   ]
  },
  {
   "cell_type": "markdown",
   "metadata": {},
   "source": [
    "#### Call Function: *network_matcher*\n",
    "#### Call Function: *attribute_filter*"
   ]
  },
  {
   "cell_type": "code",
   "execution_count": null,
   "metadata": {
    "scrolled": false
   },
   "outputs": [],
   "source": [
    "# Specify Parameters\n",
    "# Attribute to validate:\n",
    "attribute_name = 'SPD_LMT'\n",
    "#Equal to or Greater than:\n",
    "attribute_filter_value = 20 \n",
    "#Summarize by Node Maximum value and Export Geo:\n",
    "get_node_max = True\n",
    "\n",
    "\n",
    "network_att_change = link_matcher(attribute_name, graph=g)\n",
    "network_att_change = attribute_filter(network_att_change, attribute_name, attribute_filter_value, get_node_max)\n",
    "if get_node_max:\n",
    "    export_geo(network_att_change, attribute_name)\n",
    "\n",
    "# Print\n",
    "print('Total records above specified value: {:,}'.format(len(network_att_change)))\n",
    "network_att_change.head()"
   ]
  },
  {
   "cell_type": "code",
   "execution_count": null,
   "metadata": {},
   "outputs": [],
   "source": []
  },
  {
   "cell_type": "code",
   "execution_count": null,
   "metadata": {},
   "outputs": [],
   "source": [
    "### TO DO"
   ]
  },
  {
   "cell_type": "markdown",
   "metadata": {},
   "source": [
    "#### Keep Inputs"
   ]
  },
  {
   "cell_type": "code",
   "execution_count": null,
   "metadata": {
    "scrolled": true
   },
   "outputs": [],
   "source": [
    "def network_matcher_with_inputs(*atts, graph, edge_id='ID'):\n",
    "    node_feed = []\n",
    "\n",
    "    for node in node_shp_load['ID']:\n",
    "        if node not in g:\n",
    "            print('Node not in network: {}'.format(node))\n",
    "            continue\n",
    "\n",
    "        for i_o, i_d, i_data  in g.in_edges(node, data=True):\n",
    "            for o_o, o_d, o_data in g.out_edges(node, data=True):\n",
    "                if i_o == o_d and i_d == o_o:\n",
    "                    # This is just a U-Turn on the \"same\" link\n",
    "                    continue\n",
    "                    \n",
    "                data = [i_data, o_data]                \n",
    "                node_feed.append([node, *[d[edge_id] for d in data], *[d[a] for d in data for a in atts]])\n",
    "\n",
    "    # Generate Column names\n",
    "    dirs = ['in', 'out']\n",
    "    cols = ['node', *[ d+'_'+edge_id for d in dirs], *[ d+'_'+a for d in dirs for a in atts]]\n",
    "\n",
    "    return pd.DataFrame(node_feed, columns=cols)"
   ]
  },
  {
   "cell_type": "code",
   "execution_count": null,
   "metadata": {},
   "outputs": [],
   "source": [
    "network_speeds = network_matcher_with_inputs('SPD_LMT', graph=g)\n",
    "\n",
    "network_speeds.head(5)"
   ]
  },
  {
   "cell_type": "code",
   "execution_count": null,
   "metadata": {
    "scrolled": true
   },
   "outputs": [],
   "source": [
    "#FIX\n",
    "# Function Class\n",
    "network_speeds = network_matcher_with_inputs('SPD_LMT', 'FUNC_CLASS', 'RTE_NME', graph=g)\n",
    "network_speeds = network_speeds[abs(network_speeds['out_SPD_LMT'] - network_speeds['in_SPD_LMT']) > 10]\n",
    "network_speeds = network_speeds[['in_FUNC_CLASS', 'out_FUNC_CLASS', 'in_SPD_LMT', 'out_SPD_LMT']].reset_index()\n",
    "\n",
    "network_speeds = network_speeds[['in_FUNC_CLASS', 'out_FUNC_CLASS', 'in_SPD_LMT', 'out_SPD_LMT']].reset_index()\n",
    "network_speeds.groupby(['in_FUNC_CLASS', 'out_FUNC_CLASS', 'in_SPD_LMT', 'out_SPD_LMT']).count().reset_index()"
   ]
  },
  {
   "cell_type": "code",
   "execution_count": null,
   "metadata": {},
   "outputs": [],
   "source": [
    "# Route Name\n",
    "network_speeds = network_matcher_with_inputs('SPD_LMT', 'FUNC_CLASS', 'RTE_NME', graph=g)\n",
    "network_speeds = network_speeds[abs(network_speeds['out_SPD_LMT'] - network_speeds['in_SPD_LMT']) > 10]\n",
    "network_speeds = network_speeds[['in_RTE_NME', 'out_RTE_NME', 'in_SPD_LMT', 'out_SPD_LMT']].reset_index()\n",
    "\n",
    "print(len(network_speeds))\n",
    "network_speeds[(network_speeds['in_RTE_NME']=='CENTROID CONNECTOR') | (network_speeds['out_RTE_NME']=='CENTROID CONNECTOR')]"
   ]
  },
  {
   "cell_type": "markdown",
   "metadata": {},
   "source": [
    "### Put attributes on the network"
   ]
  },
  {
   "cell_type": "code",
   "execution_count": null,
   "metadata": {
    "scrolled": true
   },
   "outputs": [],
   "source": [
    "node_shp"
   ]
  },
  {
   "cell_type": "code",
   "execution_count": null,
   "metadata": {
    "scrolled": true
   },
   "outputs": [],
   "source": [
    "line_shp"
   ]
  },
  {
   "cell_type": "code",
   "execution_count": null,
   "metadata": {},
   "outputs": [],
   "source": [
    "node_shp['X'] = node_shp.geometry.x\n",
    "node_shp['Y'] = node_shp.geometry.y\n",
    "nx.set_node_attributes(g, pd.Series(node_shp.X, index=node_shp.ID).to_dict(), 'X')\n",
    "nx.set_node_attributes(g, pd.Series(node_shp.Y, index=node_shp.ID).to_dict(), 'Y')"
   ]
  },
  {
   "cell_type": "markdown",
   "metadata": {},
   "source": [
    "### Visualizations (Slow- Due to Network Size)"
   ]
  },
  {
   "cell_type": "code",
   "execution_count": null,
   "metadata": {},
   "outputs": [],
   "source": [
    "# plt.subplot(121)\n",
    "\n",
    "#nx.draw(g, with_labels=True, font_weight='bold')\n",
    "#plt.subplot(122)\n",
    "\n",
    "#nx.draw_shell(G, nlist=[range(5, 10), range(5)], with_labels=True, font_weight='bold')"
   ]
  },
  {
   "cell_type": "raw",
   "metadata": {},
   "source": [
    "# Need to create a layout when doing\n",
    "# separate calls to draw nodes and edges\n",
    "pos = nx.spring_layout(g)\n",
    "nx.draw_networkx_nodes(g, pos)\n",
    "nx.draw_networkx_labels(g, pos)\n",
    "nx.draw_networkx_edges(g, pos, arrows=True)\n",
    "plt.show()"
   ]
  },
  {
   "cell_type": "raw",
   "metadata": {},
   "source": [
    "g_plot = CircosPlot(g)\n",
    "g_plot.draw()\n",
    "plt.show()"
   ]
  },
  {
   "cell_type": "code",
   "execution_count": null,
   "metadata": {},
   "outputs": [],
   "source": [
    "plt.figure(figsize=(8, 6))\n",
    "nx.draw(g, nx.spring_layout(g), node_size=10, node_color='blue')\n",
    "plt.show()\n"
   ]
  },
  {
   "cell_type": "code",
   "execution_count": null,
   "metadata": {},
   "outputs": [],
   "source": []
  }
 ],
 "metadata": {
  "kernelspec": {
   "display_name": "Python 3",
   "language": "python",
   "name": "python3"
  },
  "language_info": {
   "codemirror_mode": {
    "name": "ipython",
    "version": 3
   },
   "file_extension": ".py",
   "mimetype": "text/x-python",
   "name": "python",
   "nbconvert_exporter": "python",
   "pygments_lexer": "ipython3",
   "version": "3.6.11"
  }
 },
 "nbformat": 4,
 "nbformat_minor": 2
}
