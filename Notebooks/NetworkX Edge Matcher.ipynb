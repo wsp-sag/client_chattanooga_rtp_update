{
 "cells": [
  {
   "cell_type": "markdown",
   "metadata": {},
   "source": [
    "## Network Validation Checks"
   ]
  },
  {
   "cell_type": "markdown",
   "metadata": {},
   "source": [
    "#### Import Libraries "
   ]
  },
  {
   "cell_type": "code",
   "execution_count": null,
   "metadata": {},
   "outputs": [],
   "source": [
    "import os\n",
    "import geopandas as gpd\n",
    "import matplotlib.pyplot as plt\n",
    "import networkx as nx\n",
    "import numpy as np\n",
    "import pandas as pd\n",
    "# from nxviz import CircosPlot\n",
    "from shapely.geometry import LineString"
   ]
  },
  {
   "cell_type": "markdown",
   "metadata": {},
   "source": [
    "#### Load Network data from Shapefiles"
   ]
  },
  {
   "cell_type": "code",
   "execution_count": null,
   "metadata": {},
   "outputs": [],
   "source": [
    "def segment_heading(line, first_segment=True, flip=False):\n",
    "    if flip:\n",
    "        line = LineString(line.coords[::-1])\n",
    "    \n",
    "    segment = line.coords[:2] if first_segment else line.coords[-2:]\n",
    "    \n",
    "    from_pt = segment[0]\n",
    "    to_pt = segment[1]\n",
    "    \n",
    "    y_delta = to_pt[1] - from_pt[1]\n",
    "    x_delta = to_pt[0] - from_pt[0]\n",
    "\n",
    "    angle_radians = np.arctan2(y_delta, x_delta)\n",
    "    if angle_radians < 0:\n",
    "        angle_radians = 2 * np.pi + angle_radians;\n",
    "\n",
    "    # Deal with the angles being from East Counterclockwise to Northerly bearings\n",
    "    degrees = 90 - angle_radians * 180 / np.pi\n",
    "    if degrees < 0:\n",
    "        degrees = degrees + 360\n",
    "\n",
    "    return degrees"
   ]
  },
  {
   "cell_type": "code",
   "execution_count": null,
   "metadata": {},
   "outputs": [],
   "source": [
    "line_shp = gpd.read_file(os.path.join('..', 'data', 'Chatt_Master.shp')).to_crs(epsg=2274)\n",
    "node_shp = gpd.read_file(os.path.join('..', 'data', 'Chatt_Master_Node.shp')).to_crs(epsg=2274)\n",
    "\n",
    "# Heading AB\n",
    "line_shp['AB_START_HEADING'] = line_shp['geometry'].apply(segment_heading, first_segment=True)\n",
    "line_shp['AB_END_HEADING'] = line_shp['geometry'].apply(segment_heading, first_segment=False)\n",
    "# Heading BA\n",
    "line_shp['BA_START_HEADING'] = line_shp['geometry'].apply(segment_heading, first_segment=True, flip=True)\n",
    "line_shp['BA_END_HEADING'] = line_shp['geometry'].apply(segment_heading, first_segment=False, flip=True)"
   ]
  },
  {
   "cell_type": "markdown",
   "metadata": {},
   "source": [
    "### Build Network Graph"
   ]
  },
  {
   "cell_type": "markdown",
   "metadata": {},
   "source": [
    "#### Turn Two-Way Links into 2 One-Way Links for Directional Flow.\n",
    "#### Create Function: *directional_links*\n",
    "Keep AB Links and produce BA Links, carrying over link attributes based on the direction of flow."
   ]
  },
  {
   "cell_type": "code",
   "execution_count": null,
   "metadata": {},
   "outputs": [],
   "source": [
    "def directional_links(atts, line_shp):\n",
    "    dirs = {'keep':'AB', 'invert':'BA'}\n",
    "    dfs = {}\n",
    "    \n",
    "    for flow,d in dirs.items():\n",
    "        links = line_shp[line_shp['{}_LANES'.format(d)] > 0].copy()\n",
    "        rename_dict = {'{}{}'.format(d, a):a for a in atts}\n",
    "        links = links.rename(columns=rename_dict)\n",
    "        \n",
    "        if flow == 'invert':\n",
    "            links['A'] = links['TO_ID']\n",
    "            links['B'] = links['FROM_ID']\n",
    "            links = links.drop(columns=['FROM_ID', 'TO_ID']).rename(columns={'A': 'FROM_ID', 'B': 'TO_ID'})\n",
    "        \n",
    "        dfs['{}_links'.format(d)] = links\n",
    "    \n",
    "    links = pd.concat(dfs.values(), ignore_index=True)\n",
    "    \n",
    "    drop_dict = ['{}{}'.format(d, a) for a in atts for d in dirs.values()]\n",
    "    links = links.drop(columns=drop_dict)\n",
    "    \n",
    "    return links"
   ]
  },
  {
   "cell_type": "markdown",
   "metadata": {},
   "source": [
    "#### Generate Directional links with Attributes\n",
    "####  Call Function: *directional_links*\n",
    "Use list of Directional Attributes to carry over, e.g. 'AB_LANES' and 'BA_LANES', to '_LANES' "
   ]
  },
  {
   "cell_type": "code",
   "execution_count": null,
   "metadata": {},
   "outputs": [],
   "source": [
    "# List of Directional Attributes\n",
    "atts = [\n",
    "    '_LINKDIR',\n",
    "    '_LINKDTR',\n",
    "    '_LANES',\n",
    "    '_PARKING',\n",
    "    '_TRIMS',\n",
    "    '_AADT',\n",
    "    '_CAR_ADT',\n",
    "    '_SUT_ADT',\n",
    "    '_MUT_ADT',\n",
    "    '_BASEVOL',\n",
    "    '_AFFTIME',\n",
    "    '_AFFSPD',\n",
    "    '_UCDELAY',\n",
    "    '_DLYCAP',\n",
    "    '_AMCAP',\n",
    "    '_PMCAP',\n",
    "    '_BPRA',\n",
    "    '_BPRB',\n",
    "    '_START_HEADING',\n",
    "    '_END_HEADING'\n",
    "]\n",
    "# Generate Directional Links\n",
    "line_shp = directional_links(atts, line_shp)"
   ]
  },
  {
   "cell_type": "markdown",
   "metadata": {},
   "source": [
    "####  Build the Directional Graph: *g*\n",
    "#### Call Method: *nx.from_pandas_edgelist*"
   ]
  },
  {
   "cell_type": "code",
   "execution_count": null,
   "metadata": {},
   "outputs": [],
   "source": [
    "g = nx.from_pandas_edgelist(\n",
    "    line_shp,\n",
    "    source='FROM_ID',\n",
    "    target='TO_ID',\n",
    "    edge_attr=True,\n",
    "    create_using=nx.DiGraph()\n",
    ")\n",
    "\n",
    "assert nx.is_directed(g)"
   ]
  },
  {
   "cell_type": "markdown",
   "metadata": {},
   "source": [
    "### Link to Link validation Functions"
   ]
  },
  {
   "cell_type": "markdown",
   "metadata": {},
   "source": [
    "#### Create Function: *link_matcher_atts*: \n",
    "For each node in Network, match all combinations of In/ Out Links and return both In and Out values"
   ]
  },
  {
   "cell_type": "code",
   "execution_count": null,
   "metadata": {
    "scrolled": true
   },
   "outputs": [],
   "source": [
    "def link_matcher_atts(attributes, graph, edge_id='ID'):\n",
    "    heading = True if '_HEADING' in attributes else False\n",
    "    atts = []\n",
    "    atts.extend([a for a in attributes if a!='_HEADING'])\n",
    "    \n",
    "#     if heading: atts.remove('_HEADING')\n",
    "\n",
    "    node_feed = []\n",
    "\n",
    "    for node in node_shp['ID']:\n",
    "        if node not in g:\n",
    "            print('Node not in network: {}'.format(node))\n",
    "            continue\n",
    "\n",
    "        for i_o, i_d, i_data  in g.in_edges(node, data=True):\n",
    "            for o_o, o_d, o_data in g.out_edges(node, data=True):\n",
    "                if i_o == o_d and i_d == o_o:\n",
    "                    # This is just a U-Turn on the \"same\" link\n",
    "                    continue\n",
    "                    \n",
    "                data = [i_data, o_data]\n",
    "                values = [node, *[d[edge_id] for d in data], *[d[a] for a in atts for d in data]]\n",
    "                if heading: values.extend([i_data['_END_HEADING'], o_data['_START_HEADING']])\n",
    "                node_feed.append(values)\n",
    "                \n",
    "    # Generate Column names\n",
    "    dirs = ['in', 'out']\n",
    "    cols = ['node', *[ d+'_'+edge_id for d in dirs], *[ d+'_'+a for a in atts for d in dirs]]\n",
    "    if heading: cols.extend([ d+'__HEADING' for d in dirs])\n",
    "\n",
    "    return pd.DataFrame(node_feed, columns=cols)"
   ]
  },
  {
   "cell_type": "markdown",
   "metadata": {},
   "source": [
    "#### Create Function: *attribute_filter_atts*: \n",
    "Apply Attribute to filter by difference value "
   ]
  },
  {
   "cell_type": "code",
   "execution_count": null,
   "metadata": {
    "scrolled": true
   },
   "outputs": [],
   "source": [
    "def attribute_change(network, attributes):\n",
    "    for att in attributes:\n",
    "        in_fld = 'in_{}'.format(att)\n",
    "        out_fld = 'out_{}'.format(att)\n",
    "        fld_diff = 'diff_{}'.format(att)\n",
    "#         abs_fld_diff = 'abs_diff_{}'.format(filter_name)\n",
    "    \n",
    "        if isinstance(network[in_fld][0], (int, float)):\n",
    "            network[fld_diff] = network[out_fld] - network[in_fld]\n",
    "        elif isinstance(network[in_fld][0], str):\n",
    "            network[fld_diff] = 'SAME' if network[out_fld].str == network[in_fld].str else 'CHANGES'\n",
    "\n",
    "    return network#.groupby([in_fld, out_fld]).count().reset_index()"
   ]
  },
  {
   "cell_type": "code",
   "execution_count": null,
   "metadata": {
    "scrolled": true
   },
   "outputs": [],
   "source": [
    "def attribute_filtering(network, att_filters, get_node_max):\n",
    "    for filter_name, filter_val in att_filters.items():\n",
    "        in_fld = 'in_{}'.format(filter_name)\n",
    "        out_fld = 'out_{}'.format(filter_name)\n",
    "        fld_diff = 'diff_{}'.format(filter_name)\n",
    "#         abs_fld_diff = 'abs_diff_{}'.format(filter_name)\n",
    "    \n",
    "        if isinstance(filter_val, (int, float)):\n",
    "            network = network[abs(network[fld_diff]) >= filter_val]\n",
    "        elif isinstance(filter_val, str):\n",
    "            network = network[(network[in_fld] == filter_val) | (network[out_fld] == filter_val)]\n",
    "\n",
    "    return network#.groupby([in_fld, out_fld]).count().reset_index()"
   ]
  },
  {
   "cell_type": "code",
   "execution_count": null,
   "metadata": {},
   "outputs": [],
   "source": [
    "# In/Out Long Table\n",
    "def export_geo_compare(network, att_name, att_name_add=None):\n",
    "    fld_diff = 'diff_{}'.format(att_name)\n",
    "    \n",
    "    network = network.rename(columns={'out_ID':'ID'})\n",
    "\n",
    "    # geometries\n",
    "    geo_cols = ['ID', 'geometry']\n",
    "#     if att_name_add: geo_cols.append(att_name_add)\n",
    "    network = pd.merge(line_shp[geo_cols], network, on='ID')\n",
    "    \n",
    "    shp_export = os.path.join('..', 'data', 'Network_attribute_change_{}.shp'.format('_'.join([n for n in att_name])))\n",
    "    network.to_file(shp_export)\n",
    "#     return network#.sort_values(by=fld_diff, ascending=False), shp_export\n",
    "    return network, shp_export"
   ]
  },
  {
   "cell_type": "markdown",
   "metadata": {},
   "source": [
    "#### Create Function: *link_compare*: \n",
    "Call functions to calculate Link-to-Link attribute comparison"
   ]
  },
  {
   "cell_type": "code",
   "execution_count": null,
   "metadata": {},
   "outputs": [],
   "source": [
    "def link_compare(attribute_names, attribute_filters, get_node_max):\n",
    "    network = link_matcher_atts(attribute_names, graph=g)\n",
    "    network = attribute_change(network, attribute_names)\n",
    "    network = attribute_filtering(network,\n",
    "                                attribute_filters,\n",
    "                                get_node_max\n",
    "                                )\n",
    "    csv_export = os.path.join('..', 'data', 'Network_attribute_change_table_{}.csv'.format('_'.join([n for n in attribute_names])))\n",
    "    network.to_csv(csv_export, index=False)\n",
    "    \n",
    "    # Print\n",
    "    print_txt = 'Total {} network links with change in {}: {:,}'\n",
    "    print(print_txt.format('SUMMARIZED' if get_node_max else '\\b',\n",
    "                           ', '.join([n for n in attribute_names]),\n",
    "                           len(network)\n",
    "                           ))\n",
    "    print('Table exported to {}'.format(csv_export))\n",
    "    if get_node_max:\n",
    "        network, shp_export = export_geo_compare(network, attribute_filters)\n",
    "        print('Shapefile exported to {}'.format(shp_export))\n",
    "\n",
    "    return network"
   ]
  },
  {
   "cell_type": "markdown",
   "metadata": {},
   "source": [
    "## VALIDATION TESTS"
   ]
  },
  {
   "cell_type": "markdown",
   "metadata": {},
   "source": [
    "### Network Link-to-Link attribute side-by-side validation: SPEED LIMIT and FUNCTIONAL CLASS"
   ]
  },
  {
   "cell_type": "code",
   "execution_count": null,
   "metadata": {
    "scrolled": false
   },
   "outputs": [],
   "source": [
    "### SPECIFY PARAMETERS\n",
    "# Attribute to validate:\n",
    "attribute_names = ['SPD_LMT', '_LANES', '_HEADING']\n",
    "# Filter by CHANGE in attribute value (Equal to or Greater than) and Export long table:\n",
    "attribute_filters = {\n",
    "    'SPD_LMT':10,\n",
    "    '_LANES':2,\n",
    "    '_HEADING':70\n",
    "}\n",
    "# Calculate Heading deviation of In-Link(Final Segment) and Out-Link (Initial Segment)\n",
    "\n",
    "# Summarize by Node Maximum value and Export Geo:\n",
    "get_node_max = True\n",
    "\n",
    "\n",
    "### RUN FUNCTIONS\n",
    "network = link_compare(attribute_names, attribute_filters, get_node_max)\n",
    "network.head()"
   ]
  },
  {
   "cell_type": "code",
   "execution_count": null,
   "metadata": {
    "scrolled": false
   },
   "outputs": [],
   "source": [
    "### SPECIFY PARAMETERS\n",
    "# Attribute to validate:\n",
    "attribute_names = ['SPD_LMT', '_LANES']\n",
    "# Filter by attribute value (Equal to or Greater than) and Export long table:\n",
    "attribute_filters = {\n",
    "    'SPD_LMT':10,\n",
    "    '_LANES':2\n",
    "}\n",
    "# Summarize by Node Maximum value and Export Geo:\n",
    "get_node_max = True\n",
    "\n",
    "\n",
    "### RUN FUNCTIONS\n",
    "network = link_compare(attribute_names, attribute_filters, get_node_max)\n",
    "network.head()"
   ]
  },
  {
   "cell_type": "markdown",
   "metadata": {},
   "source": [
    "### Network Link-to-Link attribute side-by-side validation: SPEED LIMIT and FUNCTIONAL CLASS"
   ]
  },
  {
   "cell_type": "code",
   "execution_count": null,
   "metadata": {
    "scrolled": false
   },
   "outputs": [],
   "source": [
    "### SPECIFY PARAMETERS\n",
    "# Attribute to validate:\n",
    "attribute_names = ['SPD_LMT', '_LANES']\n",
    "# Filter by attribute value (Equal to or Greater than) and Export long table:\n",
    "attribute_filters = {\n",
    "    'SPD_LMT':10,\n",
    "    '_LANES':2\n",
    "}\n",
    "# Summarize by Node Maximum value and Export Geo:\n",
    "get_node_max = True\n",
    "\n",
    "\n",
    "### RUN FUNCTIONS\n",
    "network = link_compare(attribute_names, attribute_filters, get_node_max)\n",
    "network.head()"
   ]
  },
  {
   "cell_type": "markdown",
   "metadata": {},
   "source": [
    "### Network Link-to-Link attribute side-by-side validation: SPEED LIMIT and ROUTE NAME\n",
    "Filter by Speed Limit"
   ]
  },
  {
   "cell_type": "code",
   "execution_count": null,
   "metadata": {
    "scrolled": false
   },
   "outputs": [],
   "source": [
    "### SPECIFY PARAMETERS\n",
    "# Attribute to validate:\n",
    "attribute_names = ['SPD_LMT', 'RTE_NME']\n",
    "# Filter by attribute value (Equal to or Greater than) and Export long table:\n",
    "attribute_filters = {\n",
    "    'SPD_LMT':10,\n",
    "}\n",
    "# Summarize by Node Maximum value and Export Geo:\n",
    "get_node_max = False\n",
    "\n",
    "\n",
    "### RUN FUNCTIONS\n",
    "network = link_compare(attribute_names, attribute_filters, get_node_max)\n",
    "network.head()"
   ]
  },
  {
   "cell_type": "markdown",
   "metadata": {},
   "source": [
    "### Network Link-to-Link attribute side-by-side validation: SPEED LIMIT and ROUTE NAME\n",
    "Filter by Route Name"
   ]
  },
  {
   "cell_type": "code",
   "execution_count": null,
   "metadata": {
    "scrolled": false
   },
   "outputs": [],
   "source": [
    "### SPECIFY PARAMETERS\n",
    "# Attribute to validate:\n",
    "attribute_names = ['SPD_LMT', 'RTE_NME']\n",
    "# Filter by attribute value (Equal to or Greater than) and Export long table:\n",
    "attribute_filters = {\n",
    "    'SPD_LMT':10,\n",
    "    'RTE_NME':'CENTROID CONNECTOR',\n",
    "}\n",
    "# Summarize by Node Maximum value and Export Geo:\n",
    "get_node_max = False\n",
    "\n",
    "\n",
    "### RUN FUNCTIONS\n",
    "network = link_compare(attribute_names, attribute_filters, get_node_max)\n",
    "network.head()"
   ]
  },
  {
   "cell_type": "markdown",
   "metadata": {},
   "source": [
    "### Network Link-to-Link attribute side-by-side validation: NUMBER OF LANES and FUNCTIONAL CLASS\n",
    "Filter by Number of Lanes"
   ]
  },
  {
   "cell_type": "code",
   "execution_count": null,
   "metadata": {
    "scrolled": false
   },
   "outputs": [],
   "source": [
    "### SPECIFY PARAMETERS\n",
    "# Attribute to validate:\n",
    "attribute_names = ['_LANES', 'FUNCCLASS']\n",
    "# Filter by attribute value (Equal to or Greater than) and Export long table:\n",
    "attribute_filters = {\n",
    "    '_LANES':2,\n",
    "}\n",
    "# Summarize by Node Maximum value and Export Geo:\n",
    "get_node_max = False\n",
    "\n",
    "\n",
    "### RUN FUNCTIONS\n",
    "network = link_compare(attribute_names, attribute_filters, get_node_max)\n",
    "network.head()"
   ]
  },
  {
   "cell_type": "code",
   "execution_count": null,
   "metadata": {},
   "outputs": [],
   "source": []
  },
  {
   "cell_type": "markdown",
   "metadata": {},
   "source": [
    "### Put attributes on the network"
   ]
  },
  {
   "cell_type": "code",
   "execution_count": null,
   "metadata": {},
   "outputs": [],
   "source": [
    "node_shp['X'] = node_shp.geometry.x\n",
    "node_shp['Y'] = node_shp.geometry.y\n",
    "nx.set_node_attributes(g, pd.Series(node_shp.X, index=node_shp.ID).to_dict(), 'X')\n",
    "nx.set_node_attributes(g, pd.Series(node_shp.Y, index=node_shp.ID).to_dict(), 'Y')"
   ]
  },
  {
   "cell_type": "markdown",
   "metadata": {},
   "source": [
    "### Visualizations (Slow- Due to Network Size)"
   ]
  },
  {
   "cell_type": "code",
   "execution_count": null,
   "metadata": {},
   "outputs": [],
   "source": [
    "# plt.subplot(121)\n",
    "\n",
    "#nx.draw(g, with_labels=True, font_weight='bold')\n",
    "#plt.subplot(122)\n",
    "\n",
    "#nx.draw_shell(G, nlist=[range(5, 10), range(5)], with_labels=True, font_weight='bold')"
   ]
  },
  {
   "cell_type": "raw",
   "metadata": {},
   "source": [
    "# Need to create a layout when doing\n",
    "# separate calls to draw nodes and edges\n",
    "pos = nx.spring_layout(g)\n",
    "nx.draw_networkx_nodes(g, pos)\n",
    "nx.draw_networkx_labels(g, pos)\n",
    "nx.draw_networkx_edges(g, pos, arrows=True)\n",
    "plt.show()"
   ]
  },
  {
   "cell_type": "raw",
   "metadata": {},
   "source": [
    "g_plot = CircosPlot(g)\n",
    "g_plot.draw()\n",
    "plt.show()"
   ]
  },
  {
   "cell_type": "code",
   "execution_count": null,
   "metadata": {},
   "outputs": [],
   "source": [
    "plt.figure(figsize=(8, 6))\n",
    "nx.draw(g, nx.spring_layout(g), node_size=10, node_color='blue')\n",
    "plt.show()\n"
   ]
  },
  {
   "cell_type": "code",
   "execution_count": null,
   "metadata": {},
   "outputs": [],
   "source": []
  }
 ],
 "metadata": {
  "kernelspec": {
   "display_name": "Python 3",
   "language": "python",
   "name": "python3"
  },
  "language_info": {
   "codemirror_mode": {
    "name": "ipython",
    "version": 3
   },
   "file_extension": ".py",
   "mimetype": "text/x-python",
   "name": "python",
   "nbconvert_exporter": "python",
   "pygments_lexer": "ipython3",
   "version": "3.6.11"
  }
 },
 "nbformat": 4,
 "nbformat_minor": 2
}
