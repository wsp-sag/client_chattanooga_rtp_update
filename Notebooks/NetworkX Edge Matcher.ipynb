{
 "cells": [
  {
   "cell_type": "markdown",
   "metadata": {},
   "source": [
    "## Network Validation Checks"
   ]
  },
  {
   "cell_type": "markdown",
   "metadata": {},
   "source": [
    "#### Import Libraries "
   ]
  },
  {
   "cell_type": "code",
   "execution_count": 1,
   "metadata": {},
   "outputs": [],
   "source": [
    "import os\n",
    "import geopandas as gpd\n",
    "import matplotlib.pyplot as plt\n",
    "import networkx as nx\n",
    "import numpy as np\n",
    "import pandas as pd\n",
    "# from nxviz import CircosPlot\n",
    "from shapely.geometry import LineString"
   ]
  },
  {
   "cell_type": "markdown",
   "metadata": {},
   "source": [
    "#### Load Network data from Shapefiles"
   ]
  },
  {
   "cell_type": "code",
   "execution_count": 2,
   "metadata": {},
   "outputs": [],
   "source": [
    "line_shp_load = gpd.read_file(os.path.join('..', 'data', 'Chatt_Master.shp')).to_crs(epsg=2274)\n",
    "node_shp_load = gpd.read_file(os.path.join('..', 'data', 'Chatt_Master_Node.shp')).to_crs(epsg=2274)"
   ]
  },
  {
   "cell_type": "markdown",
   "metadata": {},
   "source": [
    "### Build Network Graph"
   ]
  },
  {
   "cell_type": "markdown",
   "metadata": {},
   "source": [
    "#### Turn Two-Way Links into 2 One-Way Links for Directional Flow.\n",
    "#### Create Function: *directional_links*\n",
    "Keep AB Links and produce BA Links, carrying over link attributes based on the direction of flow."
   ]
  },
  {
   "cell_type": "code",
   "execution_count": 3,
   "metadata": {},
   "outputs": [],
   "source": [
    "def directional_links(atts, line_shp):\n",
    "    dirs = {'keep':'AB', 'invert':'BA'}\n",
    "    dfs = {}\n",
    "    \n",
    "    for flow,d in dirs.items():\n",
    "        links = line_shp[line_shp['{}_LANES'.format(d)] > 0].copy()\n",
    "        rename_dict = {'{}{}'.format(d, a):a for a in atts}\n",
    "        links = links.rename(columns=rename_dict)\n",
    "        \n",
    "        if flow == 'invert':\n",
    "            links['A'] = links['TO_ID']\n",
    "            links['B'] = links['FROM_ID']\n",
    "            links = links.drop(columns=['FROM_ID', 'TO_ID']).rename(columns={'A': 'FROM_ID', 'B': 'TO_ID'})\n",
    "        \n",
    "        dfs['{}_links'.format(d)] = links\n",
    "    \n",
    "    links = pd.concat(dfs.values(), ignore_index=True)\n",
    "    \n",
    "    drop_dict = ['{}{}'.format(d, a) for a in atts for d in dirs.values()]\n",
    "    links = links.drop(columns=drop_dict)\n",
    "    \n",
    "    return links"
   ]
  },
  {
   "cell_type": "code",
   "execution_count": 4,
   "metadata": {},
   "outputs": [],
   "source": [
    "def segment_heading(line, first_segment=True, flip=False):\n",
    "    if flip:\n",
    "        line = LineString(line.coords[::-1])\n",
    "    \n",
    "    segment = line.coords[:2] if first_segment else line.coords[-2:]\n",
    "    \n",
    "    from_pt = segment[0]\n",
    "    to_pt = segment[1]\n",
    "    \n",
    "    y_delta = to_pt[1] - from_pt[1]\n",
    "    x_delta = to_pt[0] - from_pt[0]\n",
    "\n",
    "    angle_radians = np.arctan2(y_delta, x_delta)\n",
    "    if angle_radians < 0:\n",
    "        angle_radians = 2 * np.pi + angle_radians;\n",
    "\n",
    "    #Convert to Degrees and Return\n",
    "    return angle_radians * 180 / np.pi"
   ]
  },
  {
   "cell_type": "markdown",
   "metadata": {},
   "source": [
    "#### Generate Directional links with Attributes\n",
    "####  Call Function: *directional_links*\n",
    "Use list of Directional Attributes to carry over, e.g. 'AB_LANES' and 'BA_LANES', to '_LANES' "
   ]
  },
  {
   "cell_type": "code",
   "execution_count": 5,
   "metadata": {},
   "outputs": [],
   "source": [
    "# List of Directional Attributes\n",
    "atts = [\n",
    "    '_LINKDIR',\n",
    "    '_LINKDTR',\n",
    "    '_LANES',\n",
    "    '_PARKING',\n",
    "    '_TRIMS',\n",
    "    '_AADT',\n",
    "    '_CAR_ADT',\n",
    "    '_SUT_ADT',\n",
    "    '_MUT_ADT',\n",
    "    '_BASEVOL',\n",
    "    '_AFFTIME',\n",
    "    '_AFFSPD',\n",
    "    '_UCDELAY',\n",
    "    '_DLYCAP',\n",
    "    '_AMCAP',\n",
    "    '_PMCAP',\n",
    "    '_BPRA',\n",
    "    '_BPRB'\n",
    "]\n",
    "# Generate Directional Links\n",
    "line_shp = directional_links(atts, line_shp_load)\n",
    "\n",
    "\n",
    "# Heading AB\n",
    "line_shp['AB_START_HEADING'] = line_shp['geometry'].apply(segment_heading, first_segment=True)\n",
    "line_shp['AB_END_HEADING'] = line_shp['geometry'].apply(segment_heading, first_segment=False)\n",
    "# Heading BA\n",
    "line_shp['BA_START_HEADING'] = line_shp['geometry'].apply(segment_heading, first_segment=True, flip=True)\n",
    "line_shp['BA_END_HEADING'] = line_shp['geometry'].apply(segment_heading, first_segment=False, flip=True)"
   ]
  },
  {
   "cell_type": "markdown",
   "metadata": {},
   "source": [
    "####  Build the Directional Graph: *g*\n",
    "#### Call Method: *nx.from_pandas_edgelist*"
   ]
  },
  {
   "cell_type": "code",
   "execution_count": 6,
   "metadata": {},
   "outputs": [],
   "source": [
    "g = nx.from_pandas_edgelist(\n",
    "    line_shp,\n",
    "    source='FROM_ID',\n",
    "    target='TO_ID',\n",
    "    edge_attr=True,\n",
    "    create_using=nx.DiGraph()\n",
    ")\n",
    "\n",
    "assert nx.is_directed(g)"
   ]
  },
  {
   "cell_type": "markdown",
   "metadata": {},
   "source": [
    "### Link to Link validation Functions"
   ]
  },
  {
   "cell_type": "markdown",
   "metadata": {},
   "source": [
    "#### Create Function: *link_matcher_atts*: \n",
    "For each node in Network, match all combinations of In/ Out Links and return both In and Out values"
   ]
  },
  {
   "cell_type": "code",
   "execution_count": 7,
   "metadata": {
    "scrolled": true
   },
   "outputs": [],
   "source": [
    "def link_matcher_atts(*atts, graph, edge_id='ID'):\n",
    "    node_feed = []\n",
    "\n",
    "    for node in node_shp_load['ID']:\n",
    "        if node not in g:\n",
    "            print('Node not in network: {}'.format(node))\n",
    "            continue\n",
    "\n",
    "        for i_o, i_d, i_data  in g.in_edges(node, data=True):\n",
    "            for o_o, o_d, o_data in g.out_edges(node, data=True):\n",
    "                if i_o == o_d and i_d == o_o:\n",
    "                    # This is just a U-Turn on the \"same\" link\n",
    "                    continue\n",
    "                    \n",
    "                data = [i_data, o_data]                \n",
    "                node_feed.append([node, \n",
    "                                  *[d[edge_id] for d in data],\n",
    "                                  *[d[a] for a in atts for d in data],\n",
    "#                                   *[o_data[a] - i_data[a] for a in atts]\n",
    "                                 ])\n",
    "\n",
    "    # Generate Column names\n",
    "    dirs = ['in', 'out']\n",
    "    cols = ['node',\n",
    "            *[ d+'_'+edge_id for d in dirs],\n",
    "            *[ d+'_'+a for a in atts for d in dirs],\n",
    "#             *['diff_'+a for a in atts]\n",
    "           ]\n",
    "\n",
    "    return pd.DataFrame(node_feed, columns=cols)"
   ]
  },
  {
   "cell_type": "markdown",
   "metadata": {},
   "source": [
    "#### Create Function: *attribute_filter_atts*: \n",
    "Apply Attribute to filter by difference value "
   ]
  },
  {
   "cell_type": "code",
   "execution_count": 8,
   "metadata": {
    "scrolled": true
   },
   "outputs": [],
   "source": [
    "def attribute_change(network, attributes):\n",
    "    for att in attributes:\n",
    "        in_fld = 'in_{}'.format(att)\n",
    "        print(network[in_fld][0])\n",
    "        out_fld = 'out_{}'.format(att)\n",
    "        fld_diff = 'diff_{}'.format(att)\n",
    "#         abs_fld_diff = 'abs_diff_{}'.format(filter_name)\n",
    "    \n",
    "        if isinstance(network[in_fld][0], (int, float)):\n",
    "            network[fld_diff] = network[out_fld] - network[in_fld]\n",
    "        elif isinstance(network[in_fld][0], str):\n",
    "            network[fld_diff] = 'SAME' if network[out_fld].str == network[in_fld].str else 'CHANGES'\n",
    "\n",
    "    return network#.groupby([in_fld, out_fld]).count().reset_index()"
   ]
  },
  {
   "cell_type": "code",
   "execution_count": 10,
   "metadata": {
    "scrolled": true
   },
   "outputs": [],
   "source": [
    "def attribute_filtering(network, att_filters, get_node_max):\n",
    "    for filter_name, filter_val in att_filters.items():\n",
    "        in_fld = 'in_{}'.format(filter_name)\n",
    "        out_fld = 'out_{}'.format(filter_name)\n",
    "        fld_diff = 'diff_{}'.format(filter_name)\n",
    "#         abs_fld_diff = 'abs_diff_{}'.format(filter_name)\n",
    "    \n",
    "        if isinstance(filter_val, (int, float)):\n",
    "            network = network[abs(network[fld_diff]) >= filter_val]\n",
    "        elif isinstance(filter_val, str):\n",
    "            network = network[(network[in_fld] == filter_val) | (network[out_fld] == filter_val)]\n",
    "\n",
    "    return network#.groupby([in_fld, out_fld]).count().reset_index()"
   ]
  },
  {
   "cell_type": "code",
   "execution_count": 11,
   "metadata": {},
   "outputs": [],
   "source": [
    "# In/Out Long Table\n",
    "def export_geo_compare(network, att_name, att_name_add=None):\n",
    "    fld_diff = 'diff_{}'.format(att_name)\n",
    "    \n",
    "    network = network.rename(columns={'out_ID':'ID'})\n",
    "\n",
    "    # geometries\n",
    "    geo_cols = ['ID', 'geometry']\n",
    "#     if att_name_add: geo_cols.append(att_name_add)\n",
    "    network = pd.merge(line_shp_load[geo_cols], network, on='ID')\n",
    "    \n",
    "    shp_export = os.path.join('..', 'data', 'Network_attribute_change_{}.shp'.format('_'.join([n for n in att_name])))\n",
    "    network.to_file(shp_export)\n",
    "#     return network#.sort_values(by=fld_diff, ascending=False), shp_export\n",
    "    return network, shp_export"
   ]
  },
  {
   "cell_type": "markdown",
   "metadata": {},
   "source": [
    "#### Create Function: *link_compare*: \n",
    "Call functions to calculate Link-to-Link attribute comparison"
   ]
  },
  {
   "cell_type": "code",
   "execution_count": 25,
   "metadata": {},
   "outputs": [],
   "source": [
    "def link_compare(attribute_names, attribute_filters, get_node_max):\n",
    "    network = link_matcher_atts(*attribute_names, graph=g)\n",
    "    network = attribute_change(network, attribute_names)\n",
    "    network = attribute_filtering(network,\n",
    "                                attribute_filters,\n",
    "                                get_node_max\n",
    "                                )\n",
    "    csv_export = os.path.join('..', 'data', 'Network_attribute_change_table_{}.csv'.format('_'.join([n for n in attribute_names])))\n",
    "    network.to_csv(csv_export, index=False)\n",
    "    \n",
    "    # Print\n",
    "    print_txt = 'Total {} network links with change in {}: {:,}'\n",
    "    print(print_txt.format('SUMMARIZED' if get_node_max else '\\b',\n",
    "                           ', '.join([n for n in attribute_names]),\n",
    "                           len(network)\n",
    "                           ))\n",
    "    print('Table exported to {}'.format(csv_export))\n",
    "    if get_node_max:\n",
    "        network, shp_export = export_geo_compare(network, attribute_filters)\n",
    "        print('Shapefile exported to {}'.format(shp_export))\n",
    "\n",
    "    return network"
   ]
  },
  {
   "cell_type": "markdown",
   "metadata": {},
   "source": [
    "## VALIDATION TESTS"
   ]
  },
  {
   "cell_type": "markdown",
   "metadata": {},
   "source": [
    "### Network Link-to-Link attribute side-by-side validation: SPEED LIMIT and FUNCTIONAL CLASS"
   ]
  },
  {
   "cell_type": "code",
   "execution_count": 27,
   "metadata": {
    "scrolled": false
   },
   "outputs": [
    {
     "name": "stdout",
     "output_type": "stream",
     "text": [
      "45.0\n",
      "2.0\n",
      "Total SUMMARIZED network links with change in SPD_LMT, _LANES: 238\n",
      "Table exported to ..\\data\\Network_attribute_change_table_SPD_LMT__LANES.csv\n",
      "Shapefile exported to ..\\data\\Network_attribute_change_SPD_LMT__LANES.shp\n"
     ]
    },
    {
     "data": {
      "text/html": [
       "<div>\n",
       "<style scoped>\n",
       "    .dataframe tbody tr th:only-of-type {\n",
       "        vertical-align: middle;\n",
       "    }\n",
       "\n",
       "    .dataframe tbody tr th {\n",
       "        vertical-align: top;\n",
       "    }\n",
       "\n",
       "    .dataframe thead th {\n",
       "        text-align: right;\n",
       "    }\n",
       "</style>\n",
       "<table border=\"1\" class=\"dataframe\">\n",
       "  <thead>\n",
       "    <tr style=\"text-align: right;\">\n",
       "      <th></th>\n",
       "      <th>ID</th>\n",
       "      <th>geometry</th>\n",
       "      <th>node</th>\n",
       "      <th>in_ID</th>\n",
       "      <th>in_SPD_LMT</th>\n",
       "      <th>out_SPD_LMT</th>\n",
       "      <th>in__LANES</th>\n",
       "      <th>out__LANES</th>\n",
       "      <th>diff_SPD_LMT</th>\n",
       "      <th>diff__LANES</th>\n",
       "    </tr>\n",
       "  </thead>\n",
       "  <tbody>\n",
       "    <tr>\n",
       "      <th>0</th>\n",
       "      <td>153</td>\n",
       "      <td>LINESTRING (2209220.826 268047.894, 2209150.14...</td>\n",
       "      <td>2079</td>\n",
       "      <td>55</td>\n",
       "      <td>45.0</td>\n",
       "      <td>55.0</td>\n",
       "      <td>1.0</td>\n",
       "      <td>3.0</td>\n",
       "      <td>10.0</td>\n",
       "      <td>2.0</td>\n",
       "    </tr>\n",
       "    <tr>\n",
       "      <th>1</th>\n",
       "      <td>667</td>\n",
       "      <td>LINESTRING (2209182.192 268014.816, 2209077.66...</td>\n",
       "      <td>2613</td>\n",
       "      <td>586</td>\n",
       "      <td>45.0</td>\n",
       "      <td>55.0</td>\n",
       "      <td>1.0</td>\n",
       "      <td>3.0</td>\n",
       "      <td>10.0</td>\n",
       "      <td>2.0</td>\n",
       "    </tr>\n",
       "    <tr>\n",
       "      <th>2</th>\n",
       "      <td>2136</td>\n",
       "      <td>LINESTRING (2169602.094 279040.445, 2169562.60...</td>\n",
       "      <td>2746</td>\n",
       "      <td>723</td>\n",
       "      <td>30.0</td>\n",
       "      <td>45.0</td>\n",
       "      <td>1.0</td>\n",
       "      <td>3.0</td>\n",
       "      <td>15.0</td>\n",
       "      <td>2.0</td>\n",
       "    </tr>\n",
       "    <tr>\n",
       "      <th>3</th>\n",
       "      <td>15965</td>\n",
       "      <td>LINESTRING (2132079.841 230583.789, 2132186.81...</td>\n",
       "      <td>15215</td>\n",
       "      <td>17654</td>\n",
       "      <td>65.0</td>\n",
       "      <td>45.0</td>\n",
       "      <td>3.0</td>\n",
       "      <td>1.0</td>\n",
       "      <td>-20.0</td>\n",
       "      <td>-2.0</td>\n",
       "    </tr>\n",
       "    <tr>\n",
       "      <th>4</th>\n",
       "      <td>1239</td>\n",
       "      <td>LINESTRING (2169495.944 279250.838, 2169244.58...</td>\n",
       "      <td>2746</td>\n",
       "      <td>723</td>\n",
       "      <td>30.0</td>\n",
       "      <td>45.0</td>\n",
       "      <td>1.0</td>\n",
       "      <td>3.0</td>\n",
       "      <td>15.0</td>\n",
       "      <td>2.0</td>\n",
       "    </tr>\n",
       "  </tbody>\n",
       "</table>\n",
       "</div>"
      ],
      "text/plain": [
       "      ID                                           geometry   node  in_ID  \\\n",
       "0    153  LINESTRING (2209220.826 268047.894, 2209150.14...   2079     55   \n",
       "1    667  LINESTRING (2209182.192 268014.816, 2209077.66...   2613    586   \n",
       "2   2136  LINESTRING (2169602.094 279040.445, 2169562.60...   2746    723   \n",
       "3  15965  LINESTRING (2132079.841 230583.789, 2132186.81...  15215  17654   \n",
       "4   1239  LINESTRING (2169495.944 279250.838, 2169244.58...   2746    723   \n",
       "\n",
       "   in_SPD_LMT  out_SPD_LMT  in__LANES  out__LANES  diff_SPD_LMT  diff__LANES  \n",
       "0        45.0         55.0        1.0         3.0          10.0          2.0  \n",
       "1        45.0         55.0        1.0         3.0          10.0          2.0  \n",
       "2        30.0         45.0        1.0         3.0          15.0          2.0  \n",
       "3        65.0         45.0        3.0         1.0         -20.0         -2.0  \n",
       "4        30.0         45.0        1.0         3.0          15.0          2.0  "
      ]
     },
     "execution_count": 27,
     "metadata": {},
     "output_type": "execute_result"
    }
   ],
   "source": [
    "### SPECIFY PARAMETERS\n",
    "# Attribute to validate:\n",
    "attribute_names = ['SPD_LMT', '_LANES']\n",
    "# Filter by attribute value (Equal to or Greater than) and Export long table:\n",
    "attribute_filters = {\n",
    "    'SPD_LMT':10,\n",
    "    '_LANES':2\n",
    "}\n",
    "# Summarize by Node Maximum value and Export Geo:\n",
    "get_node_max = True\n",
    "\n",
    "\n",
    "### RUN FUNCTIONS\n",
    "network = link_compare(attribute_names, attribute_filters, get_node_max)\n",
    "network.head()"
   ]
  },
  {
   "cell_type": "markdown",
   "metadata": {},
   "source": [
    "### Network Link-to-Link attribute side-by-side validation: SPEED LIMIT and ROUTE NAME\n",
    "Filter by Speed Limit"
   ]
  },
  {
   "cell_type": "code",
   "execution_count": 21,
   "metadata": {
    "scrolled": false
   },
   "outputs": [
    {
     "name": "stdout",
     "output_type": "stream",
     "text": [
      "45.0\n",
      "CENTROID CONNECTOR\n",
      "Total \b network links with change in SPD_LMT, RTE_NME: 7,791\n",
      "Table exported to ..\\data\\Network_attribute_change_table_SPD_LMT_RTE_NME.csv\n"
     ]
    },
    {
     "data": {
      "text/html": [
       "<div>\n",
       "<style scoped>\n",
       "    .dataframe tbody tr th:only-of-type {\n",
       "        vertical-align: middle;\n",
       "    }\n",
       "\n",
       "    .dataframe tbody tr th {\n",
       "        vertical-align: top;\n",
       "    }\n",
       "\n",
       "    .dataframe thead th {\n",
       "        text-align: right;\n",
       "    }\n",
       "</style>\n",
       "<table border=\"1\" class=\"dataframe\">\n",
       "  <thead>\n",
       "    <tr style=\"text-align: right;\">\n",
       "      <th></th>\n",
       "      <th>node</th>\n",
       "      <th>in_ID</th>\n",
       "      <th>out_ID</th>\n",
       "      <th>in_SPD_LMT</th>\n",
       "      <th>out_SPD_LMT</th>\n",
       "      <th>in_RTE_NME</th>\n",
       "      <th>out_RTE_NME</th>\n",
       "      <th>diff_SPD_LMT</th>\n",
       "      <th>diff_RTE_NME</th>\n",
       "    </tr>\n",
       "  </thead>\n",
       "  <tbody>\n",
       "    <tr>\n",
       "      <th>14</th>\n",
       "      <td>11161</td>\n",
       "      <td>38587</td>\n",
       "      <td>10186</td>\n",
       "      <td>45.0</td>\n",
       "      <td>55.0</td>\n",
       "      <td>CENTROID CONNECTOR</td>\n",
       "      <td>GEORGETOWN RD NW</td>\n",
       "      <td>10.0</td>\n",
       "      <td>CHANGES</td>\n",
       "    </tr>\n",
       "    <tr>\n",
       "      <th>15</th>\n",
       "      <td>11161</td>\n",
       "      <td>10186</td>\n",
       "      <td>38587</td>\n",
       "      <td>55.0</td>\n",
       "      <td>45.0</td>\n",
       "      <td>GEORGETOWN RD NW</td>\n",
       "      <td>CENTROID CONNECTOR</td>\n",
       "      <td>-10.0</td>\n",
       "      <td>CHANGES</td>\n",
       "    </tr>\n",
       "    <tr>\n",
       "      <th>18</th>\n",
       "      <td>2158</td>\n",
       "      <td>284</td>\n",
       "      <td>110</td>\n",
       "      <td>45.0</td>\n",
       "      <td>65.0</td>\n",
       "      <td>None</td>\n",
       "      <td>US-27</td>\n",
       "      <td>20.0</td>\n",
       "      <td>CHANGES</td>\n",
       "    </tr>\n",
       "    <tr>\n",
       "      <th>22</th>\n",
       "      <td>2674</td>\n",
       "      <td>635</td>\n",
       "      <td>782</td>\n",
       "      <td>65.0</td>\n",
       "      <td>45.0</td>\n",
       "      <td>US-27</td>\n",
       "      <td>None</td>\n",
       "      <td>-20.0</td>\n",
       "      <td>CHANGES</td>\n",
       "    </tr>\n",
       "    <tr>\n",
       "      <th>158</th>\n",
       "      <td>2523</td>\n",
       "      <td>2308</td>\n",
       "      <td>487</td>\n",
       "      <td>45.0</td>\n",
       "      <td>55.0</td>\n",
       "      <td>TN-58</td>\n",
       "      <td>TN-58</td>\n",
       "      <td>10.0</td>\n",
       "      <td>CHANGES</td>\n",
       "    </tr>\n",
       "  </tbody>\n",
       "</table>\n",
       "</div>"
      ],
      "text/plain": [
       "      node  in_ID  out_ID  in_SPD_LMT  out_SPD_LMT          in_RTE_NME  \\\n",
       "14   11161  38587   10186        45.0         55.0  CENTROID CONNECTOR   \n",
       "15   11161  10186   38587        55.0         45.0    GEORGETOWN RD NW   \n",
       "18    2158    284     110        45.0         65.0                None   \n",
       "22    2674    635     782        65.0         45.0               US-27   \n",
       "158   2523   2308     487        45.0         55.0               TN-58   \n",
       "\n",
       "            out_RTE_NME  diff_SPD_LMT diff_RTE_NME  \n",
       "14     GEORGETOWN RD NW          10.0      CHANGES  \n",
       "15   CENTROID CONNECTOR         -10.0      CHANGES  \n",
       "18                US-27          20.0      CHANGES  \n",
       "22                 None         -20.0      CHANGES  \n",
       "158               TN-58          10.0      CHANGES  "
      ]
     },
     "execution_count": 21,
     "metadata": {},
     "output_type": "execute_result"
    }
   ],
   "source": [
    "### SPECIFY PARAMETERS\n",
    "# Attribute to validate:\n",
    "attribute_names = ['SPD_LMT', 'RTE_NME']\n",
    "# Filter by attribute value (Equal to or Greater than) and Export long table:\n",
    "attribute_filters = {\n",
    "    'SPD_LMT':10,\n",
    "}\n",
    "# Summarize by Node Maximum value and Export Geo:\n",
    "get_node_max = False\n",
    "\n",
    "\n",
    "### RUN FUNCTIONS\n",
    "network = link_compare(attribute_names, attribute_filters, get_node_max)\n",
    "network.head()"
   ]
  },
  {
   "cell_type": "markdown",
   "metadata": {},
   "source": [
    "### Network Link-to-Link attribute side-by-side validation: SPEED LIMIT and ROUTE NAME\n",
    "Filter by Route Name"
   ]
  },
  {
   "cell_type": "code",
   "execution_count": 23,
   "metadata": {
    "scrolled": false
   },
   "outputs": [
    {
     "name": "stdout",
     "output_type": "stream",
     "text": [
      "45.0\n",
      "CENTROID CONNECTOR\n",
      "Total \b network links with change in SPD_LMT, RTE_NME: 5,522\n",
      "Table exported to ..\\data\\Network_attribute_change_table_SPD_LMT_RTE_NME.csv\n"
     ]
    },
    {
     "data": {
      "text/html": [
       "<div>\n",
       "<style scoped>\n",
       "    .dataframe tbody tr th:only-of-type {\n",
       "        vertical-align: middle;\n",
       "    }\n",
       "\n",
       "    .dataframe tbody tr th {\n",
       "        vertical-align: top;\n",
       "    }\n",
       "\n",
       "    .dataframe thead th {\n",
       "        text-align: right;\n",
       "    }\n",
       "</style>\n",
       "<table border=\"1\" class=\"dataframe\">\n",
       "  <thead>\n",
       "    <tr style=\"text-align: right;\">\n",
       "      <th></th>\n",
       "      <th>node</th>\n",
       "      <th>in_ID</th>\n",
       "      <th>out_ID</th>\n",
       "      <th>in_SPD_LMT</th>\n",
       "      <th>out_SPD_LMT</th>\n",
       "      <th>in_RTE_NME</th>\n",
       "      <th>out_RTE_NME</th>\n",
       "      <th>diff_SPD_LMT</th>\n",
       "      <th>diff_RTE_NME</th>\n",
       "    </tr>\n",
       "  </thead>\n",
       "  <tbody>\n",
       "    <tr>\n",
       "      <th>14</th>\n",
       "      <td>11161</td>\n",
       "      <td>38587</td>\n",
       "      <td>10186</td>\n",
       "      <td>45.0</td>\n",
       "      <td>55.0</td>\n",
       "      <td>CENTROID CONNECTOR</td>\n",
       "      <td>GEORGETOWN RD NW</td>\n",
       "      <td>10.0</td>\n",
       "      <td>CHANGES</td>\n",
       "    </tr>\n",
       "    <tr>\n",
       "      <th>15</th>\n",
       "      <td>11161</td>\n",
       "      <td>10186</td>\n",
       "      <td>38587</td>\n",
       "      <td>55.0</td>\n",
       "      <td>45.0</td>\n",
       "      <td>GEORGETOWN RD NW</td>\n",
       "      <td>CENTROID CONNECTOR</td>\n",
       "      <td>-10.0</td>\n",
       "      <td>CHANGES</td>\n",
       "    </tr>\n",
       "    <tr>\n",
       "      <th>486</th>\n",
       "      <td>7410</td>\n",
       "      <td>5814</td>\n",
       "      <td>37902</td>\n",
       "      <td>35.0</td>\n",
       "      <td>45.0</td>\n",
       "      <td>DELASHMITT RD</td>\n",
       "      <td>CENTROID CONNECTOR</td>\n",
       "      <td>10.0</td>\n",
       "      <td>CHANGES</td>\n",
       "    </tr>\n",
       "    <tr>\n",
       "      <th>487</th>\n",
       "      <td>7410</td>\n",
       "      <td>37902</td>\n",
       "      <td>5779</td>\n",
       "      <td>45.0</td>\n",
       "      <td>35.0</td>\n",
       "      <td>CENTROID CONNECTOR</td>\n",
       "      <td>DELASHMITT RD</td>\n",
       "      <td>-10.0</td>\n",
       "      <td>CHANGES</td>\n",
       "    </tr>\n",
       "    <tr>\n",
       "      <th>489</th>\n",
       "      <td>7410</td>\n",
       "      <td>37902</td>\n",
       "      <td>5814</td>\n",
       "      <td>45.0</td>\n",
       "      <td>35.0</td>\n",
       "      <td>CENTROID CONNECTOR</td>\n",
       "      <td>DELASHMITT RD</td>\n",
       "      <td>-10.0</td>\n",
       "      <td>CHANGES</td>\n",
       "    </tr>\n",
       "  </tbody>\n",
       "</table>\n",
       "</div>"
      ],
      "text/plain": [
       "      node  in_ID  out_ID  in_SPD_LMT  out_SPD_LMT          in_RTE_NME  \\\n",
       "14   11161  38587   10186        45.0         55.0  CENTROID CONNECTOR   \n",
       "15   11161  10186   38587        55.0         45.0    GEORGETOWN RD NW   \n",
       "486   7410   5814   37902        35.0         45.0       DELASHMITT RD   \n",
       "487   7410  37902    5779        45.0         35.0  CENTROID CONNECTOR   \n",
       "489   7410  37902    5814        45.0         35.0  CENTROID CONNECTOR   \n",
       "\n",
       "            out_RTE_NME  diff_SPD_LMT diff_RTE_NME  \n",
       "14     GEORGETOWN RD NW          10.0      CHANGES  \n",
       "15   CENTROID CONNECTOR         -10.0      CHANGES  \n",
       "486  CENTROID CONNECTOR          10.0      CHANGES  \n",
       "487       DELASHMITT RD         -10.0      CHANGES  \n",
       "489       DELASHMITT RD         -10.0      CHANGES  "
      ]
     },
     "execution_count": 23,
     "metadata": {},
     "output_type": "execute_result"
    }
   ],
   "source": [
    "### SPECIFY PARAMETERS\n",
    "# Attribute to validate:\n",
    "attribute_names = ['SPD_LMT', 'RTE_NME']\n",
    "# Filter by attribute value (Equal to or Greater than) and Export long table:\n",
    "attribute_filters = {\n",
    "    'SPD_LMT':10,\n",
    "    'RTE_NME':'CENTROID CONNECTOR',\n",
    "}\n",
    "# Summarize by Node Maximum value and Export Geo:\n",
    "get_node_max = False\n",
    "\n",
    "\n",
    "### RUN FUNCTIONS\n",
    "network = link_compare(attribute_names, attribute_filters, get_node_max)\n",
    "network.head()"
   ]
  },
  {
   "cell_type": "markdown",
   "metadata": {},
   "source": [
    "### Network Link-to-Link attribute side-by-side validation: NUMBER OF LANES and FUNCTIONAL CLASS\n",
    "Filter by Number of Lanes"
   ]
  },
  {
   "cell_type": "code",
   "execution_count": 24,
   "metadata": {
    "scrolled": false
   },
   "outputs": [
    {
     "name": "stdout",
     "output_type": "stream",
     "text": [
      "2.0\n",
      "98.0\n",
      "Total \b network links with change in _LANES, FUNCCLASS: 776\n",
      "Table exported to ..\\data\\Network_attribute_change_table__LANES_FUNCCLASS.csv\n"
     ]
    },
    {
     "data": {
      "text/html": [
       "<div>\n",
       "<style scoped>\n",
       "    .dataframe tbody tr th:only-of-type {\n",
       "        vertical-align: middle;\n",
       "    }\n",
       "\n",
       "    .dataframe tbody tr th {\n",
       "        vertical-align: top;\n",
       "    }\n",
       "\n",
       "    .dataframe thead th {\n",
       "        text-align: right;\n",
       "    }\n",
       "</style>\n",
       "<table border=\"1\" class=\"dataframe\">\n",
       "  <thead>\n",
       "    <tr style=\"text-align: right;\">\n",
       "      <th></th>\n",
       "      <th>node</th>\n",
       "      <th>in_ID</th>\n",
       "      <th>out_ID</th>\n",
       "      <th>in__LANES</th>\n",
       "      <th>out__LANES</th>\n",
       "      <th>in_FUNCCLASS</th>\n",
       "      <th>out_FUNCCLASS</th>\n",
       "      <th>diff__LANES</th>\n",
       "      <th>diff_FUNCCLASS</th>\n",
       "    </tr>\n",
       "  </thead>\n",
       "  <tbody>\n",
       "    <tr>\n",
       "      <th>59</th>\n",
       "      <td>3175</td>\n",
       "      <td>13886</td>\n",
       "      <td>2063</td>\n",
       "      <td>1.0</td>\n",
       "      <td>3.0</td>\n",
       "      <td>19.0</td>\n",
       "      <td>14.0</td>\n",
       "      <td>2.0</td>\n",
       "      <td>-5.0</td>\n",
       "    </tr>\n",
       "    <tr>\n",
       "      <th>65</th>\n",
       "      <td>3175</td>\n",
       "      <td>11550</td>\n",
       "      <td>2063</td>\n",
       "      <td>1.0</td>\n",
       "      <td>3.0</td>\n",
       "      <td>19.0</td>\n",
       "      <td>14.0</td>\n",
       "      <td>2.0</td>\n",
       "      <td>-5.0</td>\n",
       "    </tr>\n",
       "    <tr>\n",
       "      <th>91</th>\n",
       "      <td>3734</td>\n",
       "      <td>1689</td>\n",
       "      <td>11674</td>\n",
       "      <td>3.0</td>\n",
       "      <td>1.0</td>\n",
       "      <td>14.0</td>\n",
       "      <td>19.0</td>\n",
       "      <td>-2.0</td>\n",
       "      <td>5.0</td>\n",
       "    </tr>\n",
       "    <tr>\n",
       "      <th>98</th>\n",
       "      <td>3734</td>\n",
       "      <td>1690</td>\n",
       "      <td>11674</td>\n",
       "      <td>3.0</td>\n",
       "      <td>1.0</td>\n",
       "      <td>14.0</td>\n",
       "      <td>19.0</td>\n",
       "      <td>-2.0</td>\n",
       "      <td>5.0</td>\n",
       "    </tr>\n",
       "    <tr>\n",
       "      <th>102</th>\n",
       "      <td>3734</td>\n",
       "      <td>11674</td>\n",
       "      <td>1690</td>\n",
       "      <td>1.0</td>\n",
       "      <td>3.0</td>\n",
       "      <td>19.0</td>\n",
       "      <td>14.0</td>\n",
       "      <td>2.0</td>\n",
       "      <td>-5.0</td>\n",
       "    </tr>\n",
       "  </tbody>\n",
       "</table>\n",
       "</div>"
      ],
      "text/plain": [
       "     node  in_ID  out_ID  in__LANES  out__LANES  in_FUNCCLASS  out_FUNCCLASS  \\\n",
       "59   3175  13886    2063        1.0         3.0          19.0           14.0   \n",
       "65   3175  11550    2063        1.0         3.0          19.0           14.0   \n",
       "91   3734   1689   11674        3.0         1.0          14.0           19.0   \n",
       "98   3734   1690   11674        3.0         1.0          14.0           19.0   \n",
       "102  3734  11674    1690        1.0         3.0          19.0           14.0   \n",
       "\n",
       "     diff__LANES  diff_FUNCCLASS  \n",
       "59           2.0            -5.0  \n",
       "65           2.0            -5.0  \n",
       "91          -2.0             5.0  \n",
       "98          -2.0             5.0  \n",
       "102          2.0            -5.0  "
      ]
     },
     "execution_count": 24,
     "metadata": {},
     "output_type": "execute_result"
    }
   ],
   "source": [
    "### SPECIFY PARAMETERS\n",
    "# Attribute to validate:\n",
    "attribute_names = ['_LANES', 'FUNCCLASS']\n",
    "# Filter by attribute value (Equal to or Greater than) and Export long table:\n",
    "attribute_filters = {\n",
    "    '_LANES':2,\n",
    "}\n",
    "# Summarize by Node Maximum value and Export Geo:\n",
    "get_node_max = False\n",
    "\n",
    "\n",
    "### RUN FUNCTIONS\n",
    "network = link_compare(attribute_names, attribute_filters, get_node_max)\n",
    "network.head()"
   ]
  },
  {
   "cell_type": "code",
   "execution_count": null,
   "metadata": {},
   "outputs": [],
   "source": []
  },
  {
   "cell_type": "markdown",
   "metadata": {},
   "source": [
    "### Put attributes on the network"
   ]
  },
  {
   "cell_type": "code",
   "execution_count": null,
   "metadata": {},
   "outputs": [],
   "source": [
    "node_shp['X'] = node_shp.geometry.x\n",
    "node_shp['Y'] = node_shp.geometry.y\n",
    "nx.set_node_attributes(g, pd.Series(node_shp.X, index=node_shp.ID).to_dict(), 'X')\n",
    "nx.set_node_attributes(g, pd.Series(node_shp.Y, index=node_shp.ID).to_dict(), 'Y')"
   ]
  },
  {
   "cell_type": "markdown",
   "metadata": {},
   "source": [
    "### Visualizations (Slow- Due to Network Size)"
   ]
  },
  {
   "cell_type": "code",
   "execution_count": null,
   "metadata": {},
   "outputs": [],
   "source": [
    "# plt.subplot(121)\n",
    "\n",
    "#nx.draw(g, with_labels=True, font_weight='bold')\n",
    "#plt.subplot(122)\n",
    "\n",
    "#nx.draw_shell(G, nlist=[range(5, 10), range(5)], with_labels=True, font_weight='bold')"
   ]
  },
  {
   "cell_type": "raw",
   "metadata": {},
   "source": [
    "# Need to create a layout when doing\n",
    "# separate calls to draw nodes and edges\n",
    "pos = nx.spring_layout(g)\n",
    "nx.draw_networkx_nodes(g, pos)\n",
    "nx.draw_networkx_labels(g, pos)\n",
    "nx.draw_networkx_edges(g, pos, arrows=True)\n",
    "plt.show()"
   ]
  },
  {
   "cell_type": "raw",
   "metadata": {},
   "source": [
    "g_plot = CircosPlot(g)\n",
    "g_plot.draw()\n",
    "plt.show()"
   ]
  },
  {
   "cell_type": "code",
   "execution_count": null,
   "metadata": {},
   "outputs": [],
   "source": [
    "plt.figure(figsize=(8, 6))\n",
    "nx.draw(g, nx.spring_layout(g), node_size=10, node_color='blue')\n",
    "plt.show()\n"
   ]
  },
  {
   "cell_type": "code",
   "execution_count": null,
   "metadata": {},
   "outputs": [],
   "source": []
  }
 ],
 "metadata": {
  "kernelspec": {
   "display_name": "Python 3",
   "language": "python",
   "name": "python3"
  },
  "language_info": {
   "codemirror_mode": {
    "name": "ipython",
    "version": 3
   },
   "file_extension": ".py",
   "mimetype": "text/x-python",
   "name": "python",
   "nbconvert_exporter": "python",
   "pygments_lexer": "ipython3",
   "version": "3.6.11"
  }
 },
 "nbformat": 4,
 "nbformat_minor": 2
}
