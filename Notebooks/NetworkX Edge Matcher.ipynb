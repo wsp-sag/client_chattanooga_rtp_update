{
 "cells": [
  {
   "cell_type": "code",
   "execution_count": null,
   "metadata": {},
   "outputs": [],
   "source": [
    "import os\n",
    "\n",
    "import geopandas as gpd\n",
    "import matplotlib.pyplot as plt\n",
    "import networkx as nx\n",
    "import numpy as np\n",
    "import pandas as pd\n",
    "\n",
    "# import scipy"
   ]
  },
  {
   "cell_type": "code",
   "execution_count": null,
   "metadata": {},
   "outputs": [],
   "source": [
    "line_shp = gpd.read_file(os.path.join('..', 'data', 'Chatt_Master.shp')).to_crs(epsg=2274)\n",
    "node_shp = gpd.read_file(os.path.join('..', 'data', 'Chatt_Master_Node.shp')).to_crs(epsg=2274)"
   ]
  },
  {
   "cell_type": "markdown",
   "metadata": {},
   "source": [
    "### Turn Two-Way Links into 2 One-Way Links for Directional Flow\n",
    "More needs to be done here to ensure that the link attributes are correct based on the direction\n",
    "of flow."
   ]
  },
  {
   "cell_type": "code",
   "execution_count": null,
   "metadata": {},
   "outputs": [],
   "source": [
    "ab_links = line_shp[line_shp['AB_LANES'] > 0].copy()\n",
    "ba_links = line_shp[line_shp['BA_LANES'] > 0].copy()\n",
    "\n",
    "ab_links['LANES'] = ab_links['AB_LANES']\n",
    "\n",
    "ba_links['LANES'] = ba_links['BA_LANES']\n",
    "ba_links['A'] = ba_links['TO_ID']\n",
    "ba_links['B'] = ba_links['FROM_ID']\n",
    "ba_links = ba_links.drop(columns=['FROM_ID', 'TO_ID']).rename(columns={'A': 'FROM_ID', 'B': 'TO_ID'})\n",
    "\n",
    "line_shp = pd.concat([ab_links, ba_links])"
   ]
  },
  {
   "cell_type": "markdown",
   "metadata": {},
   "source": [
    "### Build the Graph"
   ]
  },
  {
   "cell_type": "code",
   "execution_count": null,
   "metadata": {},
   "outputs": [],
   "source": [
    "g = nx.from_pandas_edgelist(\n",
    "    line_shp,\n",
    "    source='FROM_ID',\n",
    "    target='TO_ID',\n",
    "    edge_attr=True,\n",
    "    create_using=nx.DiGraph()\n",
    ")\n",
    "\n",
    "assert nx.is_directed(g)"
   ]
  },
  {
   "cell_type": "markdown",
   "metadata": {},
   "source": [
    "### Summarize the From -> To Links"
   ]
  },
  {
   "cell_type": "code",
   "execution_count": null,
   "metadata": {
    "scrolled": true
   },
   "outputs": [],
   "source": [
    "def network_matcher_with_inputs(*args, edge_id='ID'):\n",
    "    node_feed = []\n",
    "\n",
    "    for node in node_shp['ID']:\n",
    "        if node not in g:\n",
    "            print('Node not in network: {}'.format(node))\n",
    "            continue\n",
    "\n",
    "        for i_o, i_d, i_data  in g.in_edges(node, data=True):\n",
    "            for o_o, o_d, o_data in g.out_edges(node, data=True):\n",
    "                if i_o == o_d and i_d == o_o:\n",
    "                    # This is just a U-Turn on the \"same\" link\n",
    "                    continue\n",
    "                    \n",
    "                data = [i_data, o_data]                \n",
    "                node_feed.append([node, *[d[edge_id] for d in data], *[d[a] for d in data for a in args]])\n",
    "\n",
    "    # Generate Column names\n",
    "    dirs = ['in', 'out']\n",
    "    cols = ['node', *[ d+'_'+edge_id for d in dirs], *[ d+'_'+a for d in dirs for a in args]]\n",
    "\n",
    "    return pd.DataFrame(node_feed, columns=cols)"
   ]
  },
  {
   "cell_type": "code",
   "execution_count": null,
   "metadata": {},
   "outputs": [],
   "source": [
    "network_speeds = network_matcher_with_inputs('SPD_LMT')\n",
    "\n",
    "network_speeds.head(5)"
   ]
  },
   ]
  },
  {
   "cell_type": "markdown",
   "metadata": {},
   "source": [
    "### Put attributes on the network"
   ]
  },
  {
   "cell_type": "code",
   "execution_count": null,
   "metadata": {},
   "outputs": [],
   "source": [
    "node_shp['X'] = node_shp.geometry.x\n",
    "node_shp['Y'] = node_shp.geometry.y\n",
    "nx.set_node_attributes(g, pd.Series(node_shp.X, index=node_shp.ID).to_dict(), 'X')\n",
    "nx.set_node_attributes(g, pd.Series(node_shp.Y, index=node_shp.ID).to_dict(), 'Y')"
   ]
  },
  {
   "cell_type": "markdown",
   "metadata": {},
   "source": [
    "### Visualizations (Slow- Due to Network Size)"
   ]
  },
  {
   "cell_type": "code",
   "execution_count": null,
   "metadata": {},
   "outputs": [],
   "source": [
    "# plt.subplot(121)\n",
    "\n",
    "#nx.draw(g, with_labels=True, font_weight='bold')\n",
    "#plt.subplot(122)\n",
    "\n",
    "#nx.draw_shell(G, nlist=[range(5, 10), range(5)], with_labels=True, font_weight='bold')"
   ]
  },
  {
   "cell_type": "code",
   "execution_count": null,
   "metadata": {},
   "outputs": [],
   "source": []
  }
 ],
 "metadata": {
  "kernelspec": {
   "display_name": "Python 3",
   "language": "python",
   "name": "python3"
  },
  "language_info": {
   "codemirror_mode": {
    "name": "ipython",
    "version": 3
   },
   "file_extension": ".py",
   "mimetype": "text/x-python",
   "name": "python",
   "nbconvert_exporter": "python",
   "pygments_lexer": "ipython3",
   "version": "3.6.11"
  }
 },
 "nbformat": 4,
 "nbformat_minor": 2
}
