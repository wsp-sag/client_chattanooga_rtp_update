{
 "cells": [
  {
   "cell_type": "code",
   "execution_count": 1,
   "metadata": {},
   "outputs": [],
   "source": [
    "import os\n",
    "import pandas as pd\n",
    "import geopandas as gpd\n",
    "\n",
    "from shapely.geometry import Point\n",
    "import fiona"
   ]
  },
  {
   "cell_type": "code",
   "execution_count": 2,
   "metadata": {},
   "outputs": [],
   "source": [
    "network_file = 'Chatt_Master.shp'\n",
    "network_path = os.path.join('..', 'Data' )"
   ]
  },
  {
   "cell_type": "code",
   "execution_count": 3,
   "metadata": {},
   "outputs": [],
   "source": [
    "network = gpd.read_file(os.path.join(network_path, network_file))\n",
    "network = network[['ID', 'geometry']]\n",
    "\n",
    "network['A'] = [pt['geometry'].coords[0] for i,pt in network.iterrows()]\n",
    "network['B'] = [pt['geometry'].coords[-1] for i,pt in network.iterrows()]\n",
    "\n",
    "# network = network.drop(columns='geometry')\n",
    "\n",
    "# print(network.crs)\n",
    "# print('Check for duplicates:', network['ID'].duplicated().any())\n",
    "# network['ID'].describe()"
   ]
  },
  {
   "cell_type": "code",
   "execution_count": null,
   "metadata": {
    "scrolled": true
   },
   "outputs": [],
   "source": [
    "network_stream = []\n",
    "\n",
    "for i, link in network.iterrows():\n",
    "#     pt = Point(list(link['geometry'].coords)[0])\n",
    "#     print(pt)\n",
    "#     pt_buff = pt.buffer(0.0001)\n",
    "#     print(pt_buff)\n",
    "#     print(network[network['geometry'].intersects(pt)])\n",
    "    net = network[network['geometry'].intersects(link['geometry'])]\n",
    "    \n",
    "    for j, stream in net.iterrows():\n",
    "        if i!= j:\n",
    "            if link['A']==stream['B']:\n",
    "                print(link['ID'], 'downstream', stream['ID'])\n",
    "                network_stream.append([link['ID'], 'downstream', stream['ID']])\n",
    "            elif link['B']==stream['A']:\n",
    "                print(link['ID'], 'upstream', stream['ID'])\n",
    "                network_stream.append([link['ID'], 'upstream', stream['ID']])\n",
    "\n",
    "network_stream = pd.DataFrame(network_stream, columns=['id', 'stream', 'stream_id'])"
   ]
  },
  {
   "cell_type": "code",
   "execution_count": 6,
   "metadata": {},
   "outputs": [],
   "source": [
    "network_stream.to_csv(os.path.join(network_path, 'network_links.csv'), index=False)"
   ]
  },
  {
   "cell_type": "code",
   "execution_count": null,
   "metadata": {},
   "outputs": [],
   "source": []
  }
 ],
 "metadata": {
  "kernelspec": {
   "display_name": "Python 3",
   "language": "python",
   "name": "python3"
  },
  "language_info": {
   "codemirror_mode": {
    "name": "ipython",
    "version": 3
   },
   "file_extension": ".py",
   "mimetype": "text/x-python",
   "name": "python",
   "nbconvert_exporter": "python",
   "pygments_lexer": "ipython3",
   "version": "3.6.6"
  }
 },
 "nbformat": 4,
 "nbformat_minor": 4
}
