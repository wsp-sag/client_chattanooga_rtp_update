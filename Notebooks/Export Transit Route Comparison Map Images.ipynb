{
 "cells": [
  {
   "cell_type": "code",
   "execution_count": null,
   "metadata": {},
   "outputs": [],
   "source": [
    "%matplotlib inline\n",
    "import matplotlib.pyplot as plt\n",
    "from matplotlib.gridspec import GridSpec\n",
    "\n",
    "import os\n",
    "import contextily as ctx\n",
    "import geopandas as gpd"
   ]
  },
  {
   "cell_type": "code",
   "execution_count": null,
   "metadata": {},
   "outputs": [],
   "source": [
    "tod = 'PM'\n",
    "\n",
    "gtfs = {}\n",
    "\n",
    "gtfs['AM'] = gpd.read_file(os.path.join('..', 'data', 'gtfs', 'route_shapes_carta_2019_08_15_AM.shp'.format(tod))).to_crs(epsg=3857)\n",
    "gtfs['PM'] = gpd.read_file(os.path.join('..', 'data', 'gtfs', 'route_shapes_carta_2019_08_15_PM.shp'.format(tod))).to_crs(epsg=3857)\n",
    "gtfs['OP'] = gpd.read_file(os.path.join('..', 'data', 'gtfs', 'route_shapes_carta_2019_08_15_OP.shp'.format(tod))).to_crs(epsg=3857)\n",
    "rtes = gpd.read_file(os.path.join('..', 'data', 'networks', 'client_provided', 'transit', 'base_2014', 'transit_routes_base.shp')).to_crs(epsg=3857)\n",
    "\n",
    "rte_ids = set(list(gtfs['AM']['route_id'].unique()) + list(gtfs['PM']['route_id'].unique()) + list(gtfs['OP']['route_id'].unique()) + \\\n",
    "              list(rtes[rtes['HW_{}'.format(tod)] > 0]['ROUTE']))\n",
    "\n",
    "for rte_id in rte_ids:\n",
    "    print('Route: {}'.format(rte_id))\n",
    "    \n",
    "    gtfs_rt = {}\n",
    "    rtes_rt = {}\n",
    "    \n",
    "    for tod in ['AM', 'PM', 'OP']:\n",
    "        fig, ax = plt.subplots(1,1, figsize=(4.1,2.5), dpi=200, constrained_layout=True)\n",
    "        \n",
    "        gtfs_rt[tod] = gtfs[tod][gtfs[tod]['route_id'] == rte_id]\n",
    "        rtes_rt[tod] = rtes[(rtes['ROUTE'] == rte_id) & (rtes['HW_{}'.format(tod)] > 0)]\n",
    "\n",
    "        if not gtfs_rt[tod].empty:\n",
    "            gtfs_rt[tod].plot(ax=ax, alpha=1, lw=5.5, edgecolor='w')\n",
    "            gtfs_rt[tod].plot(ax=ax, alpha=1, lw=4.5, edgecolor='k')\n",
    "    \n",
    "        if not rtes_rt[tod].empty:\n",
    "            rtes_rt[tod].plot(ax=ax, alpha=.4, lw=2, linestyle='-',edgecolor='w')\n",
    "            rtes_rt[tod].plot(ax=ax, alpha=1, lw=1, edgecolor='r')\n",
    "            \n",
    "        if not gtfs_rt[tod].empty and not rtes_rt[tod].empty:\n",
    "            ctx.add_basemap(ax, source='https://mt1.google.com/vt/lyrs=y&x={x}&y={y}&z={z}')\n",
    "\n",
    "        ax.xaxis.set_visible(False)\n",
    "        ax.yaxis.set_visible(False)\n",
    "    \n",
    "        ax.set_title('Period: {}'.format(tod), fontsize=10)\n",
    "    \n",
    "        leg_pos = 'best'\n",
    "        font_size = 6\n",
    "    \n",
    "        if rte_id in ['1']:\n",
    "            leg_pos = 'upper right'\n",
    "        \n",
    "        if rte_id in ['3', '7', '15', '21', '28']:\n",
    "            leg_pos = 'lower right'\n",
    "        \n",
    "        if rte_id in ['4', '8', '19']:\n",
    "            leg_pos = 'lower left'\n",
    "        \n",
    "        if rte_id in ['9']:\n",
    "            leg_pos = 'center left'\n",
    "    \n",
    "        if rte_id in ['10A', '10C', '10G', '14', '16']:\n",
    "            leg_pos = 'upper left'\n",
    "    \n",
    "    \n",
    "        # ax.legend(loc=leg_pos, prop={'size': font_size})\n",
    "\n",
    "        out_file = os.path.join('..', 'Data', 'networks', 'client_provided', 'transit', \n",
    "                                'base_2014', 'comparisons', 'transit_route_{}_{}_comparison.jpg'.format(rte_id, tod))\n",
    "    \n",
    "    #plt.tight_layout(0,0,0,0)\n",
    "        plt.savefig(out_file, dpi=200)\n",
    "        plt.close(fig)"
   ]
  },
  {
   "cell_type": "code",
   "execution_count": null,
   "metadata": {},
   "outputs": [],
   "source": []
  },
  {
   "cell_type": "code",
   "execution_count": null,
   "metadata": {},
   "outputs": [],
   "source": [
    "ix"
   ]
  }
 ],
 "metadata": {
  "kernelspec": {
   "display_name": "chattanooga",
   "language": "python",
   "name": "chattanooga"
  },
  "language_info": {
   "codemirror_mode": {
    "name": "ipython",
    "version": 3
   },
   "file_extension": ".py",
   "mimetype": "text/x-python",
   "name": "python",
   "nbconvert_exporter": "python",
   "pygments_lexer": "ipython3",
   "version": "3.6.11"
  }
 },
 "nbformat": 4,
 "nbformat_minor": 2
}
