{
 "cells": [
  {
   "cell_type": "code",
   "execution_count": null,
   "metadata": {},
   "outputs": [],
   "source": [
    "import pandas as pd\n",
    "import os"
   ]
  },
  {
   "cell_type": "code",
   "execution_count": null,
   "metadata": {},
   "outputs": [],
   "source": [
    "d_types = {'RespondentID':str, 'Zipcode':str}"
   ]
  },
  {
   "cell_type": "code",
   "execution_count": null,
   "metadata": {},
   "outputs": [],
   "source": [
    "geo_left = pd.read_csv(os.path.join('..', 'data', 'survey', '2015 on-board survey', 'geo_responses_Left_20201211-122631.txt'),\n",
    "                       dtype=d_types,\n",
    "                       header=None,\n",
    "                       names=['RespondentID', 'confidence', 'lat', 'lng']\n",
    "                           )\n",
    "\n",
    "###Clean-up\n",
    "geo_left['RespondentID'] = geo_left['RespondentID'].str.replace('[', '')\n",
    "geo_left['lng'] = geo_left['lng'].str.replace(']', '')\n",
    "\n",
    "idx = geo_left.groupby('RespondentID')['confidence'].transform(max) == geo_left['confidence']\n",
    "geo_left_clean = geo_left[idx].drop_duplicates('RespondentID')"
   ]
  },
  {
   "cell_type": "code",
   "execution_count": null,
   "metadata": {},
   "outputs": [],
   "source": [
    "geo_dest = pd.read_csv(os.path.join('..', 'data', 'survey', '2015 on-board survey', 'geo_responses_Dest_20201211-125615.txt'),\n",
    "                       dtype=d_types,\n",
    "                       header=None,\n",
    "                       names=['RespondentID', 'confidence', 'lat', 'lng']\n",
    "                           )\n",
    "\n",
    "###Clean-up\n",
    "geo_dest['RespondentID'] = geo_dest['RespondentID'].str.replace('[', '')\n",
    "geo_dest['lng'] = geo_dest['lng'].str.replace(']', '')\n",
    "\n",
    "idx = geo_dest.groupby('RespondentID')['confidence'].transform(max) == geo_dest['confidence']\n",
    "geo_dest_clean = geo_dest[idx].drop_duplicates('RespondentID')"
   ]
  },
  {
   "cell_type": "code",
   "execution_count": null,
   "metadata": {},
   "outputs": [],
   "source": [
    "survey_all = pd.read_excel(os.path.join('..', 'data', 'survey', '2015 on-board survey', '01052016_Data_Cleaning_19.xlsx'),\n",
    "                       dtype=d_types\n",
    "                      )\n",
    "\n",
    "survey_all.columns = [x.rstrip() for x in survey_all.columns]"
   ]
  },
  {
   "cell_type": "code",
   "execution_count": null,
   "metadata": {},
   "outputs": [],
   "source": [
    "survey_all = pd.merge(survey_all,\n",
    "                      geo_left_clean,\n",
    "                      on='RespondentID',\n",
    "                      how='left',\n",
    "                     )\n",
    "\n",
    "survey_all = pd.merge(survey_all,\n",
    "                      geo_dest_clean,\n",
    "                      on='RespondentID',\n",
    "                      how='left',\n",
    "                      suffixes=['_left', '_dest']\n",
    "                     )"
   ]
  },
  {
   "cell_type": "code",
   "execution_count": null,
   "metadata": {},
   "outputs": [],
   "source": [
    "list(survey_all)"
   ]
  },
  {
   "cell_type": "code",
   "execution_count": null,
   "metadata": {},
   "outputs": [],
   "source": [
    "survey = survey_all[[\n",
    "        'RespondentID',\n",
    "        'Route',\n",
    "        'Route - In/Out Bound',\n",
    "        'Left From',\n",
    "        'Left Other',\n",
    "        'Left St No',\n",
    "        'Left St Name',\n",
    "        'Left Nearest Intersection',\n",
    "        'Left Name',\n",
    "        'Final Destination',\n",
    "        'Destination-Other',\n",
    "        'Dest St No',\n",
    "        'Dest St Name',\n",
    "        'Dest Nearest Intersection',\n",
    "        'Dest Name',\n",
    "        'Zipcode',\n",
    "    \n",
    "        'confidence_left',\n",
    "        'lat_left',\n",
    "        'lng_left',\n",
    "        'confidence_dest',\n",
    "        'lat_dest',\n",
    "        'lng_dest'\n",
    "]]"
   ]
  },
  {
   "cell_type": "code",
   "execution_count": null,
   "metadata": {},
   "outputs": [],
   "source": [
    "report_side = 'Left'\n",
    "geo_df = geo_left_clean\n",
    "\n",
    "# report_side = 'Dest'\n",
    "# geo_df = geo_dest_clean\n",
    "\n",
    "conf_col = 'confidence_{}'.format(report_side.lower())\n",
    "st = '{} St Name'.format(report_side)\n",
    "intrs = '{} Nearest Intersection'.format(report_side)\n",
    "\n",
    "print('{} Side Summary:'.format(report_side).upper())\n",
    "\n",
    "print('Total records: ', '{:,.0f}'.format(len(survey)))\n",
    "print('Records processed in Geocode: ', '{:,.0f}'.format(len(geo_df)))\n",
    "\n",
    "pct8 = len(survey[survey[conf_col]>=8]) / len(survey)\n",
    "print('Records with Geocode Confidence factor greater than 8: ', '{:,.0f}'.format(len(survey[survey[conf_col]>=8])),\\\n",
    "      '{0:.0%}'.format(pct8))\n",
    "\n",
    "pctnot8 = len(survey[survey[conf_col]<8]) / len(survey)\n",
    "print('Records with Geocode Confidence factor lower than 8: ', len(survey[survey[conf_col]<8]), '{0:.0%}'.format(pctnot8))\n",
    "\n",
    "pct_nostreet = len(survey[survey[st].isna()]) / len(survey)\n",
    "print('Records with no Street Name: ', len(survey[survey[st].isna()]), '{0:.0%}'.format(pct_nostreet))\n",
    "print('Records with no Street Name and no Nearest Intersection: ',\\\n",
    "      len(survey[(survey[st].isna()) & (survey[intrs].isna())]))"
   ]
  },
  {
   "cell_type": "code",
   "execution_count": null,
   "metadata": {},
   "outputs": [],
   "source": [
    "survey['Route'] = survey['Route']\n",
    "\n",
    "survey.loc[survey['confidence_left']>=8, 'Geocode_result_left'] = 'pass'\n",
    "survey.loc[survey['confidence_left']<8, 'Geocode_result_left'] = 'no_pass'\n",
    "survey.loc[survey['confidence_left'].isna(), 'Geocode_result_left'] = 'insufficient_data'\n",
    "\n",
    "survey.loc[survey['confidence_dest']>=8, 'Geocode_result_dest'] = 'pass'\n",
    "survey.loc[survey['confidence_dest']<8, 'Geocode_result_dest'] = 'no_pass'\n",
    "survey.loc[survey['confidence_dest'].isna(), 'Geocode_result_dest'] = 'insufficient_data'\n"
   ]
  },
  {
   "cell_type": "code",
   "execution_count": null,
   "metadata": {},
   "outputs": [],
   "source": [
    "survey"
   ]
  },
  {
   "cell_type": "code",
   "execution_count": null,
   "metadata": {},
   "outputs": [],
   "source": [
    "survey[['RespondentID', 'Route', 'Geocode_result_left']].pivot_table(\n",
    "    columns=['Geocode_result_left'],\n",
    "    index='Route',\n",
    "    values='RespondentID',\n",
    "    aggfunc='count',\n",
    "    margins=True\n",
    ").to_clipboard()"
   ]
  },
  {
   "cell_type": "code",
   "execution_count": null,
   "metadata": {},
   "outputs": [],
   "source": [
    "survey[['RespondentID', 'Route', 'Geocode_result_dest']].pivot_table(\n",
    "    columns=['Geocode_result_dest'],\n",
    "    index='Route',\n",
    "    values='RespondentID',\n",
    "    aggfunc='count',\n",
    "    margins=True\n",
    ").to_clipboard()"
   ]
  },
  {
   "cell_type": "code",
   "execution_count": null,
   "metadata": {},
   "outputs": [],
   "source": [
    "survey.to_csv(os.path.join('..', 'data', 'survey', '2015 on-board survey', 'survey_geocoded.csv'))"
   ]
  },
  {
   "cell_type": "code",
   "execution_count": null,
   "metadata": {},
   "outputs": [],
   "source": []
  }
 ],
 "metadata": {
  "kernelspec": {
   "display_name": "Python 3",
   "language": "python",
   "name": "python3"
  },
  "language_info": {
   "codemirror_mode": {
    "name": "ipython",
    "version": 3
   },
   "file_extension": ".py",
   "mimetype": "text/x-python",
   "name": "python",
   "nbconvert_exporter": "python",
   "pygments_lexer": "ipython3",
   "version": "3.6.6"
  }
 },
 "nbformat": 4,
 "nbformat_minor": 4
}
