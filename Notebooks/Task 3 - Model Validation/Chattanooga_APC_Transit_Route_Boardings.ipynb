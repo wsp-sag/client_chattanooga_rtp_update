{
 "cells": [
  {
   "cell_type": "code",
   "execution_count": 1,
   "metadata": {},
   "outputs": [],
   "source": [
    "import pandas as pd\n",
    "import os\n",
    "from datetime import datetime\n"
   ]
  },
  {
   "cell_type": "markdown",
   "metadata": {},
   "source": [
    "### Set data sources and parameters"
   ]
  },
  {
   "cell_type": "code",
   "execution_count": 2,
   "metadata": {},
   "outputs": [],
   "source": [
    "apc_dir = r'C:\\data\\OneDrive\\WSP O365\\chattanooga-modeling - RTP TDM Update\\Data\\CARTA_PassengerData\\CARTA APC DATA 2019'\n",
    "\n",
    "gtfs_dir = r'C:\\data\\OneDrive\\WSP O365\\chattanooga-modeling - RTP TDM Update\\Data\\TransitUpdate2\\GTFS'\n",
    "# gtfs_dir = r'C:\\apps\\client_chattanooga_rtp_update\\Data\\GTFS\\carta_2019_08_15'\n",
    "\n",
    "datatypes = {'STOP_ID': str, 'ROUTE_NUMBER':str, 'stop_id': str}"
   ]
  },
  {
   "cell_type": "code",
   "execution_count": 15,
   "metadata": {},
   "outputs": [],
   "source": [
    "route_xref = pd.DataFrame(data=[\n",
    "    ['1.40',   'Route #1 am HC:1',  '1',   'ALTON PARK'],\n",
    "    ['10.10',  'Route #10A',        '10A', 'AVON'],\n",
    "    ['10.60',  'Route #10C',        '10C', 'CAMPBELL'],\n",
    "    ['10.90',  'Route #10G 58:10G', '10G', 'GLENWOOD'],\n",
    "    ['13.00',  'Route #13',         '13',  'ROSSVILLE'],\n",
    "    ['14.00',  'Route #14',         '14',  'MOCS EXPRESS'],\n",
    "    ['15.00',  'Route #15',         '15',  'ST. ELMO'],\n",
    "    ['16.40',  'Route #16 In:16',   '16',  'NORTHGATE OB'],\n",
    "    ['19.00',  'Route #19',         '19',  'CROMWELL ROAD'],\n",
    "    ['2.00',   'Route #2',          '2',   'NORTH CHATT'],\n",
    "    ['21.00',  'Route #21',         '21',  'GOLDEN GATEWAY'],\n",
    "    ['28.00',  'Route #28',         '28',  'AMNICOLA HWY CHATT STATE'],\n",
    "    ['33.00',  'Route #DTS:33',     '33',  'DOWNTOWN SHUTTLE'],\n",
    "    ['34.00',  'Route #34',         '34',  'NORTH SHORE SHUTTLE'],\n",
    "    ['4.00',   'Route #4',          '4',   'EASTGATE/HAMILTON PL'],\n",
    "    ['7.00',   'Route #7',          '7',   'CHATTANOOGA HOUSING AUTHORITY'],\n",
    "    ['780.00', '3:3',               '3',   'ENTERPRISE SOUTH'],\n",
    "    ['8.00',   'Route #8',          '8',   'EASTDALE'],\n",
    "    ['9.00',   'Route #9',          '9',   'EAST LAKE'],\n",
    "    ],\n",
    "    columns=['ROUTE_NUMBER', 'ROUTE_NAME', 'route_id', 'route_short_name']\n",
    ")"
   ]
  },
  {
   "cell_type": "raw",
   "metadata": {},
   "source": [
    "### OCTOBER\n",
    "apc_file = 'OCT2019_RIDECHECK_DATA.CSV'\n",
    "\n",
    "dates_pick = [\n",
    "    1, 2, 3,\n",
    "    8, 9, 10,\n",
    "    15, 16, 17,\n",
    "    22,23, 24,\n",
    "    29, 30, 31\n",
    "]\n",
    "\n",
    "dates_pick = ['10/{}/2019 0:00:00'.format(d) for d in dates_pick]"
   ]
  },
  {
   "cell_type": "code",
   "execution_count": 4,
   "metadata": {},
   "outputs": [],
   "source": [
    "### AUGUST\n",
    "apc_file = 'AUG2019_RIDECHECK_DATA.TXT'\n",
    "\n",
    "dates_pick = [\n",
    "             1,\n",
    "    6,   7,  8,\n",
    "    13, 14, 15,\n",
    "    20, 21, 22,\n",
    "    27, 28, 29\n",
    "]\n",
    "\n",
    "dates_pick = ['8/{}/2019 0:00:00'.format(d) for d in dates_pick]"
   ]
  },
  {
   "cell_type": "markdown",
   "metadata": {},
   "source": [
    "### Load APC and GTFS Data"
   ]
  },
  {
   "cell_type": "code",
   "execution_count": 29,
   "metadata": {},
   "outputs": [
    {
     "name": "stderr",
     "output_type": "stream",
     "text": [
      "C:\\Anaconda3\\envs\\chattanooga\\lib\\site-packages\\IPython\\core\\interactiveshell.py:3072: DtypeWarning: Columns (14,23) have mixed types.Specify dtype option on import or set low_memory=False.\n",
      "  interactivity=interactivity, compiler=compiler, result=result)\n"
     ]
    }
   ],
   "source": [
    "apc = pd.read_csv(os.path.join(apc_dir, apc_file), dtype=datatypes)\n",
    "apc = pd.merge(apc, route_xref[['ROUTE_NUMBER', 'route_id', 'route_short_name']], on='ROUTE_NUMBER', how='left')\n",
    "# list(apc)\n",
    "# apc = apc[['ROUTE_NUMBER', 'ROUTE_NAME','STOP_ID', 'MAIN_CROSS_STREET']].copy()\n",
    "\n",
    "apc_stops = apc.groupby(['STOP_ID', 'MAIN_CROSS_STREET'])['STOP_ID'].count().reset_index(name='count')\n",
    "apc_stops['MAIN_CROSS_STREET'] = apc_stops['MAIN_CROSS_STREET'].str.replace('/', ' + ')\n",
    "\n",
    "gtfs = pd.read_csv(os.path.join(gtfs_dir, 'stops.txt'), dtype=datatypes)\n",
    "gtfs = gtfs[['stop_id', 'stop_name']]"
   ]
  },
  {
   "cell_type": "code",
   "execution_count": 30,
   "metadata": {},
   "outputs": [],
   "source": [
    "# apc[['ROUTE_NUMBER', 'ROUTE_NAME']].groupby(['ROUTE_NUMBER', 'ROUTE_NAME'])['ROUTE_NUMBER'].count().reset_index(name='_count')"
   ]
  },
  {
   "cell_type": "markdown",
   "metadata": {},
   "source": [
    "##### Verify APC to GTFS Stop_ID using intersection data\n"
   ]
  },
  {
   "cell_type": "code",
   "execution_count": 32,
   "metadata": {},
   "outputs": [
    {
     "name": "stdout",
     "output_type": "stream",
     "text": [
      "APC Stations: 1,240\n",
      "GTFS Stations: 1,181\n",
      "APC - GTFS Stations difference: 59\n",
      "Station EXACT Matches: 1,143 ratio: 0.95\n",
      "Station CLOSE Matches: 0\n",
      "Station NOT Matches: 99\n",
      "APC Stations ID NOT in GTFS: 89\n"
     ]
    },
    {
     "name": "stderr",
     "output_type": "stream",
     "text": [
      "C:\\Anaconda3\\envs\\chattanooga\\lib\\site-packages\\pandas\\core\\indexing.py:671: SettingWithCopyWarning: \n",
      "A value is trying to be set on a copy of a slice from a DataFrame\n",
      "\n",
      "See the caveats in the documentation: https://pandas.pydata.org/pandas-docs/stable/user_guide/indexing.html#returning-a-view-versus-a-copy\n",
      "  self._setitem_with_indexer(indexer, value)\n"
     ]
    }
   ],
   "source": [
    "stops_check = pd.merge(apc_stops, gtfs, left_on='STOP_ID', right_on='stop_id', how='left')\n",
    "\n",
    "matches = stops_check[stops_check['MAIN_CROSS_STREET']==stops_check['stop_name']]\n",
    "not_matches = stops_check[stops_check['MAIN_CROSS_STREET']!=stops_check['stop_name']]\n",
    "\n",
    "print('APC Stations: {:,}'.format(len(apc_stops)))\n",
    "print('GTFS Stations: {:,}'.format(len(gtfs)))\n",
    "print('APC - GTFS Stations difference: {:,}'.format(len(apc_stops) - len(gtfs)))\n",
    "\n",
    "print('Station EXACT Matches: {:,} ratio: {:.2f}'.format(len(matches), len(gtfs) / len(apc_stops)))\n",
    "\n",
    "not_matches.loc['MAIN_CROSS_STREET'] = not_matches['MAIN_CROSS_STREET'].str.replace(' ', '')\n",
    "not_matches.loc['stop_name'] = not_matches['stop_name'].str.replace(' ', '')\n",
    "close_matches = not_matches[not_matches['MAIN_CROSS_STREET']==not_matches['stop_name']]\n",
    "print('Station CLOSE Matches: {:,}'.format(len(close_matches)))\n",
    "\n",
    "print('Station NOT Matches: {:,}'.format(len(not_matches)-len(close_matches)))\n",
    "\n",
    "null_stop_id = not_matches[not_matches['stop_name'].isna()]\n",
    "print('APC Stations ID NOT in GTFS: {:,}'.format(len(null_stop_id)))"
   ]
  },
  {
   "cell_type": "code",
   "execution_count": 33,
   "metadata": {},
   "outputs": [],
   "source": [
    "# matches.sample(10)"
   ]
  },
  {
   "cell_type": "markdown",
   "metadata": {},
   "source": [
    "### Route level average data boardings by TOD\n",
    "Weekdays:\n",
    "    Tue\n",
    "    Wed\n",
    "    Thurs\n",
    "    \n",
    "August 2019 (13 obs)\n",
    "\n",
    "Populate table 'Transit Route Boardings':  \n",
    "https://wsponline.sharepoint.com/:w:/r/sites/US-chattanoogamodeling/RTP%20TDM%20Update/Deliverables/Task%203_Model%20Validation/Chattanooga%20TPO%20Model%20Validation%20Report.docx"
   ]
  },
  {
   "cell_type": "code",
   "execution_count": 34,
   "metadata": {},
   "outputs": [],
   "source": [
    "## CHECKS on TOD\n",
    "# apc[['SURVEY_DATE', 'TRIP_START_TIME', 'TIME_PERIOD', 'TIME_SCHEDULED', 'TIME_ACTUAL_ARRIVE', 'TIME_ACTUAL_DEPART',]].sample(5)\n",
    "# apc['TIME_PERIOD'].unique()\n",
    "\n",
    "# test[(test['TIME_PERIOD']=='AM Early')&(test['ROUTE_NUMBER']==7)].groupby('SURVEY_DATE').count()\n",
    "# test[(test['TIME_PERIOD']=='PM Late')&(test['ROUTE_NUMBER']==2)].groupby('SURVEY_DATE').count()\n",
    "\n",
    "# apc.groupby(['TIME_PERIOD']).agg({'TRIP_START_TIME':['min', 'max']})"
   ]
  },
  {
   "cell_type": "markdown",
   "metadata": {},
   "source": [
    "##### Update Time Of Day periods"
   ]
  },
  {
   "cell_type": "code",
   "execution_count": 35,
   "metadata": {},
   "outputs": [],
   "source": [
    "tod_windows = {\n",
    "    'AM':{'from': '6', 'to': '9'},\n",
    "    'PM':{'from': '15', 'to': '18'}\n",
    "}\n",
    "\n",
    "apc['trip_start_astime'] = [datetime.strptime(t, '%m/%d/%Y %H:%M:%S').time() for t in apc['TRIP_START_TIME']] \n",
    "\n",
    "apc['TOD'] = 'OP'  ## All other times are set to Off-Peak\n",
    "\n",
    "for t in tod_windows.keys():\n",
    "    apc.loc[apc['trip_start_astime'].between(datetime.strptime((tod_windows[t]['from']), '%H').time(),\n",
    "                                             datetime.strptime((tod_windows[t]['to']), '%H').time()\n",
    "                                    ), 'TOD'] = t"
   ]
  },
  {
   "cell_type": "markdown",
   "metadata": {},
   "source": [
    "##### Time of Day average"
   ]
  },
  {
   "cell_type": "code",
   "execution_count": 36,
   "metadata": {},
   "outputs": [
    {
     "data": {
      "text/html": [
       "<div>\n",
       "<style scoped>\n",
       "    .dataframe tbody tr th:only-of-type {\n",
       "        vertical-align: middle;\n",
       "    }\n",
       "\n",
       "    .dataframe tbody tr th {\n",
       "        vertical-align: top;\n",
       "    }\n",
       "\n",
       "    .dataframe thead tr th {\n",
       "        text-align: left;\n",
       "    }\n",
       "\n",
       "    .dataframe thead tr:last-of-type th {\n",
       "        text-align: right;\n",
       "    }\n",
       "</style>\n",
       "<table border=\"1\" class=\"dataframe\">\n",
       "  <thead>\n",
       "    <tr>\n",
       "      <th></th>\n",
       "      <th></th>\n",
       "      <th></th>\n",
       "      <th colspan=\"3\" halign=\"left\">SERIAL_NUMBER</th>\n",
       "    </tr>\n",
       "    <tr>\n",
       "      <th></th>\n",
       "      <th></th>\n",
       "      <th>TOD</th>\n",
       "      <th>AM</th>\n",
       "      <th>OP</th>\n",
       "      <th>PM</th>\n",
       "    </tr>\n",
       "    <tr>\n",
       "      <th>ROUTE_NUMBER</th>\n",
       "      <th>route_id</th>\n",
       "      <th>route_short_name</th>\n",
       "      <th></th>\n",
       "      <th></th>\n",
       "      <th></th>\n",
       "    </tr>\n",
       "  </thead>\n",
       "  <tbody>\n",
       "    <tr>\n",
       "      <th>1.40</th>\n",
       "      <th>1</th>\n",
       "      <th>ALTON PARK</th>\n",
       "      <td>518</td>\n",
       "      <td>1568</td>\n",
       "      <td>479</td>\n",
       "    </tr>\n",
       "    <tr>\n",
       "      <th>10.10</th>\n",
       "      <th>10A</th>\n",
       "      <th>AVON</th>\n",
       "      <td>318</td>\n",
       "      <td>818</td>\n",
       "      <td>283</td>\n",
       "    </tr>\n",
       "    <tr>\n",
       "      <th>10.60</th>\n",
       "      <th>10C</th>\n",
       "      <th>CAMPBELL</th>\n",
       "      <td>207</td>\n",
       "      <td>255</td>\n",
       "      <td>169</td>\n",
       "    </tr>\n",
       "    <tr>\n",
       "      <th>10.90</th>\n",
       "      <th>10G</th>\n",
       "      <th>GLENWOOD</th>\n",
       "      <td>424</td>\n",
       "      <td>1065</td>\n",
       "      <td>436</td>\n",
       "    </tr>\n",
       "    <tr>\n",
       "      <th>13.00</th>\n",
       "      <th>13</th>\n",
       "      <th>ROSSVILLE</th>\n",
       "      <td>411</td>\n",
       "      <td>832</td>\n",
       "      <td>596</td>\n",
       "    </tr>\n",
       "    <tr>\n",
       "      <th>15.00</th>\n",
       "      <th>15</th>\n",
       "      <th>ST. ELMO</th>\n",
       "      <td>263</td>\n",
       "      <td>265</td>\n",
       "      <td>292</td>\n",
       "    </tr>\n",
       "    <tr>\n",
       "      <th>16.40</th>\n",
       "      <th>16</th>\n",
       "      <th>NORTHGATE OB</th>\n",
       "      <td>531</td>\n",
       "      <td>1346</td>\n",
       "      <td>539</td>\n",
       "    </tr>\n",
       "    <tr>\n",
       "      <th>19.00</th>\n",
       "      <th>19</th>\n",
       "      <th>CROMWELL ROAD</th>\n",
       "      <td>269</td>\n",
       "      <td>395</td>\n",
       "      <td>234</td>\n",
       "    </tr>\n",
       "    <tr>\n",
       "      <th>2.00</th>\n",
       "      <th>2</th>\n",
       "      <th>NORTH CHATT</th>\n",
       "      <td>73</td>\n",
       "      <td>170</td>\n",
       "      <td>140</td>\n",
       "    </tr>\n",
       "    <tr>\n",
       "      <th>21.00</th>\n",
       "      <th>21</th>\n",
       "      <th>GOLDEN GATEWAY</th>\n",
       "      <td>112</td>\n",
       "      <td>477</td>\n",
       "      <td>220</td>\n",
       "    </tr>\n",
       "    <tr>\n",
       "      <th>28.00</th>\n",
       "      <th>28</th>\n",
       "      <th>AMNICOLA HWY CHATT STATE</th>\n",
       "      <td>128</td>\n",
       "      <td>247</td>\n",
       "      <td>141</td>\n",
       "    </tr>\n",
       "    <tr>\n",
       "      <th>33.00</th>\n",
       "      <th>33</th>\n",
       "      <th>DOWNTOWN SHUTTLE</th>\n",
       "      <td>417</td>\n",
       "      <td>1761</td>\n",
       "      <td>574</td>\n",
       "    </tr>\n",
       "    <tr>\n",
       "      <th>34.00</th>\n",
       "      <th>34</th>\n",
       "      <th>NORTH SHORE SHUTTLE</th>\n",
       "      <td>95</td>\n",
       "      <td>291</td>\n",
       "      <td>117</td>\n",
       "    </tr>\n",
       "    <tr>\n",
       "      <th>4.00</th>\n",
       "      <th>4</th>\n",
       "      <th>EASTGATE/HAMILTON PL</th>\n",
       "      <td>1614</td>\n",
       "      <td>3998</td>\n",
       "      <td>1588</td>\n",
       "    </tr>\n",
       "    <tr>\n",
       "      <th>7.00</th>\n",
       "      <th>7</th>\n",
       "      <th>CHATTANOOGA HOUSING AUTHORITY</th>\n",
       "      <td>44</td>\n",
       "      <td>264</td>\n",
       "      <td>55</td>\n",
       "    </tr>\n",
       "    <tr>\n",
       "      <th>780.00</th>\n",
       "      <th>3</th>\n",
       "      <th>ENTERPRISE SOUTH</th>\n",
       "      <td>98</td>\n",
       "      <td>87</td>\n",
       "      <td>103</td>\n",
       "    </tr>\n",
       "    <tr>\n",
       "      <th>8.00</th>\n",
       "      <th>8</th>\n",
       "      <th>EASTDALE</th>\n",
       "      <td>337</td>\n",
       "      <td>876</td>\n",
       "      <td>395</td>\n",
       "    </tr>\n",
       "    <tr>\n",
       "      <th>9.00</th>\n",
       "      <th>9</th>\n",
       "      <th>EAST LAKE</th>\n",
       "      <td>572</td>\n",
       "      <td>1618</td>\n",
       "      <td>574</td>\n",
       "    </tr>\n",
       "  </tbody>\n",
       "</table>\n",
       "</div>"
      ],
      "text/plain": [
       "                                                    SERIAL_NUMBER            \n",
       "TOD                                                            AM    OP    PM\n",
       "ROUTE_NUMBER route_id route_short_name                                       \n",
       "1.40         1        ALTON PARK                              518  1568   479\n",
       "10.10        10A      AVON                                    318   818   283\n",
       "10.60        10C      CAMPBELL                                207   255   169\n",
       "10.90        10G      GLENWOOD                                424  1065   436\n",
       "13.00        13       ROSSVILLE                               411   832   596\n",
       "15.00        15       ST. ELMO                                263   265   292\n",
       "16.40        16       NORTHGATE OB                            531  1346   539\n",
       "19.00        19       CROMWELL ROAD                           269   395   234\n",
       "2.00         2        NORTH CHATT                              73   170   140\n",
       "21.00        21       GOLDEN GATEWAY                          112   477   220\n",
       "28.00        28       AMNICOLA HWY CHATT STATE                128   247   141\n",
       "33.00        33       DOWNTOWN SHUTTLE                        417  1761   574\n",
       "34.00        34       NORTH SHORE SHUTTLE                      95   291   117\n",
       "4.00         4        EASTGATE/HAMILTON PL                   1614  3998  1588\n",
       "7.00         7        CHATTANOOGA HOUSING AUTHORITY            44   264    55\n",
       "780.00       3        ENTERPRISE SOUTH                         98    87   103\n",
       "8.00         8        EASTDALE                                337   876   395\n",
       "9.00         9        EAST LAKE                               572  1618   574"
      ]
     },
     "execution_count": 36,
     "metadata": {},
     "output_type": "execute_result"
    }
   ],
   "source": [
    "apc_pick = apc[apc['SURVEY_DATE'].isin(dates_pick)]\n",
    "apc_pick = apc_pick[['SERIAL_NUMBER', 'SURVEY_DATE', 'ROUTE_NUMBER', 'route_id', 'route_short_name', 'TOD']]\n",
    "\n",
    "weekdays = apc_pick.groupby(['ROUTE_NUMBER', 'route_id', 'route_short_name', 'SURVEY_DATE', 'TOD']).count()\\\n",
    "                   .groupby(['ROUTE_NUMBER', 'route_id', 'route_short_name', 'TOD']).mean().unstack()\n",
    "\n",
    "\n",
    "round(weekdays).astype(int).to_clipboard()\n",
    "round(weekdays).astype(int)"
   ]
  },
  {
   "cell_type": "markdown",
   "metadata": {},
   "source": [
    "##### Time of Day average, including NaN as Zero"
   ]
  },
  {
   "cell_type": "code",
   "execution_count": null,
   "metadata": {
    "scrolled": false
   },
   "outputs": [],
   "source": [
    "apc_pick = apc[['SERIAL_NUMBER', 'SURVEY_DATE', 'ROUTE_NUMBER', 'TOD']]\n",
    "\n",
    "routes = pd.DataFrame(index=set(apc['ROUTE_NUMBER'])).sort_index()\n",
    "routes.index.name = 'ROUTE_NUMBER'\n",
    "\n",
    "# tod_cols = list(set(apc['TIME_PERIOD']))\n",
    "# tod_cols= ['AM Early', 'AM Peak', 'Midday', 'PM Peak', 'PM Late', 'Other']\n",
    "\n",
    "tod_cols = ['OP']\n",
    "tod_cols.extend(tod_windows.keys())\n",
    "\n",
    "apc_dict = {}\n",
    "for day_pick in dates_pick:\n",
    "    apc_day_pick = apc_pick[apc_pick['SURVEY_DATE']==day_pick]\n",
    "    apc_dict[day_pick] = apc_day_pick.groupby(['ROUTE_NUMBER', 'SURVEY_DATE', 'TOD']).count()\\\n",
    "                                     .groupby(['ROUTE_NUMBER', 'TOD']).mean().unstack().fillna(0)\n",
    "    \n",
    "    apc_dict[day_pick].columns = apc_dict[day_pick].columns.get_level_values(1)\n",
    "\n",
    "    # Fill Routes\n",
    "    apc_dict[day_pick] = routes.join(apc_dict[day_pick], how='left').fillna(0)\n",
    "    \n",
    "    # Fill Columns\n",
    "    for col in tod_cols:\n",
    "        if col not in apc_dict[day_pick]:\n",
    "            apc_dict[day_pick][col]=0\n",
    "\n",
    "    apc_dict[day_pick] = apc_dict[day_pick][tod_cols]\n",
    "    \n",
    "weekdays = sum(apc_dict.values())/len(apc_dict.values())\n",
    "round(weekdays).astype(int)"
   ]
  },
  {
   "cell_type": "markdown",
   "metadata": {},
   "source": [
    "##### CHECK 10/31 Holiday"
   ]
  },
  {
   "cell_type": "raw",
   "metadata": {},
   "source": [
    "apc_pick = apc[apc['SURVEY_DATE']==('10/31/2019 0:00:00')]\n",
    "apc_pick = apc_pick[['SERIAL_NUMBER', 'SURVEY_DATE', 'ROUTE_NUMBER', 'TIME_PERIOD']]\n",
    "\n",
    "holiday = apc_pick.groupby(['ROUTE_NUMBER', 'SURVEY_DATE', 'TIME_PERIOD']).count()\\\n",
    "        .groupby(['ROUTE_NUMBER', 'TIME_PERIOD']).mean().unstack()\n",
    "\n",
    "holiday/weekdays"
   ]
  },
  {
   "cell_type": "code",
   "execution_count": null,
   "metadata": {},
   "outputs": [],
   "source": []
  }
 ],
 "metadata": {
  "kernelspec": {
   "display_name": "chattanooga",
   "language": "python",
   "name": "chattanooga"
  },
  "language_info": {
   "codemirror_mode": {
    "name": "ipython",
    "version": 3
   },
   "file_extension": ".py",
   "mimetype": "text/x-python",
   "name": "python",
   "nbconvert_exporter": "python",
   "pygments_lexer": "ipython3",
   "version": "3.6.11"
  }
 },
 "nbformat": 4,
 "nbformat_minor": 4
}
