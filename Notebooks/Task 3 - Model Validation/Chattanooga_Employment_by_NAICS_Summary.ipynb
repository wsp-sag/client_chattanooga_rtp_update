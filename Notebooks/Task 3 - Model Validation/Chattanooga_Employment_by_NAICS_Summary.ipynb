{
 "cells": [
  {
   "cell_type": "code",
   "execution_count": 14,
   "metadata": {},
   "outputs": [],
   "source": [
    "import os\n",
    "import pandas as pd\n",
    "import geopandas as gpd"
   ]
  },
  {
   "cell_type": "code",
   "execution_count": 11,
   "metadata": {},
   "outputs": [],
   "source": [
    "emp_file = 'microzone_employment_2019.csv'\n",
    "emp_path = os.path.join('..', '..', 'Model', '1_Model-Files', '5_DaySim', 'Inputs', '2_MicroZones', emp_file)"
   ]
  },
  {
   "cell_type": "code",
   "execution_count": 59,
   "metadata": {},
   "outputs": [],
   "source": [
    "emp = pd.read_csv(emp_path)\n",
    "county_xref = gpd.read_file(r'C:/data/OneDrive/WSP O365/chattanooga-modeling - RTP TDM Update/Data/crosswalk.gdb')\n",
    "county_xref = county_xref.groupby(['TAZID'])['county'].first().reset_index()\n",
    "county_xref.columns = ['TAZ_ID', 'county']\n",
    "county_xref\n",
    "\n",
    "emp = pd.merge(emp, county_xref, on='TAZ_ID')\n",
    "\n",
    "check = emp[['county', 'empmed_p', 'empfoo_p', 'empgov_p', 'empind_p', 'empedu_p', 'empofc_p', 'empret_p', 'empsvc_p', 'empoth_p']].copy()\n",
    "\n",
    "emp = emp[['county', 'empedu_p', 'empfoo_p', 'empgov_p', 'empind_p', 'empmed_p', 'empofc_p', 'empret_p', 'empsvc_p', 'empoth_p', 'emptot_p', 'emptrn_p']]\n",
    "\n",
    "emp = emp.groupby('county').sum().transpose()"
   ]
  },
  {
   "cell_type": "code",
   "execution_count": 61,
   "metadata": {},
   "outputs": [
    {
     "data": {
      "text/html": [
       "<div>\n",
       "<style scoped>\n",
       "    .dataframe tbody tr th:only-of-type {\n",
       "        vertical-align: middle;\n",
       "    }\n",
       "\n",
       "    .dataframe tbody tr th {\n",
       "        vertical-align: top;\n",
       "    }\n",
       "\n",
       "    .dataframe thead th {\n",
       "        text-align: right;\n",
       "    }\n",
       "</style>\n",
       "<table border=\"1\" class=\"dataframe\">\n",
       "  <thead>\n",
       "    <tr style=\"text-align: right;\">\n",
       "      <th>county</th>\n",
       "      <th>Hamilton</th>\n",
       "      <th>Catoosa</th>\n",
       "      <th>Walker</th>\n",
       "      <th>Dade</th>\n",
       "    </tr>\n",
       "  </thead>\n",
       "  <tbody>\n",
       "    <tr>\n",
       "      <th>empedu_p</th>\n",
       "      <td>12134.0</td>\n",
       "      <td>1774.0</td>\n",
       "      <td>1002.0</td>\n",
       "      <td>278.0</td>\n",
       "    </tr>\n",
       "    <tr>\n",
       "      <th>empfoo_p</th>\n",
       "      <td>20903.0</td>\n",
       "      <td>1910.0</td>\n",
       "      <td>492.0</td>\n",
       "      <td>13.0</td>\n",
       "    </tr>\n",
       "    <tr>\n",
       "      <th>empgov_p</th>\n",
       "      <td>7702.0</td>\n",
       "      <td>619.0</td>\n",
       "      <td>215.0</td>\n",
       "      <td>10.0</td>\n",
       "    </tr>\n",
       "    <tr>\n",
       "      <th>empind_p</th>\n",
       "      <td>48972.0</td>\n",
       "      <td>2850.0</td>\n",
       "      <td>1832.0</td>\n",
       "      <td>32.0</td>\n",
       "    </tr>\n",
       "    <tr>\n",
       "      <th>empmed_p</th>\n",
       "      <td>36636.0</td>\n",
       "      <td>2205.0</td>\n",
       "      <td>664.0</td>\n",
       "      <td>100.0</td>\n",
       "    </tr>\n",
       "    <tr>\n",
       "      <th>empofc_p</th>\n",
       "      <td>44149.0</td>\n",
       "      <td>1732.0</td>\n",
       "      <td>514.0</td>\n",
       "      <td>45.0</td>\n",
       "    </tr>\n",
       "    <tr>\n",
       "      <th>empret_p</th>\n",
       "      <td>25786.0</td>\n",
       "      <td>3619.0</td>\n",
       "      <td>589.0</td>\n",
       "      <td>67.0</td>\n",
       "    </tr>\n",
       "    <tr>\n",
       "      <th>empsvc_p</th>\n",
       "      <td>14211.0</td>\n",
       "      <td>1553.0</td>\n",
       "      <td>662.0</td>\n",
       "      <td>178.0</td>\n",
       "    </tr>\n",
       "    <tr>\n",
       "      <th>empoth_p</th>\n",
       "      <td>9575.0</td>\n",
       "      <td>1039.0</td>\n",
       "      <td>447.0</td>\n",
       "      <td>22.0</td>\n",
       "    </tr>\n",
       "    <tr>\n",
       "      <th>emptot_p</th>\n",
       "      <td>220068.0</td>\n",
       "      <td>17301.0</td>\n",
       "      <td>6417.0</td>\n",
       "      <td>745.0</td>\n",
       "    </tr>\n",
       "    <tr>\n",
       "      <th>emptrn_p</th>\n",
       "      <td>16997.0</td>\n",
       "      <td>1098.0</td>\n",
       "      <td>431.0</td>\n",
       "      <td>16.0</td>\n",
       "    </tr>\n",
       "  </tbody>\n",
       "</table>\n",
       "</div>"
      ],
      "text/plain": [
       "county    Hamilton  Catoosa  Walker   Dade\n",
       "empedu_p   12134.0   1774.0  1002.0  278.0\n",
       "empfoo_p   20903.0   1910.0   492.0   13.0\n",
       "empgov_p    7702.0    619.0   215.0   10.0\n",
       "empind_p   48972.0   2850.0  1832.0   32.0\n",
       "empmed_p   36636.0   2205.0   664.0  100.0\n",
       "empofc_p   44149.0   1732.0   514.0   45.0\n",
       "empret_p   25786.0   3619.0   589.0   67.0\n",
       "empsvc_p   14211.0   1553.0   662.0  178.0\n",
       "empoth_p    9575.0   1039.0   447.0   22.0\n",
       "emptot_p  220068.0  17301.0  6417.0  745.0\n",
       "emptrn_p   16997.0   1098.0   431.0   16.0"
      ]
     },
     "execution_count": 61,
     "metadata": {},
     "output_type": "execute_result"
    }
   ],
   "source": [
    "emp[['Hamilton', 'Catoosa', 'Walker', 'Dade']]"
   ]
  },
  {
   "cell_type": "code",
   "execution_count": 57,
   "metadata": {},
   "outputs": [
    {
     "data": {
      "text/html": [
       "<div>\n",
       "<style scoped>\n",
       "    .dataframe tbody tr th:only-of-type {\n",
       "        vertical-align: middle;\n",
       "    }\n",
       "\n",
       "    .dataframe tbody tr th {\n",
       "        vertical-align: top;\n",
       "    }\n",
       "\n",
       "    .dataframe thead th {\n",
       "        text-align: right;\n",
       "    }\n",
       "</style>\n",
       "<table border=\"1\" class=\"dataframe\">\n",
       "  <thead>\n",
       "    <tr style=\"text-align: right;\">\n",
       "      <th></th>\n",
       "      <th>0</th>\n",
       "      <th>1</th>\n",
       "      <th>2</th>\n",
       "      <th>3</th>\n",
       "    </tr>\n",
       "  </thead>\n",
       "  <tbody>\n",
       "    <tr>\n",
       "      <th>county</th>\n",
       "      <td>Catoosa</td>\n",
       "      <td>Dade</td>\n",
       "      <td>Hamilton</td>\n",
       "      <td>Walker</td>\n",
       "    </tr>\n",
       "    <tr>\n",
       "      <th>0</th>\n",
       "      <td>17301</td>\n",
       "      <td>745</td>\n",
       "      <td>220068</td>\n",
       "      <td>6417</td>\n",
       "    </tr>\n",
       "  </tbody>\n",
       "</table>\n",
       "</div>"
      ],
      "text/plain": [
       "              0     1         2       3\n",
       "county  Catoosa  Dade  Hamilton  Walker\n",
       "0         17301   745    220068    6417"
      ]
     },
     "execution_count": 57,
     "metadata": {},
     "output_type": "execute_result"
    }
   ],
   "source": [
    "check.groupby('county').sum().transpose().sum().reset_index().transpose()"
   ]
  },
  {
   "cell_type": "code",
   "execution_count": null,
   "metadata": {},
   "outputs": [],
   "source": []
  }
 ],
 "metadata": {
  "kernelspec": {
   "display_name": "chattanooga",
   "language": "python",
   "name": "chattanooga"
  },
  "language_info": {
   "codemirror_mode": {
    "name": "ipython",
    "version": 3
   },
   "file_extension": ".py",
   "mimetype": "text/x-python",
   "name": "python",
   "nbconvert_exporter": "python",
   "pygments_lexer": "ipython3",
   "version": "3.6.11"
  }
 },
 "nbformat": 4,
 "nbformat_minor": 4
}
