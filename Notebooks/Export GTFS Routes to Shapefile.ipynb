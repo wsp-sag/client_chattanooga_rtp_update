{
 "cells": [
  {
   "cell_type": "markdown",
   "metadata": {},
   "source": [
    "### Imports"
   ]
  },
  {
   "cell_type": "code",
   "execution_count": null,
   "metadata": {},
   "outputs": [],
   "source": [
    "import datetime\n",
    "import os\n",
    "\n",
    "import geopandas as gpd\n",
    "import pandas as pd\n",
    "import partridge as ptg"
   ]
  },
  {
   "cell_type": "markdown",
   "metadata": {},
   "source": [
    "### Read in the GTFS Files\n",
    "Specify the path to the GTFS folder.\n",
    "\n",
    "In this case, the script is selecting the busiest day of the GTFS to use as it's guide."
   ]
  },
  {
   "cell_type": "code",
   "execution_count": null,
   "metadata": {},
   "outputs": [],
   "source": [
    "gtfs_feed = 'carta_2019_05_02'\n",
    "gtfs_path = os.path.join('..', 'data', 'gtfs', gtfs_feed)\n",
    "\n",
    "service_date, service_ids = ptg.read_busiest_date(gtfs_path)\n",
    "\n",
    "print('Selected Date: {}'.format(service_date))\n",
    "\n",
    "view = {\n",
    "    'trips.txt': {'service_id': service_ids},\n",
    "}\n",
    "\n",
    "feed = ptg.load_geo_feed(gtfs_path, view)"
   ]
  },
  {
   "cell_type": "markdown",
   "metadata": {},
   "source": [
    "### Merge (Spatial Attribute Join) GTFS Shapes and Trips"
   ]
  },
  {
   "cell_type": "code",
   "execution_count": null,
   "metadata": {},
   "outputs": [],
   "source": [
    "trip_fields = ['route_id', 'trip_headsign', 'direction_id', 'shape_id']\n",
    "route_shapes = feed.shapes.merge(feed.trips.drop_duplicates(trip_fields)[trip_fields],\n",
    "                                 on='shape_id', how='left')"
   ]
  },
  {
   "cell_type": "markdown",
   "metadata": {},
   "source": [
    "### Specify the DBF Schema and Export to Shapefile"
   ]
  },
  {
   "cell_type": "code",
   "execution_count": null,
   "metadata": {},
   "outputs": [],
   "source": [
    "schema = {'geometry': 'LineString',\n",
    "          'properties':\n",
    "              {'shape_id': 'str:15', \n",
    "               'route_id': 'str:25',\n",
    "               'trip_headsign': 'str:25',\n",
    "               'direction_id': 'int'\n",
    "              }\n",
    "         }\n",
    "\n",
    "route_shapes.to_file(os.path.join('..', 'data', 'gtfs', 'route_shapes_{}.shp'.format(gtfs_feed)),\n",
    "                     schema=schema)"
   ]
  }
 ],
 "metadata": {
  "kernelspec": {
   "display_name": "Chattanooga",
   "language": "python",
   "name": "chattanooga"
  },
  "language_info": {
   "codemirror_mode": {
    "name": "ipython",
    "version": 3
   },
   "file_extension": ".py",
   "mimetype": "text/x-python",
   "name": "python",
   "nbconvert_exporter": "python",
   "pygments_lexer": "ipython3",
   "version": "3.6.11"
  }
 },
 "nbformat": 4,
 "nbformat_minor": 2
}
