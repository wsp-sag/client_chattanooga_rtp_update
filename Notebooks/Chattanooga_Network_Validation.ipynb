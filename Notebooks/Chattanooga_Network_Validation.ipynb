{
 "cells": [
  {
   "cell_type": "markdown",
   "metadata": {},
   "source": [
    "## Network Link-to-Link attribute Validation Checks\n",
    "\n",
    "Functions used to identify Link-to-Link pairs and compare values. This ncludes:\n",
    "- Single Attribute In-Link checks\n",
    "- Single Attribute In-Link / Out-Link checks\n",
    "- Multiple Attribute In-Link / Out-Link checks"
   ]
  },
  {
   "cell_type": "markdown",
   "metadata": {},
   "source": [
    "#### Import Libraries "
   ]
  },
  {
   "cell_type": "code",
   "execution_count": 1,
   "metadata": {},
   "outputs": [],
   "source": [
    "import os\n",
    "import geopandas as gpd\n",
    "import matplotlib.pyplot as plt\n",
    "import networkx as nx\n",
    "import numpy as np\n",
    "import pandas as pd\n",
    "# from nxviz import CircosPlot\n",
    "from shapely.geometry import LineString"
   ]
  },
  {
   "cell_type": "markdown",
   "metadata": {},
   "source": [
    "### Load Network data"
   ]
  },
  {
   "cell_type": "markdown",
   "metadata": {},
   "source": [
    "#### Create Function: *segment_heading*: \n",
    "Calculate Heading for both Initial segment and Final segment of Link"
   ]
  },
  {
   "cell_type": "code",
   "execution_count": 2,
   "metadata": {},
   "outputs": [],
   "source": [
    "def segment_heading(line, first_segment=True, flip=False):\n",
    "    if flip:\n",
    "        line = LineString(line.coords[::-1])\n",
    "    \n",
    "    segment = line.coords[:2] if first_segment else line.coords[-2:]\n",
    "    \n",
    "    from_pt = segment[0]\n",
    "    to_pt = segment[1]\n",
    "    \n",
    "    y_delta = to_pt[1] - from_pt[1]\n",
    "    x_delta = to_pt[0] - from_pt[0]\n",
    "\n",
    "    angle_radians = np.arctan2(y_delta, x_delta)\n",
    "    if angle_radians < 0:\n",
    "        angle_radians = 2 * np.pi + angle_radians;\n",
    "\n",
    "    # Deal with the angles being from East Counterclockwise to Northerly bearings\n",
    "    degrees = 90 - angle_radians * 180 / np.pi\n",
    "    if degrees < 0:\n",
    "        degrees = degrees + 360\n",
    "\n",
    "    return degrees"
   ]
  },
  {
   "cell_type": "markdown",
   "metadata": {},
   "source": [
    "#### Load Node and Line Network data from Shapefiles\n",
    "Use GeoPandas to load Geospatial data  \n",
    "Call function 'segment_heading' to calculate Heading"
   ]
  },
  {
   "cell_type": "code",
   "execution_count": 3,
   "metadata": {},
   "outputs": [],
   "source": [
    "line_shp = gpd.read_file(os.path.join('..', 'data', 'Chatt_Master.shp')).to_crs(epsg=2274)\n",
    "node_shp = gpd.read_file(os.path.join('..', 'data', 'Chatt_Master_Node.shp')).to_crs(epsg=2274)\n",
    "\n",
    "# Heading AB\n",
    "line_shp['AB_START_HEADING'] = line_shp['geometry'].apply(segment_heading, first_segment=True)\n",
    "line_shp['AB_END_HEADING'] = line_shp['geometry'].apply(segment_heading, first_segment=False)\n",
    "# Heading BA\n",
    "line_shp['BA_START_HEADING'] = line_shp['geometry'].apply(segment_heading, first_segment=True, flip=True)\n",
    "line_shp['BA_END_HEADING'] = line_shp['geometry'].apply(segment_heading, first_segment=False, flip=True)"
   ]
  },
  {
   "cell_type": "markdown",
   "metadata": {},
   "source": [
    "### Build Network Graph"
   ]
  },
  {
   "cell_type": "markdown",
   "metadata": {},
   "source": [
    "#### Turn Two-Way Links into 2 One-Way Links for Directional Flow.\n",
    "#### Create Function: *directional_links*\n",
    "Keep AB Links and produce BA Links, carrying over link attributes based on the direction of flow."
   ]
  },
  {
   "cell_type": "code",
   "execution_count": 4,
   "metadata": {},
   "outputs": [],
   "source": [
    "def directional_links(atts, line_shp):\n",
    "    dirs = {'keep':'AB', 'invert':'BA'}\n",
    "    dfs = {}\n",
    "    \n",
    "    for flow,d in dirs.items():\n",
    "        links = line_shp[line_shp['{}_LANES'.format(d)] > 0].copy()\n",
    "        rename_dict = {'{}{}'.format(d, a):a for a in atts}\n",
    "        links = links.rename(columns=rename_dict)\n",
    "        \n",
    "        if flow == 'invert':\n",
    "            links['A'] = links['TO_ID']\n",
    "            links['B'] = links['FROM_ID']\n",
    "            links = links.drop(columns=['FROM_ID', 'TO_ID']).rename(columns={'A': 'FROM_ID', 'B': 'TO_ID'})\n",
    "        \n",
    "        dfs['{}_links'.format(d)] = links\n",
    "    \n",
    "    links = pd.concat(dfs.values(), ignore_index=True)\n",
    "    \n",
    "    drop_dict = ['{}{}'.format(d, a) for a in atts for d in dirs.values()]\n",
    "    links = links.drop(columns=drop_dict)\n",
    "    \n",
    "    return links"
   ]
  },
  {
   "cell_type": "markdown",
   "metadata": {},
   "source": [
    "#### Generate Directional links with Attributes\n",
    "####  Call Function: *directional_links*\n",
    "Use list of Directional Attributes to carry over, e.g. 'AB_LANES' and 'BA_LANES', to '_LANES' "
   ]
  },
  {
   "cell_type": "code",
   "execution_count": 5,
   "metadata": {},
   "outputs": [],
   "source": [
    "# List of Directional Attributes\n",
    "atts = [\n",
    "    '_LINKDIR',\n",
    "    '_LINKDTR',\n",
    "    '_LANES',\n",
    "    '_PARKING',\n",
    "    '_TRIMS',\n",
    "    '_AADT',\n",
    "    '_CAR_ADT',\n",
    "    '_SUT_ADT',\n",
    "    '_MUT_ADT',\n",
    "    '_BASEVOL',\n",
    "    '_AFFTIME',\n",
    "    '_AFFSPD',\n",
    "    '_UCDELAY',\n",
    "    '_DLYCAP',\n",
    "    '_AMCAP',\n",
    "    '_PMCAP',\n",
    "    '_BPRA',\n",
    "    '_BPRB',\n",
    "    '_START_HEADING',\n",
    "    '_END_HEADING'\n",
    "]\n",
    "# Generate Directional Links\n",
    "line_shp = directional_links(atts, line_shp)"
   ]
  },
  {
   "cell_type": "markdown",
   "metadata": {},
   "source": [
    "####  Build the Directional Graph: *g*\n",
    "#### Call Method: *nx.from_pandas_edgelist*"
   ]
  },
  {
   "cell_type": "code",
   "execution_count": 6,
   "metadata": {},
   "outputs": [],
   "source": [
    "g = nx.from_pandas_edgelist(\n",
    "    line_shp,\n",
    "    source='FROM_ID',\n",
    "    target='TO_ID',\n",
    "    edge_attr=True,\n",
    "    create_using=nx.DiGraph()\n",
    ")\n",
    "\n",
    "assert nx.is_directed(g)"
   ]
  },
  {
   "cell_type": "markdown",
   "metadata": {},
   "source": [
    "### Link to Link validation Functions"
   ]
  },
  {
   "cell_type": "markdown",
   "metadata": {},
   "source": [
    "#### Create Function: *link_matcher_atts*: \n",
    "For each node in Network, match all combinations of In/ Out Links and return both In and Out values"
   ]
  },
  {
   "cell_type": "code",
   "execution_count": 7,
   "metadata": {
    "scrolled": true
   },
   "outputs": [],
   "source": [
    "def link_matcher_atts(attributes, graph, edge_id='ID'):\n",
    "    heading = True if '_HEADING' in attributes else False\n",
    "    atts = []\n",
    "    atts.extend([a for a in attributes if a!='_HEADING'])\n",
    "    \n",
    "#     if heading: atts.remove('_HEADING')\n",
    "\n",
    "    node_feed = []\n",
    "\n",
    "    for node in node_shp['ID']:\n",
    "        if node not in g:\n",
    "            print('Node not in network: {}'.format(node))\n",
    "            continue\n",
    "\n",
    "        for i_o, i_d, i_data  in g.in_edges(node, data=True):\n",
    "            for o_o, o_d, o_data in g.out_edges(node, data=True):\n",
    "                if i_o == o_d and i_d == o_o:\n",
    "                    # This is just a U-Turn on the \"same\" link\n",
    "                    continue\n",
    "                    \n",
    "                data = [i_data, o_data]\n",
    "                values = [node, *[d[edge_id] for d in data], *[d[a] for a in atts for d in data]]\n",
    "                if heading: values.extend([i_data['_END_HEADING'], o_data['_START_HEADING']])\n",
    "                node_feed.append(values)\n",
    "                \n",
    "    # Generate Column names\n",
    "    dirs = ['in', 'out']\n",
    "    cols = ['node', *[ d+'_'+edge_id for d in dirs], *[ d+'_'+a for a in atts for d in dirs]]\n",
    "    if heading: cols.extend([ d+'__HEADING' for d in dirs])\n",
    "\n",
    "    return pd.DataFrame(node_feed, columns=cols)"
   ]
  },
  {
   "cell_type": "markdown",
   "metadata": {},
   "source": [
    "#### Create Function: *attribute_change*: \n",
    "Calculate change in Attribute"
   ]
  },
  {
   "cell_type": "code",
   "execution_count": 8,
   "metadata": {
    "scrolled": true
   },
   "outputs": [],
   "source": [
    "def attribute_change(network, attributes):\n",
    "    for att in attributes:\n",
    "        in_fld = 'in_{}'.format(att)\n",
    "        out_fld = 'out_{}'.format(att)\n",
    "        fld_diff = 'diff_{}'.format(att)\n",
    "#         abs_fld_diff = 'abs_diff_{}'.format(filter_name)\n",
    "    \n",
    "        if isinstance(network[in_fld][0], (int, float)):\n",
    "            network[fld_diff] = network[out_fld] - network[in_fld]\n",
    "        elif isinstance(network[in_fld][0], str):\n",
    "            network[fld_diff] = 'SAME' if network[out_fld].str == network[in_fld].str else 'CHANGES'\n",
    "\n",
    "    return network#.groupby([in_fld, out_fld]).count().reset_index()"
   ]
  },
  {
   "cell_type": "markdown",
   "metadata": {},
   "source": [
    "#### Create Function: *attribute_filtering*: \n",
    "Apply Attributes and Values difference to use as filters"
   ]
  },
  {
   "cell_type": "code",
   "execution_count": 9,
   "metadata": {
    "scrolled": true
   },
   "outputs": [],
   "source": [
    "def attribute_filtering(network, att_filters):\n",
    "    for filter_name, filter_val in att_filters.items():\n",
    "        in_fld = 'in_{}'.format(filter_name)\n",
    "        out_fld = 'out_{}'.format(filter_name)\n",
    "        fld_diff = 'diff_{}'.format(filter_name)\n",
    "#         abs_fld_diff = 'abs_diff_{}'.format(filter_name)\n",
    "    \n",
    "        if isinstance(filter_val, (int, float)):\n",
    "            network = network[abs(network[fld_diff]) >= filter_val]\n",
    "        elif isinstance(filter_val, str):\n",
    "            network = network[(network[in_fld] == filter_val) | (network[out_fld] == filter_val)]\n",
    "\n",
    "    return network#.groupby([in_fld, out_fld]).count().reset_index()"
   ]
  },
  {
   "cell_type": "markdown",
   "metadata": {},
   "source": [
    "#### Create Function: *export_geo*: \n",
    "Export Geometry to Shapefile"
   ]
  },
  {
   "cell_type": "code",
   "execution_count": 10,
   "metadata": {},
   "outputs": [],
   "source": [
    "# In/Out Long Table\n",
    "def export_geo(network, export_name, att_name):\n",
    "    fld_diff = 'diff_{}'.format(att_name)\n",
    "    \n",
    "    network = network.rename(columns={'out_ID':'ID'})\n",
    "\n",
    "    # geometries\n",
    "    geo_cols = ['ID', 'FROM_ID', 'geometry']\n",
    "    network = pd.merge(line_shp[geo_cols], network, left_on=['ID', 'FROM_ID'], right_on=['ID', 'node'])\n",
    "    network.drop(columns=['FROM_ID'], inplace=True)\n",
    "    \n",
    "    shp_export = os.path.join('..', 'data', '{}_{}.shp'.format(export_name, '_'.join([n for n in att_name])))\n",
    "    network.to_file(shp_export)\n",
    "#     return network#.sort_values(by=fld_diff, ascending=False), shp_export\n",
    "    return network, shp_export"
   ]
  },
  {
   "cell_type": "markdown",
   "metadata": {},
   "source": [
    "#### Create Function: *summary_in_out*: \n",
    "Create function to aggregate In-link and Out-Link by Attribute and summarize by count"
   ]
  },
  {
   "cell_type": "code",
   "execution_count": 11,
   "metadata": {},
   "outputs": [],
   "source": [
    "def summary_in_out(network, att, csv_name, filter_in='', filter_out='', return_summary = True, include_same_att=False):\n",
    "    in_att = 'in_{}'.format(*att)\n",
    "    out_att = 'out_{}'.format(*att)\n",
    "    \n",
    "    if include_same_att == False:\n",
    "        network = network[network[in_att]!=network[out_att]]\n",
    "        \n",
    "    if filter_in is not '': network = network[network[in_att].isin(filter_in)]\n",
    "    if filter_out is not '': network = network[network[out_att].isin(filter_out)]\n",
    "        \n",
    "    if return_summary == True:\n",
    "        network = network.groupby([in_att, out_att])[in_att].count().reset_index(name='count')\n",
    "    \n",
    "    csv_export = os.path.join('..', 'data', '{}_{}_SUMMARY.csv'.format(csv_name, *attribute_name))\n",
    "    network.to_csv(csv_export, index=False)\n",
    "\n",
    "    return network"
   ]
  },
  {
   "cell_type": "markdown",
   "metadata": {},
   "source": [
    "#### Create Function: *link_compare*: \n",
    "Create function to call Link-to-Link attribute comparison"
   ]
  },
  {
   "cell_type": "code",
   "execution_count": 12,
   "metadata": {},
   "outputs": [],
   "source": [
    "def link_compare(attribute_names, attribute_filters, export_geometry):\n",
    "    network = link_matcher_atts(attribute_names, graph=g)\n",
    "    network = attribute_change(network, attribute_names)\n",
    "    network = attribute_filtering(network,\n",
    "                                attribute_filters,\n",
    "                                )\n",
    "    csv_export = os.path.join('..', 'data', 'Network_attribute_change_table_{}.csv'.format('_'.join([n for n in attribute_names])))\n",
    "    network.to_csv(csv_export, index=False)\n",
    "    \n",
    "    # Print\n",
    "    print_txt = 'Total network links with change in {}: {:,}'\n",
    "    print(print_txt.format(', '.join([n for n in attribute_names]),\n",
    "                           len(network)\n",
    "                           ))\n",
    "    print('Table exported to {}'.format(csv_export))\n",
    "    if export_geometry:\n",
    "        network, shp_export = export_geo(network, attribute_filters)\n",
    "        print('Shapefile exported to {}'.format(shp_export))\n",
    "\n",
    "    return network"
   ]
  },
  {
   "cell_type": "markdown",
   "metadata": {},
   "source": [
    "#### Create Function: *link_compare_single*: \n",
    "Create function to call Link-to-Link for single attribute comparison"
   ]
  },
  {
   "cell_type": "code",
   "execution_count": 16,
   "metadata": {},
   "outputs": [],
   "source": [
    "### RUN FUNCTIONS\n",
    "def link_compare_single(att_name, export_name, in_att_filters, out_att_filters, return_summary, include_same_att):\n",
    "    network = link_matcher_atts(att_name, graph=g)\n",
    "\n",
    "    network = summary_in_out(network,\n",
    "                             att_name,\n",
    "                             export_name,\n",
    "                             in_att_filters,\n",
    "                             out_att_filters,\n",
    "                             return_summary,\n",
    "                             include_same_att\n",
    "                             )\n",
    "    \n",
    "    print_txt = 'Total network links found {}: {:,}'\n",
    "    print(print_txt.format(*att_name, len(network)))\n",
    "    print('Table exported to {}'.format(export_name))\n",
    "    \n",
    "    if return_summary == False:\n",
    "        network, shp_export = export_geo(network, export_name, att_name)\n",
    "        print('Shapefile exported to {}'.format(shp_export))\n",
    "        \n",
    "    return network#.astype(int)"
   ]
  },
  {
   "cell_type": "markdown",
   "metadata": {},
   "source": [
    "## Run Network VALIDATION TESTS\n",
    "Use Heading ('_HEADING') to calculate deviation of In-Link(Final Segment) and Out-Link (Initial Segment)\n"
   ]
  },
  {
   "cell_type": "markdown",
   "metadata": {},
   "source": [
    "## Single Attribute"
   ]
  },
  {
   "cell_type": "markdown",
   "metadata": {},
   "source": [
    "### Zone Connectors to Freeway\n",
    "### Node Link-IN  Link-OUT Summary validation: FUNCTIONAL CLASS"
   ]
  },
  {
   "cell_type": "code",
   "execution_count": 21,
   "metadata": {},
   "outputs": [
    {
     "name": "stdout",
     "output_type": "stream",
     "text": [
      "Total network links found FUNCCLASS: 6\n",
      "Table exported to Network_attribute_change_OUT\n",
      "Shapefile exported to ..\\data\\Network_attribute_change_OUT_FUNCCLASS.shp\n"
     ]
    },
    {
     "data": {
      "text/html": [
       "<div>\n",
       "<style scoped>\n",
       "    .dataframe tbody tr th:only-of-type {\n",
       "        vertical-align: middle;\n",
       "    }\n",
       "\n",
       "    .dataframe tbody tr th {\n",
       "        vertical-align: top;\n",
       "    }\n",
       "\n",
       "    .dataframe thead th {\n",
       "        text-align: right;\n",
       "    }\n",
       "</style>\n",
       "<table border=\"1\" class=\"dataframe\">\n",
       "  <thead>\n",
       "    <tr style=\"text-align: right;\">\n",
       "      <th></th>\n",
       "      <th>ID</th>\n",
       "      <th>geometry</th>\n",
       "      <th>node</th>\n",
       "      <th>in_ID</th>\n",
       "      <th>in_FUNCCLASS</th>\n",
       "      <th>out_FUNCCLASS</th>\n",
       "    </tr>\n",
       "  </thead>\n",
       "  <tbody>\n",
       "    <tr>\n",
       "      <th>0</th>\n",
       "      <td>38590</td>\n",
       "      <td>LINESTRING (2268824.838 292236.760, 2259832.56...</td>\n",
       "      <td>2327</td>\n",
       "      <td>261</td>\n",
       "      <td>11.0</td>\n",
       "      <td>98.0</td>\n",
       "    </tr>\n",
       "    <tr>\n",
       "      <th>1</th>\n",
       "      <td>38568</td>\n",
       "      <td>LINESTRING (2122049.554 220243.903, 2126226.47...</td>\n",
       "      <td>16801</td>\n",
       "      <td>17644</td>\n",
       "      <td>1.0</td>\n",
       "      <td>98.0</td>\n",
       "    </tr>\n",
       "    <tr>\n",
       "      <th>2</th>\n",
       "      <td>38568</td>\n",
       "      <td>LINESTRING (2122049.554 220243.903, 2126226.47...</td>\n",
       "      <td>16801</td>\n",
       "      <td>17648</td>\n",
       "      <td>1.0</td>\n",
       "      <td>98.0</td>\n",
       "    </tr>\n",
       "    <tr>\n",
       "      <th>3</th>\n",
       "      <td>38572</td>\n",
       "      <td>LINESTRING (2122579.151 239648.417, 2127434.61...</td>\n",
       "      <td>16651</td>\n",
       "      <td>17520</td>\n",
       "      <td>11.0</td>\n",
       "      <td>98.0</td>\n",
       "    </tr>\n",
       "    <tr>\n",
       "      <th>4</th>\n",
       "      <td>38598</td>\n",
       "      <td>LINESTRING (2264082.271 188253.464, 2258664.68...</td>\n",
       "      <td>16903</td>\n",
       "      <td>17769</td>\n",
       "      <td>1.0</td>\n",
       "      <td>98.0</td>\n",
       "    </tr>\n",
       "    <tr>\n",
       "      <th>5</th>\n",
       "      <td>38262</td>\n",
       "      <td>LINESTRING (2171785.002 273318.099, 2172061.66...</td>\n",
       "      <td>2120</td>\n",
       "      <td>80</td>\n",
       "      <td>12.0</td>\n",
       "      <td>98.0</td>\n",
       "    </tr>\n",
       "  </tbody>\n",
       "</table>\n",
       "</div>"
      ],
      "text/plain": [
       "      ID                                           geometry   node  in_ID  \\\n",
       "0  38590  LINESTRING (2268824.838 292236.760, 2259832.56...   2327    261   \n",
       "1  38568  LINESTRING (2122049.554 220243.903, 2126226.47...  16801  17644   \n",
       "2  38568  LINESTRING (2122049.554 220243.903, 2126226.47...  16801  17648   \n",
       "3  38572  LINESTRING (2122579.151 239648.417, 2127434.61...  16651  17520   \n",
       "4  38598  LINESTRING (2264082.271 188253.464, 2258664.68...  16903  17769   \n",
       "5  38262  LINESTRING (2171785.002 273318.099, 2172061.66...   2120     80   \n",
       "\n",
       "   in_FUNCCLASS  out_FUNCCLASS  \n",
       "0          11.0           98.0  \n",
       "1           1.0           98.0  \n",
       "2           1.0           98.0  \n",
       "3          11.0           98.0  \n",
       "4           1.0           98.0  \n",
       "5          12.0           98.0  "
      ]
     },
     "execution_count": 21,
     "metadata": {},
     "output_type": "execute_result"
    }
   ],
   "source": [
    "### SPECIFY PARAMETERS\n",
    "# IN Attribute:\n",
    "attribute_name = ['FUNCCLASS']\n",
    "# Filter by OUT attribute value (Equal to):\n",
    "in_attribute_filters = [98]\n",
    "out_attribute_filters = [1,11,12]\n",
    "# Return Summary table or Link level table\n",
    "return_summary = False\n",
    "# Include Links where Attribute remains the same In/Out\n",
    "include_same_att = False\n",
    "#Export name:\n",
    "export_name = 'Network_attribute_change'\n",
    "\n",
    "\n",
    "### RUN FUNCTIONS\n",
    "network = link_compare_single(attribute_name,\n",
    "                              export_name,\n",
    "                              in_attribute_filters,\n",
    "                              out_attribute_filters,\n",
    "                              return_summary,\n",
    "                              include_same_att\n",
    "                              )\n",
    "\n",
    "network"
   ]
  },
  {
   "cell_type": "markdown",
   "metadata": {},
   "source": [
    "###  Node Link-IN  Link-OUT Summary validation: NUMBER OF LANES"
   ]
  },
  {
   "cell_type": "code",
   "execution_count": null,
   "metadata": {
    "scrolled": false
   },
   "outputs": [],
   "source": [
    "### SPECIFY PARAMETERS\n",
    "# IN Attribute:\n",
    "attribute_name = ['_LANES']\n",
    "# Filter by OUT attribute value (Equal to):\n",
    "in_attribute_filters = ''\n",
    "out_attribute_filters = [5]\n",
    "# Return Summary table or Link level table\n",
    "return_summary = True\n",
    "# Include Links where Attribute remains the same In/Out\n",
    "include_same_att = False\n",
    "#Export to csv name:\n",
    "csv_name = 'Network_attribute_change_table'\n",
    "\n",
    "\n",
    "### RUN FUNCTIONS\n",
    "network = link_compare_single(network,\n",
    "                              attribute_name,\n",
    "                              csv_name,\n",
    "                              in_attribute_filters,\n",
    "                              out_attribute_filters,\n",
    "                              return_summary,\n",
    "                              include_same_att\n",
    "                              )\n",
    "\n",
    "network"
   ]
  },
  {
   "cell_type": "markdown",
   "metadata": {},
   "source": [
    "###  Node Link-IN  Link-OUT Summary validation: SPEED LIMIT"
   ]
  },
  {
   "cell_type": "code",
   "execution_count": null,
   "metadata": {
    "scrolled": false
   },
   "outputs": [],
   "source": [
    "### SPECIFY PARAMETERS\n",
    "# IN Attribute:\n",
    "attribute_name = ['SPD_LMT']\n",
    "# Filter by OUT attribute value (Equal to):\n",
    "in_attribute_filters = ''\n",
    "out_attribute_filters = [70]\n",
    "# Return Summary table or Link level table\n",
    "return_summary = True\n",
    "# Include Links where Attribute remains the same In/Out\n",
    "include_same_att = False\n",
    "#Export to csv name:\n",
    "csv_name = 'Network_attribute_change'\n",
    "\n",
    "\n",
    "### RUN FUNCTIONS\n",
    "network = link_compare_single(network,\n",
    "                              attribute_name,\n",
    "                              csv_name,\n",
    "                              in_attribute_filters,\n",
    "                              out_attribute_filters,\n",
    "                              return_summary,\n",
    "                              include_same_att\n",
    "                              )\n",
    "\n",
    "network"
   ]
  },
  {
   "cell_type": "markdown",
   "metadata": {},
   "source": [
    "###  Node Link-IN  Link-OUT Summary validation: FUNCTIONAL CLASS"
   ]
  },
  {
   "cell_type": "code",
   "execution_count": null,
   "metadata": {
    "scrolled": false
   },
   "outputs": [],
   "source": [
    "### SPECIFY PARAMETERS\n",
    "# IN Attribute:\n",
    "attribute_name = ['FUNCCLASS']\n",
    "# Filter by IN / OUT attribute value (Equal to):\n",
    "in_attribute_filters = [98]\n",
    "out_attribute_filters = [1, 11, 12]\n",
    "# Return Summary table or Link level table\n",
    "return_summary = False\n",
    "# Include Links where Attribute remains the same In/Out\n",
    "include_same_att = False\n",
    "#Export to csv name:\n",
    "csv_name = 'Network_attribute_change_table'\n",
    "\n",
    "\n",
    "### RUN FUNCTIONS\n",
    "network = link_compare_single(network,\n",
    "                              attribute_name,\n",
    "                              csv_name,\n",
    "                              in_attribute_filters,\n",
    "                              out_attribute_filters,\n",
    "                              return_summary,\n",
    "                              include_same_att\n",
    "                              )\n",
    "\n",
    "network"
   ]
  },
  {
   "cell_type": "markdown",
   "metadata": {},
   "source": [
    "###  Node Link-IN  Link-OUT Summary validation: RIGHT SHOULDER WIDTH"
   ]
  },
  {
   "cell_type": "code",
   "execution_count": null,
   "metadata": {
    "scrolled": false
   },
   "outputs": [],
   "source": [
    "### SPECIFY PARAMETERS\n",
    "# IN Attribute:\n",
    "attribute_name = ['RS_WIDTH']\n",
    "# Filter by IN / OUT attribute value (Equal to):\n",
    "in_attribute_filters = ''\n",
    "out_attribute_filters = [24, 30]\n",
    "# Return Summary table or Link level table\n",
    "return_summary = True\n",
    "# Include Links where Attribute remains the same In/Out\n",
    "include_same_att = False\n",
    "#Export to csv name:\n",
    "csv_name = 'Network_attribute_change_table'\n",
    "\n",
    "\n",
    "### RUN FUNCTIONS\n",
    "network = link_compare_single(network,\n",
    "                              attribute_name,\n",
    "                              csv_name,\n",
    "                              in_attribute_filters,\n",
    "                              out_attribute_filters,\n",
    "                              return_summary,\n",
    "                              include_same_att\n",
    "                              )\n",
    "\n",
    "network"
   ]
  },
  {
   "cell_type": "markdown",
   "metadata": {},
   "source": [
    "###  Node Link-IN  Link-OUT Summary validation: (EXCESSIVE) SPEED LIMITS"
   ]
  },
  {
   "cell_type": "code",
   "execution_count": null,
   "metadata": {
    "scrolled": false
   },
   "outputs": [],
   "source": [
    "### SPECIFY PARAMETERS\n",
    "# IN Attribute:\n",
    "attribute_name = ['SPD_LMT']\n",
    "# Filter by IN / OUT attribute value (Equal to):\n",
    "in_attribute_filters = ''\n",
    "out_attribute_filters = [65, 70]\n",
    "# Return Summary table or Link level table\n",
    "return_summary = True\n",
    "# Include Links where Attribute remains the same In/Out\n",
    "include_same_att = False\n",
    "#Export to csv name:\n",
    "csv_name = 'Network_attribute_change_table'\n",
    "\n",
    "\n",
    "### RUN FUNCTIONS\n",
    "network = link_compare_single(network,\n",
    "                              attribute_name,\n",
    "                              csv_name,\n",
    "                              in_attribute_filters,\n",
    "                              out_attribute_filters,\n",
    "                              return_summary,\n",
    "                              include_same_att\n",
    "                              )\n",
    "\n",
    "network"
   ]
  },
  {
   "cell_type": "markdown",
   "metadata": {},
   "source": [
    "## Multiple Attribute"
   ]
  },
  {
   "cell_type": "markdown",
   "metadata": {},
   "source": [
    "### Node Link-IN  Link-OUT validation: SPEED LIMIT, and NUMBER OF LANES"
   ]
  },
  {
   "cell_type": "code",
   "execution_count": null,
   "metadata": {
    "scrolled": false
   },
   "outputs": [],
   "source": [
    "### SPECIFY PARAMETERS\n",
    "# Attribute to validate:\n",
    "attribute_names = ['SPD_LMT', '_LANES']\n",
    "# Filter by CHANGE in attribute value (Equal to or Greater than) and Export long table:\n",
    "attribute_filters = {\n",
    "    'SPD_LMT':30,\n",
    "#     '_LANES':1\n",
    "}\n",
    "# Summarize by Node Maximum value and Export Geo:\n",
    "export_geometry = True\n",
    "\n",
    "\n",
    "### RUN FUNCTIONS\n",
    "network = link_compare(attribute_names, attribute_filters, export_geometry)\n",
    "\n",
    "### ADDITIONAL FILTERING\n",
    "network[network['node'].isin([2137, 2663])].drop(columns=['geometry'])"
   ]
  },
  {
   "cell_type": "markdown",
   "metadata": {},
   "source": [
    "### Node Link-IN  Link-OUT validation: SPEED LIMIT, NUMBER OF LANES and HEADING"
   ]
  },
  {
   "cell_type": "code",
   "execution_count": null,
   "metadata": {
    "scrolled": false
   },
   "outputs": [],
   "source": [
    "### SPECIFY PARAMETERS\n",
    "# Attribute to validate:\n",
    "attribute_names = ['SPD_LMT', '_LANES', '_HEADING']\n",
    "# Filter by CHANGE in attribute value (Equal to or Greater than) and Export long table:\n",
    "attribute_filters = {\n",
    "    'SPD_LMT':25,\n",
    "#     '_LANES':1,\n",
    "#     '_HEADING':30\n",
    "}\n",
    "# Summarize by Node Maximum value and Export Geo:\n",
    "export_geometry = True\n",
    "\n",
    "\n",
    "### RUN FUNCTIONS\n",
    "network = link_compare(attribute_names, attribute_filters, export_geometry)\n",
    "network.drop(columns=['geometry'])\n",
    "\n",
    "# ### ADDITIONAL FILTERING\n",
    "network[abs(network['diff__HEADING'])<=30].drop(columns=['geometry'])"
   ]
  },
  {
   "cell_type": "markdown",
   "metadata": {},
   "source": [
    "### Network Link-to-Link attribute side-by-side validation: NUMBER OF LANES and FUNCTION CLASS"
   ]
  },
  {
   "cell_type": "code",
   "execution_count": null,
   "metadata": {
    "scrolled": false
   },
   "outputs": [],
   "source": [
    "### SPECIFY PARAMETERS\n",
    "# Attribute to validate:\n",
    "attribute_names = ['_LANES', 'FUNCCLASS', 'FUNC_CLASS']\n",
    "# Filter by CHANGE in attribute value (Equal to or Greater than) and Export long table:\n",
    "attribute_filters = {\n",
    "    '_LANES':3,\n",
    "}\n",
    "# Summarize by Node Maximum value and Export Geo:\n",
    "export_geometry = True\n",
    "\n",
    "\n",
    "### RUN FUNCTIONS\n",
    "network = link_compare(attribute_names, attribute_filters, export_geometry)\n",
    "network.head()\n",
    "\n",
    "\n",
    "### ADDITIONAL FILTERING\n",
    "# network[network['node'].isin([15248])].drop(columns=['geometry', 'diff_FUNCCLASS'])\n",
    "\n",
    "### ADDITIONAL FILTERING: None is IN/OUT FREEWAY\n",
    "network[(~network['in_FUNCCLASS'].isin([1,11,12])) & (~network['out_FUNCCLASS'].isin([1,11,12]))]\\\n",
    "       .drop(columns=['geometry', 'diff_FUNCCLASS'])"
   ]
  },
  {
   "cell_type": "markdown",
   "metadata": {},
   "source": [
    "### Network Link-to-Link attribute side-by-side validation: SPEED LIMIT and ROUTE NAME\n",
    "Filter by Speed Limit"
   ]
  },
  {
   "cell_type": "code",
   "execution_count": null,
   "metadata": {
    "scrolled": false
   },
   "outputs": [],
   "source": [
    "### SPECIFY PARAMETERS\n",
    "# Attribute to validate:\n",
    "attribute_names = ['SPD_LMT', 'RTE_NME']\n",
    "# Filter by CHANGE in attribute value (Equal to or Greater than) and Export long table:\n",
    "attribute_filters = {\n",
    "    'SPD_LMT':10,\n",
    "}\n",
    "# Summarize by Node Maximum value and Export Geo:\n",
    "export_geometry = False\n",
    "\n",
    "\n",
    "### RUN FUNCTIONS\n",
    "network = link_compare(attribute_names, attribute_filters, export_geometry)\n",
    "network.head()"
   ]
  },
  {
   "cell_type": "markdown",
   "metadata": {},
   "source": [
    "### Network Link-to-Link attribute side-by-side validation: SPEED LIMIT and ROUTE NAME\n",
    "Filter by Route Name"
   ]
  },
  {
   "cell_type": "code",
   "execution_count": null,
   "metadata": {
    "scrolled": false
   },
   "outputs": [],
   "source": [
    "### SPECIFY PARAMETERS\n",
    "# Attribute to validate:\n",
    "attribute_names = ['SPD_LMT', 'RTE_NME']\n",
    "# Filter by CHANGE in attribute value (Equal to or Greater than) and Export long table:\n",
    "attribute_filters = {\n",
    "    'SPD_LMT':10,\n",
    "    'RTE_NME':'CENTROID CONNECTOR',\n",
    "}\n",
    "# Summarize by Node Maximum value and Export Geo:\n",
    "export_geometry = False\n",
    "\n",
    "\n",
    "### RUN FUNCTIONS\n",
    "network = link_compare(attribute_names, attribute_filters, export_geometry)\n",
    "network.head()"
   ]
  },
  {
   "cell_type": "markdown",
   "metadata": {},
   "source": [
    "### Network Link-to-Link attribute side-by-side validation: NUMBER OF LANES and FUNCTIONAL CLASS\n",
    "Filter by Number of Lanes"
   ]
  },
  {
   "cell_type": "code",
   "execution_count": null,
   "metadata": {
    "scrolled": false
   },
   "outputs": [],
   "source": [
    "### SPECIFY PARAMETERS\n",
    "# Attribute to validate:\n",
    "attribute_names = ['_LANES', 'FUNCCLASS']\n",
    "# Filter by CHANGE in attribute value (Equal to or Greater than) and Export long table:\n",
    "attribute_filters = {\n",
    "    '_LANES':2,\n",
    "}\n",
    "# Summarize by Node Maximum value and Export Geo:\n",
    "export_geometry = True\n",
    "\n",
    "\n",
    "### RUN FUNCTIONS\n",
    "network = link_compare(attribute_names, attribute_filters, export_geometry)\n",
    "network.head()"
   ]
  },
  {
   "cell_type": "code",
   "execution_count": null,
   "metadata": {},
   "outputs": [],
   "source": []
  }
 ],
 "metadata": {
  "kernelspec": {
   "display_name": "Python 3",
   "language": "python",
   "name": "python3"
  },
  "language_info": {
   "codemirror_mode": {
    "name": "ipython",
    "version": 3
   },
   "file_extension": ".py",
   "mimetype": "text/x-python",
   "name": "python",
   "nbconvert_exporter": "python",
   "pygments_lexer": "ipython3",
   "version": "3.6.11"
  }
 },
 "nbformat": 4,
 "nbformat_minor": 2
}
