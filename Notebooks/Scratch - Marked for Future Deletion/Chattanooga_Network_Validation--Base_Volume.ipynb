{
 "cells": [
  {
   "cell_type": "markdown",
   "metadata": {},
   "source": [
    "## Network attribute Validation Checks\n"
   ]
  },
  {
   "cell_type": "markdown",
   "metadata": {},
   "source": [
    "#### Import Libraries "
   ]
  },
  {
   "cell_type": "code",
   "execution_count": null,
   "metadata": {},
   "outputs": [],
   "source": [
    "import os\n",
    "import geopandas as gpd\n",
    "import matplotlib.pyplot as plt\n",
    "import networkx as nx\n",
    "import numpy as np\n",
    "import pandas as pd\n",
    "# from nxviz import CircosPlot\n",
    "from shapely.geometry import LineString"
   ]
  },
  {
   "cell_type": "markdown",
   "metadata": {},
   "source": [
    "### Load Network data"
   ]
  },
  {
   "cell_type": "markdown",
   "metadata": {},
   "source": [
    "#### Create Function: *segment_heading*: \n",
    "Calculate Heading for both Initial segment and Final segment of Link"
   ]
  },
  {
   "cell_type": "code",
   "execution_count": null,
   "metadata": {},
   "outputs": [],
   "source": [
    "def segment_heading(line, first_segment=True, flip=False):\n",
    "    if flip:\n",
    "        line = LineString(line.coords[::-1])\n",
    "    \n",
    "    segment = line.coords[:2] if first_segment else line.coords[-2:]\n",
    "    \n",
    "    from_pt = segment[0]\n",
    "    to_pt = segment[1]\n",
    "    \n",
    "    y_delta = to_pt[1] - from_pt[1]\n",
    "    x_delta = to_pt[0] - from_pt[0]\n",
    "\n",
    "    angle_radians = np.arctan2(y_delta, x_delta)\n",
    "    if angle_radians < 0:\n",
    "        angle_radians = 2 * np.pi + angle_radians;\n",
    "\n",
    "    # Deal with the angles being from East Counterclockwise to Northerly bearings\n",
    "    degrees = 90 - angle_radians * 180 / np.pi\n",
    "    if degrees < 0:\n",
    "        degrees = degrees + 360\n",
    "\n",
    "    return degrees"
   ]
  },
  {
   "cell_type": "markdown",
   "metadata": {},
   "source": [
    "#### Load Node and Line Network data from Shapefiles\n",
    "Use GeoPandas to load Geospatial data  \n",
    "Call function 'segment_heading' to calculate Heading"
   ]
  },
  {
   "cell_type": "code",
   "execution_count": null,
   "metadata": {},
   "outputs": [],
   "source": [
    "line_shp = gpd.read_file(os.path.join('..', 'data', 'Chatt_Master.shp')).to_crs(epsg=2274)\n",
    "node_shp = gpd.read_file(os.path.join('..', 'data', 'Chatt_Master_Node.shp')).to_crs(epsg=2274)\n",
    "\n",
    "# Heading AB\n",
    "line_shp['AB_START_HEADING'] = line_shp['geometry'].apply(segment_heading, first_segment=True)\n",
    "line_shp['AB_END_HEADING'] = line_shp['geometry'].apply(segment_heading, first_segment=False)\n",
    "# Heading BA\n",
    "line_shp['BA_START_HEADING'] = line_shp['geometry'].apply(segment_heading, first_segment=True, flip=True)\n",
    "line_shp['BA_END_HEADING'] = line_shp['geometry'].apply(segment_heading, first_segment=False, flip=True)"
   ]
  },
  {
   "cell_type": "markdown",
   "metadata": {},
   "source": [
    "### Build Network Graph"
   ]
  },
  {
   "cell_type": "markdown",
   "metadata": {},
   "source": [
    "#### Turn Two-Way Links into 2 One-Way Links for Directional Flow.\n",
    "#### Create Function: *directional_links*\n",
    "Keep AB Links and produce BA Links, carrying over link attributes based on the direction of flow."
   ]
  },
  {
   "cell_type": "code",
   "execution_count": null,
   "metadata": {},
   "outputs": [],
   "source": [
    "def directional_links(atts, line_shp):\n",
    "    dirs = {'keep':'AB', 'invert':'BA'}\n",
    "    dfs = {}\n",
    "    \n",
    "    for flow,d in dirs.items():\n",
    "        links = line_shp[line_shp['{}_LANES'.format(d)] > 0].copy()\n",
    "        rename_dict = {'{}{}'.format(d, a):a for a in atts}\n",
    "        links = links.rename(columns=rename_dict)\n",
    "        \n",
    "        if flow == 'invert':\n",
    "            links['A'] = links['TO_ID']\n",
    "            links['B'] = links['FROM_ID']\n",
    "            links = links.drop(columns=['FROM_ID', 'TO_ID']).rename(columns={'A': 'FROM_ID', 'B': 'TO_ID'})\n",
    "        \n",
    "        dfs['{}_links'.format(d)] = links\n",
    "    \n",
    "    links = pd.concat(dfs.values(), ignore_index=True)\n",
    "    \n",
    "    drop_dict = ['{}{}'.format(d, a) for a in atts for d in dirs.values()]\n",
    "    links = links.drop(columns=drop_dict)\n",
    "    \n",
    "    return links"
   ]
  },
  {
   "cell_type": "markdown",
   "metadata": {},
   "source": [
    "#### Generate Directional links with Attributes\n",
    "####  Call Function: *directional_links*\n",
    "Use list of Directional Attributes to carry over, e.g. 'AB_LANES' and 'BA_LANES', to '_LANES' "
   ]
  },
  {
   "cell_type": "code",
   "execution_count": null,
   "metadata": {},
   "outputs": [],
   "source": [
    "# List of Directional Attributes\n",
    "atts = [\n",
    "    '_LINKDIR',\n",
    "    '_LINKDTR',\n",
    "    '_LANES',\n",
    "    '_PARKING',\n",
    "    '_TRIMS',\n",
    "    '_AADT',\n",
    "    '_CAR_ADT',\n",
    "    '_SUT_ADT',\n",
    "    '_MUT_ADT',\n",
    "    '_BASEVOL',\n",
    "    '_AFFTIME',\n",
    "    '_AFFSPD',\n",
    "    '_UCDELAY',\n",
    "    '_DLYCAP',\n",
    "    '_AMCAP',\n",
    "    '_PMCAP',\n",
    "    '_BPRA',\n",
    "    '_BPRB',\n",
    "    '_START_HEADING',\n",
    "    '_END_HEADING'\n",
    "]\n",
    "# Generate Directional Links\n",
    "line_shp = directional_links(atts, line_shp)"
   ]
  },
  {
   "cell_type": "markdown",
   "metadata": {},
   "source": [
    "####  Build the Directional Graph: *g*\n",
    "#### Call Method: *nx.from_pandas_edgelist*"
   ]
  },
  {
   "cell_type": "code",
   "execution_count": null,
   "metadata": {},
   "outputs": [],
   "source": [
    "g = nx.from_pandas_edgelist(\n",
    "    line_shp,\n",
    "    source='FROM_ID',\n",
    "    target='TO_ID',\n",
    "    edge_attr=True,\n",
    "    create_using=nx.DiGraph()\n",
    ")\n",
    "\n",
    "assert nx.is_directed(g)"
   ]
  },
  {
   "cell_type": "markdown",
   "metadata": {},
   "source": [
    "## Run Node VALIDATION TESTS"
   ]
  },
  {
   "cell_type": "markdown",
   "metadata": {},
   "source": [
    "### Summarize IN / OUT Base Volumes"
   ]
  },
  {
   "cell_type": "code",
   "execution_count": null,
   "metadata": {},
   "outputs": [],
   "source": [
    "node_feed = []\n",
    "\n",
    "for node in node_shp['ID']:\n",
    "    if node not in g:\n",
    "        print('Node not in network: {}'.format(node))\n",
    "        continue\n",
    "\n",
    "    values = [node,\n",
    "              sum([d['_BASEVOL'] for a, b, d in g.in_edges(node, data=True) if not np.isnan(d['_BASEVOL'])]),\n",
    "              sum([d['_BASEVOL'] for a, b, d in g.out_edges(node, data=True) if not np.isnan(d['_BASEVOL'])]),\n",
    "             ]\n",
    "    node_feed.append(values)\n",
    "    \n",
    "cols = ['ID', 'in_BASEVOL', 'out_BASEVOL']\n",
    "\n",
    "nodes = pd.DataFrame(node_feed, columns=cols).fillna(0)\n",
    "\n",
    "\n",
    "nodes['_BASEVOL_CHG'] = (((nodes['out_BASEVOL'] - nodes['in_BASEVOL']) / nodes['in_BASEVOL'])*100).round(2)\n",
    "# nodes['_BASEVOL_CHG'] = (nodes['out_BASEVOL'] - nodes['in_BASEVOL']) / nodes['in_BASEVOL']\n",
    "nodes['_BASEVOL_CHG'] = nodes['_BASEVOL_CHG'].replace([np.inf, -np.inf], np.nan).fillna(0)\n",
    "\n",
    "\n",
    "node_BASEVOL = pd.merge(node_shp[['ID', 'CENTROID', 'geometry']], nodes, on='ID', how='left')\n",
    "   \n",
    "node_BASEVOL.head()"
   ]
  },
  {
   "cell_type": "code",
   "execution_count": null,
   "metadata": {},
   "outputs": [],
   "source": [
    "shp_export = os.path.join('..', 'data', 'Node_BASEVOL.shp')\n",
    "node_BASEVOL.to_file(driver = 'ESRI Shapefile', filename=shp_export)"
   ]
  },
  {
   "cell_type": "code",
   "execution_count": null,
   "metadata": {},
   "outputs": [],
   "source": [
    "plt.scatter(\n",
    "    node_BASEVOL['in_BASEVOL'], \n",
    "    node_BASEVOL['out_BASEVOL'], \n",
    "    c=node_BASEVOL['CENTROID'].fillna(0), \n",
    "    cmap=plt.cm.coolwarm\n",
    "    )\n",
    "plt.colorbar()"
   ]
  },
  {
   "cell_type": "code",
   "execution_count": null,
   "metadata": {},
   "outputs": [],
   "source": [
    "node_BASEVOL_NonZero = node_BASEVOL[node_BASEVOL['_BASEVOL_CHG']!=0]\n",
    "plt.scatter(\n",
    "    node_BASEVOL_NonZero['in_BASEVOL'], \n",
    "    node_BASEVOL_NonZero['out_BASEVOL'], \n",
    "    c=node_BASEVOL_NonZero['CENTROID'].fillna(0), \n",
    "    cmap=plt.cm.coolwarm\n",
    "    )\n",
    "plt.colorbar()"
   ]
  },
  {
   "cell_type": "code",
   "execution_count": null,
   "metadata": {},
   "outputs": [],
   "source": [
    "node_BASEVOL.plot(column='_BASEVOL_CHG',\n",
    "                  markersize=node_BASEVOL['_BASEVOL_CHG'],\n",
    "#                   legend=True,\n",
    "                  figsize=(8, 12)\n",
    "                 )"
   ]
  },
  {
   "cell_type": "code",
   "execution_count": null,
   "metadata": {},
   "outputs": [],
   "source": [
    "### CHECK\n",
    "node = 14955\n",
    "\n",
    "[print(d['_BASEVOL']) for a, b, d in g.in_edges(node, data=True) if not np.isnan(d['_BASEVOL'])]\n",
    "[print(d['_BASEVOL']) for a, b, d in g.out_edges(node, data=True) if not np.isnan(d['_BASEVOL'])]"
   ]
  },
  {
   "cell_type": "code",
   "execution_count": null,
   "metadata": {},
   "outputs": [],
   "source": [
    "### CHECK\n",
    "node = 896\n",
    "\n",
    "[print(a, b, d['ID']) for a, b, d in g.in_edges(node, data=True)]\n",
    "[print(a, b, d['ID']) for a, b, d in g.out_edges(node, data=True)]"
   ]
  },
  {
   "cell_type": "code",
   "execution_count": null,
   "metadata": {},
   "outputs": [],
   "source": [
    "line_shp[['FROM_ID', 'TO_ID', 'ID']][line_shp['ID'].isin([9205, 37252])]"
   ]
  },
  {
   "cell_type": "code",
   "execution_count": null,
   "metadata": {},
   "outputs": [],
   "source": [
    "print(g.edges[10415, 896]['ID'])\n",
    "print(g.edges[896, 10415]['ID'])"
   ]
  },
  {
   "cell_type": "code",
   "execution_count": null,
   "metadata": {},
   "outputs": [],
   "source": [
    "list(node_shp)"
   ]
  },
  {
   "cell_type": "code",
   "execution_count": null,
   "metadata": {},
   "outputs": [],
   "source": []
  }
 ],
 "metadata": {
  "kernelspec": {
   "display_name": "Python 3",
   "language": "python",
   "name": "python3"
  },
  "language_info": {
   "codemirror_mode": {
    "name": "ipython",
    "version": 3
   },
   "file_extension": ".py",
   "mimetype": "text/x-python",
   "name": "python",
   "nbconvert_exporter": "python",
   "pygments_lexer": "ipython3",
   "version": "3.6.11"
  }
 },
 "nbformat": 4,
 "nbformat_minor": 2
}
